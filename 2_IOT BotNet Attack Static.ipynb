{
  "nbformat": 4,
  "nbformat_minor": 0,
  "metadata": {
    "colab": {
      "name": "Ass2_AI_in_CS.ipynb",
      "provenance": [],
      "collapsed_sections": [
        "17CerdS8hySV",
        "m9c0cGlgh5KR",
        "ioaE1V1miHJE",
        "ztnfthfdiK6O",
        "XSjSiypjjXiE",
        "8OJqRseZpj_e",
        "pUqJO4caqPLC",
        "4c_UvFFZq8Uq",
        "N03VJ3LGrEh9",
        "VRykw-VvtIIo"
      ]
    },
    "kernelspec": {
      "name": "python3",
      "display_name": "Python 3"
    },
    "language_info": {
      "name": "python"
    }
  },
  "cells": [
    {
      "cell_type": "markdown",
      "metadata": {
        "id": "UNFzY6wChteS"
      },
      "source": [
        "# 1. Import Libraries"
      ]
    },
    {
      "cell_type": "code",
      "metadata": {
        "id": "yM1ectCXyO1s"
      },
      "source": [
        "import pandas as pd\n",
        "from sklearn.ensemble import GradientBoostingClassifier\n",
        "import numpy as np\n",
        "from sklearn.preprocessing import StandardScaler\n",
        "from sklearn.model_selection import train_test_split\n",
        "from sklearn.metrics import classification_report, average_precision_score\n",
        "import pickle\n",
        "from sklearn.tree import DecisionTreeClassifier\n",
        "from joblib import dump, load"
      ],
      "execution_count": 77,
      "outputs": []
    },
    {
      "cell_type": "markdown",
      "metadata": {
        "id": "u2d_nGHFoepz"
      },
      "source": [
        "# **Binary Classifiers: Problem 1**"
      ]
    },
    {
      "cell_type": "markdown",
      "metadata": {
        "id": "17CerdS8hySV"
      },
      "source": [
        "# 2. Data Exploration"
      ]
    },
    {
      "cell_type": "code",
      "metadata": {
        "id": "fRVZpOuty_N3"
      },
      "source": [
        "## read the data\n",
        "df_data = pd.read_csv('/content/cicids_static_data.csv')"
      ],
      "execution_count": 30,
      "outputs": []
    },
    {
      "cell_type": "code",
      "metadata": {
        "id": "wLr14e9wzEDF",
        "colab": {
          "base_uri": "https://localhost:8080/",
          "height": 0
        },
        "outputId": "1bf4a2bf-284f-44e2-e2e9-f0b4cb3393ab"
      },
      "source": [
        "## check the 1st 5 rows\n",
        "df_data.head()"
      ],
      "execution_count": 31,
      "outputs": [
        {
          "output_type": "execute_result",
          "data": {
            "text/html": [
              "<div>\n",
              "<style scoped>\n",
              "    .dataframe tbody tr th:only-of-type {\n",
              "        vertical-align: middle;\n",
              "    }\n",
              "\n",
              "    .dataframe tbody tr th {\n",
              "        vertical-align: top;\n",
              "    }\n",
              "\n",
              "    .dataframe thead th {\n",
              "        text-align: right;\n",
              "    }\n",
              "</style>\n",
              "<table border=\"1\" class=\"dataframe\">\n",
              "  <thead>\n",
              "    <tr style=\"text-align: right;\">\n",
              "      <th></th>\n",
              "      <th>Destination Port</th>\n",
              "      <th>Flow Duration</th>\n",
              "      <th>Total Fwd Packets</th>\n",
              "      <th>Total Backward Packets</th>\n",
              "      <th>Total Length of Fwd Packets</th>\n",
              "      <th>Total Length of Bwd Packets</th>\n",
              "      <th>Fwd Packet Length Max</th>\n",
              "      <th>Fwd Packet Length Min</th>\n",
              "      <th>Fwd Packet Length Mean</th>\n",
              "      <th>Fwd Packet Length Std</th>\n",
              "      <th>Bwd Packet Length Max</th>\n",
              "      <th>Bwd Packet Length Min</th>\n",
              "      <th>Bwd Packet Length Mean</th>\n",
              "      <th>Bwd Packet Length Std</th>\n",
              "      <th>Flow Bytes/s</th>\n",
              "      <th>Flow Packets/s</th>\n",
              "      <th>Flow IAT Mean</th>\n",
              "      <th>Flow IAT Std</th>\n",
              "      <th>Flow IAT Max</th>\n",
              "      <th>Flow IAT Min</th>\n",
              "      <th>Fwd IAT Total</th>\n",
              "      <th>Fwd IAT Mean</th>\n",
              "      <th>Fwd IAT Std</th>\n",
              "      <th>Fwd IAT Max</th>\n",
              "      <th>Fwd IAT Min</th>\n",
              "      <th>Bwd IAT Total</th>\n",
              "      <th>Bwd IAT Mean</th>\n",
              "      <th>Bwd IAT Std</th>\n",
              "      <th>Bwd IAT Max</th>\n",
              "      <th>Bwd IAT Min</th>\n",
              "      <th>Fwd PSH Flags</th>\n",
              "      <th>Bwd PSH Flags</th>\n",
              "      <th>Fwd URG Flags</th>\n",
              "      <th>Bwd URG Flags</th>\n",
              "      <th>Fwd Header Length</th>\n",
              "      <th>Bwd Header Length</th>\n",
              "      <th>Fwd Packets/s</th>\n",
              "      <th>Bwd Packets/s</th>\n",
              "      <th>Min Packet Length</th>\n",
              "      <th>Max Packet Length</th>\n",
              "      <th>Packet Length Mean</th>\n",
              "      <th>Packet Length Std</th>\n",
              "      <th>Packet Length Variance</th>\n",
              "      <th>FIN Flag Count</th>\n",
              "      <th>SYN Flag Count</th>\n",
              "      <th>RST Flag Count</th>\n",
              "      <th>PSH Flag Count</th>\n",
              "      <th>ACK Flag Count</th>\n",
              "      <th>URG Flag Count</th>\n",
              "      <th>CWE Flag Count</th>\n",
              "      <th>ECE Flag Count</th>\n",
              "      <th>Down/Up Ratio</th>\n",
              "      <th>Average Packet Size</th>\n",
              "      <th>Avg Fwd Segment Size</th>\n",
              "      <th>Avg Bwd Segment Size</th>\n",
              "      <th>Fwd Header Length.1</th>\n",
              "      <th>Fwd Avg Bytes/Bulk</th>\n",
              "      <th>Fwd Avg Packets/Bulk</th>\n",
              "      <th>Fwd Avg Bulk Rate</th>\n",
              "      <th>Bwd Avg Bytes/Bulk</th>\n",
              "      <th>Bwd Avg Packets/Bulk</th>\n",
              "      <th>Bwd Avg Bulk Rate</th>\n",
              "      <th>Subflow Fwd Packets</th>\n",
              "      <th>Subflow Fwd Bytes</th>\n",
              "      <th>Subflow Bwd Packets</th>\n",
              "      <th>Subflow Bwd Bytes</th>\n",
              "      <th>Init_Win_bytes_forward</th>\n",
              "      <th>Init_Win_bytes_backward</th>\n",
              "      <th>act_data_pkt_fwd</th>\n",
              "      <th>min_seg_size_forward</th>\n",
              "      <th>Active Mean</th>\n",
              "      <th>Active Std</th>\n",
              "      <th>Active Max</th>\n",
              "      <th>Active Min</th>\n",
              "      <th>Idle Mean</th>\n",
              "      <th>Idle Std</th>\n",
              "      <th>Idle Max</th>\n",
              "      <th>Idle Min</th>\n",
              "      <th>Label</th>\n",
              "    </tr>\n",
              "  </thead>\n",
              "  <tbody>\n",
              "    <tr>\n",
              "      <th>0</th>\n",
              "      <td>53</td>\n",
              "      <td>159</td>\n",
              "      <td>2</td>\n",
              "      <td>2</td>\n",
              "      <td>68</td>\n",
              "      <td>266</td>\n",
              "      <td>34</td>\n",
              "      <td>34</td>\n",
              "      <td>34.0</td>\n",
              "      <td>0.0</td>\n",
              "      <td>133</td>\n",
              "      <td>133</td>\n",
              "      <td>133.0</td>\n",
              "      <td>0.0</td>\n",
              "      <td>2.100629e+06</td>\n",
              "      <td>25157.232700</td>\n",
              "      <td>53.00000</td>\n",
              "      <td>90.066642</td>\n",
              "      <td>157</td>\n",
              "      <td>1</td>\n",
              "      <td>1</td>\n",
              "      <td>1.0</td>\n",
              "      <td>0.0</td>\n",
              "      <td>1</td>\n",
              "      <td>1</td>\n",
              "      <td>1</td>\n",
              "      <td>1.0</td>\n",
              "      <td>0.0</td>\n",
              "      <td>1</td>\n",
              "      <td>1</td>\n",
              "      <td>0</td>\n",
              "      <td>0</td>\n",
              "      <td>0</td>\n",
              "      <td>0</td>\n",
              "      <td>40</td>\n",
              "      <td>40</td>\n",
              "      <td>12578.616350</td>\n",
              "      <td>12578.616350</td>\n",
              "      <td>34</td>\n",
              "      <td>133</td>\n",
              "      <td>73.6</td>\n",
              "      <td>54.224533</td>\n",
              "      <td>2940.3</td>\n",
              "      <td>0</td>\n",
              "      <td>0</td>\n",
              "      <td>0</td>\n",
              "      <td>0</td>\n",
              "      <td>0</td>\n",
              "      <td>0</td>\n",
              "      <td>0</td>\n",
              "      <td>0</td>\n",
              "      <td>1</td>\n",
              "      <td>92.00</td>\n",
              "      <td>34.0</td>\n",
              "      <td>133.0</td>\n",
              "      <td>40</td>\n",
              "      <td>0</td>\n",
              "      <td>0</td>\n",
              "      <td>0</td>\n",
              "      <td>0</td>\n",
              "      <td>0</td>\n",
              "      <td>0</td>\n",
              "      <td>2</td>\n",
              "      <td>68</td>\n",
              "      <td>2</td>\n",
              "      <td>266</td>\n",
              "      <td>-1</td>\n",
              "      <td>-1</td>\n",
              "      <td>1</td>\n",
              "      <td>20</td>\n",
              "      <td>0.0</td>\n",
              "      <td>0.0</td>\n",
              "      <td>0</td>\n",
              "      <td>0</td>\n",
              "      <td>0.0</td>\n",
              "      <td>0.0</td>\n",
              "      <td>0</td>\n",
              "      <td>0</td>\n",
              "      <td>BENIGN</td>\n",
              "    </tr>\n",
              "    <tr>\n",
              "      <th>1</th>\n",
              "      <td>53</td>\n",
              "      <td>51673</td>\n",
              "      <td>2</td>\n",
              "      <td>2</td>\n",
              "      <td>90</td>\n",
              "      <td>166</td>\n",
              "      <td>45</td>\n",
              "      <td>45</td>\n",
              "      <td>45.0</td>\n",
              "      <td>0.0</td>\n",
              "      <td>83</td>\n",
              "      <td>83</td>\n",
              "      <td>83.0</td>\n",
              "      <td>0.0</td>\n",
              "      <td>4.954231e+03</td>\n",
              "      <td>77.409866</td>\n",
              "      <td>17224.33333</td>\n",
              "      <td>29827.358290</td>\n",
              "      <td>51666</td>\n",
              "      <td>3</td>\n",
              "      <td>4</td>\n",
              "      <td>4.0</td>\n",
              "      <td>0.0</td>\n",
              "      <td>4</td>\n",
              "      <td>4</td>\n",
              "      <td>3</td>\n",
              "      <td>3.0</td>\n",
              "      <td>0.0</td>\n",
              "      <td>3</td>\n",
              "      <td>3</td>\n",
              "      <td>0</td>\n",
              "      <td>0</td>\n",
              "      <td>0</td>\n",
              "      <td>0</td>\n",
              "      <td>64</td>\n",
              "      <td>64</td>\n",
              "      <td>38.704933</td>\n",
              "      <td>38.704933</td>\n",
              "      <td>45</td>\n",
              "      <td>83</td>\n",
              "      <td>60.2</td>\n",
              "      <td>20.813457</td>\n",
              "      <td>433.2</td>\n",
              "      <td>0</td>\n",
              "      <td>0</td>\n",
              "      <td>0</td>\n",
              "      <td>0</td>\n",
              "      <td>0</td>\n",
              "      <td>0</td>\n",
              "      <td>0</td>\n",
              "      <td>0</td>\n",
              "      <td>1</td>\n",
              "      <td>75.25</td>\n",
              "      <td>45.0</td>\n",
              "      <td>83.0</td>\n",
              "      <td>64</td>\n",
              "      <td>0</td>\n",
              "      <td>0</td>\n",
              "      <td>0</td>\n",
              "      <td>0</td>\n",
              "      <td>0</td>\n",
              "      <td>0</td>\n",
              "      <td>2</td>\n",
              "      <td>90</td>\n",
              "      <td>2</td>\n",
              "      <td>166</td>\n",
              "      <td>-1</td>\n",
              "      <td>-1</td>\n",
              "      <td>1</td>\n",
              "      <td>32</td>\n",
              "      <td>0.0</td>\n",
              "      <td>0.0</td>\n",
              "      <td>0</td>\n",
              "      <td>0</td>\n",
              "      <td>0.0</td>\n",
              "      <td>0.0</td>\n",
              "      <td>0</td>\n",
              "      <td>0</td>\n",
              "      <td>BENIGN</td>\n",
              "    </tr>\n",
              "    <tr>\n",
              "      <th>2</th>\n",
              "      <td>7496</td>\n",
              "      <td>43</td>\n",
              "      <td>1</td>\n",
              "      <td>1</td>\n",
              "      <td>0</td>\n",
              "      <td>6</td>\n",
              "      <td>0</td>\n",
              "      <td>0</td>\n",
              "      <td>0.0</td>\n",
              "      <td>0.0</td>\n",
              "      <td>6</td>\n",
              "      <td>6</td>\n",
              "      <td>6.0</td>\n",
              "      <td>0.0</td>\n",
              "      <td>1.395349e+05</td>\n",
              "      <td>46511.627910</td>\n",
              "      <td>43.00000</td>\n",
              "      <td>0.000000</td>\n",
              "      <td>43</td>\n",
              "      <td>43</td>\n",
              "      <td>0</td>\n",
              "      <td>0.0</td>\n",
              "      <td>0.0</td>\n",
              "      <td>0</td>\n",
              "      <td>0</td>\n",
              "      <td>0</td>\n",
              "      <td>0.0</td>\n",
              "      <td>0.0</td>\n",
              "      <td>0</td>\n",
              "      <td>0</td>\n",
              "      <td>0</td>\n",
              "      <td>0</td>\n",
              "      <td>0</td>\n",
              "      <td>0</td>\n",
              "      <td>40</td>\n",
              "      <td>20</td>\n",
              "      <td>23255.813950</td>\n",
              "      <td>23255.813950</td>\n",
              "      <td>0</td>\n",
              "      <td>6</td>\n",
              "      <td>2.0</td>\n",
              "      <td>3.464102</td>\n",
              "      <td>12.0</td>\n",
              "      <td>0</td>\n",
              "      <td>0</td>\n",
              "      <td>0</td>\n",
              "      <td>1</td>\n",
              "      <td>0</td>\n",
              "      <td>0</td>\n",
              "      <td>0</td>\n",
              "      <td>0</td>\n",
              "      <td>1</td>\n",
              "      <td>3.00</td>\n",
              "      <td>0.0</td>\n",
              "      <td>6.0</td>\n",
              "      <td>40</td>\n",
              "      <td>0</td>\n",
              "      <td>0</td>\n",
              "      <td>0</td>\n",
              "      <td>0</td>\n",
              "      <td>0</td>\n",
              "      <td>0</td>\n",
              "      <td>1</td>\n",
              "      <td>0</td>\n",
              "      <td>1</td>\n",
              "      <td>6</td>\n",
              "      <td>29200</td>\n",
              "      <td>0</td>\n",
              "      <td>0</td>\n",
              "      <td>40</td>\n",
              "      <td>0.0</td>\n",
              "      <td>0.0</td>\n",
              "      <td>0</td>\n",
              "      <td>0</td>\n",
              "      <td>0.0</td>\n",
              "      <td>0.0</td>\n",
              "      <td>0</td>\n",
              "      <td>0</td>\n",
              "      <td>ATTACK</td>\n",
              "    </tr>\n",
              "    <tr>\n",
              "      <th>3</th>\n",
              "      <td>46564</td>\n",
              "      <td>61</td>\n",
              "      <td>1</td>\n",
              "      <td>1</td>\n",
              "      <td>6</td>\n",
              "      <td>6</td>\n",
              "      <td>6</td>\n",
              "      <td>6</td>\n",
              "      <td>6.0</td>\n",
              "      <td>0.0</td>\n",
              "      <td>6</td>\n",
              "      <td>6</td>\n",
              "      <td>6.0</td>\n",
              "      <td>0.0</td>\n",
              "      <td>1.967213e+05</td>\n",
              "      <td>32786.885250</td>\n",
              "      <td>61.00000</td>\n",
              "      <td>0.000000</td>\n",
              "      <td>61</td>\n",
              "      <td>61</td>\n",
              "      <td>0</td>\n",
              "      <td>0.0</td>\n",
              "      <td>0.0</td>\n",
              "      <td>0</td>\n",
              "      <td>0</td>\n",
              "      <td>0</td>\n",
              "      <td>0.0</td>\n",
              "      <td>0.0</td>\n",
              "      <td>0</td>\n",
              "      <td>0</td>\n",
              "      <td>0</td>\n",
              "      <td>0</td>\n",
              "      <td>0</td>\n",
              "      <td>0</td>\n",
              "      <td>20</td>\n",
              "      <td>20</td>\n",
              "      <td>16393.442620</td>\n",
              "      <td>16393.442620</td>\n",
              "      <td>6</td>\n",
              "      <td>6</td>\n",
              "      <td>6.0</td>\n",
              "      <td>0.000000</td>\n",
              "      <td>0.0</td>\n",
              "      <td>0</td>\n",
              "      <td>0</td>\n",
              "      <td>0</td>\n",
              "      <td>0</td>\n",
              "      <td>1</td>\n",
              "      <td>1</td>\n",
              "      <td>0</td>\n",
              "      <td>0</td>\n",
              "      <td>1</td>\n",
              "      <td>9.00</td>\n",
              "      <td>6.0</td>\n",
              "      <td>6.0</td>\n",
              "      <td>20</td>\n",
              "      <td>0</td>\n",
              "      <td>0</td>\n",
              "      <td>0</td>\n",
              "      <td>0</td>\n",
              "      <td>0</td>\n",
              "      <td>0</td>\n",
              "      <td>1</td>\n",
              "      <td>6</td>\n",
              "      <td>1</td>\n",
              "      <td>6</td>\n",
              "      <td>440</td>\n",
              "      <td>307</td>\n",
              "      <td>0</td>\n",
              "      <td>20</td>\n",
              "      <td>0.0</td>\n",
              "      <td>0.0</td>\n",
              "      <td>0</td>\n",
              "      <td>0</td>\n",
              "      <td>0.0</td>\n",
              "      <td>0.0</td>\n",
              "      <td>0</td>\n",
              "      <td>0</td>\n",
              "      <td>BENIGN</td>\n",
              "    </tr>\n",
              "    <tr>\n",
              "      <th>4</th>\n",
              "      <td>80</td>\n",
              "      <td>69</td>\n",
              "      <td>2</td>\n",
              "      <td>0</td>\n",
              "      <td>0</td>\n",
              "      <td>0</td>\n",
              "      <td>0</td>\n",
              "      <td>0</td>\n",
              "      <td>0.0</td>\n",
              "      <td>0.0</td>\n",
              "      <td>0</td>\n",
              "      <td>0</td>\n",
              "      <td>0.0</td>\n",
              "      <td>0.0</td>\n",
              "      <td>0.000000e+00</td>\n",
              "      <td>28985.507250</td>\n",
              "      <td>69.00000</td>\n",
              "      <td>0.000000</td>\n",
              "      <td>69</td>\n",
              "      <td>69</td>\n",
              "      <td>69</td>\n",
              "      <td>69.0</td>\n",
              "      <td>0.0</td>\n",
              "      <td>69</td>\n",
              "      <td>69</td>\n",
              "      <td>0</td>\n",
              "      <td>0.0</td>\n",
              "      <td>0.0</td>\n",
              "      <td>0</td>\n",
              "      <td>0</td>\n",
              "      <td>0</td>\n",
              "      <td>0</td>\n",
              "      <td>0</td>\n",
              "      <td>0</td>\n",
              "      <td>40</td>\n",
              "      <td>0</td>\n",
              "      <td>28985.507250</td>\n",
              "      <td>0.000000</td>\n",
              "      <td>0</td>\n",
              "      <td>0</td>\n",
              "      <td>0.0</td>\n",
              "      <td>0.000000</td>\n",
              "      <td>0.0</td>\n",
              "      <td>0</td>\n",
              "      <td>0</td>\n",
              "      <td>0</td>\n",
              "      <td>0</td>\n",
              "      <td>1</td>\n",
              "      <td>0</td>\n",
              "      <td>0</td>\n",
              "      <td>0</td>\n",
              "      <td>0</td>\n",
              "      <td>0.00</td>\n",
              "      <td>0.0</td>\n",
              "      <td>0.0</td>\n",
              "      <td>40</td>\n",
              "      <td>0</td>\n",
              "      <td>0</td>\n",
              "      <td>0</td>\n",
              "      <td>0</td>\n",
              "      <td>0</td>\n",
              "      <td>0</td>\n",
              "      <td>2</td>\n",
              "      <td>0</td>\n",
              "      <td>0</td>\n",
              "      <td>0</td>\n",
              "      <td>251</td>\n",
              "      <td>-1</td>\n",
              "      <td>0</td>\n",
              "      <td>20</td>\n",
              "      <td>0.0</td>\n",
              "      <td>0.0</td>\n",
              "      <td>0</td>\n",
              "      <td>0</td>\n",
              "      <td>0.0</td>\n",
              "      <td>0.0</td>\n",
              "      <td>0</td>\n",
              "      <td>0</td>\n",
              "      <td>BENIGN</td>\n",
              "    </tr>\n",
              "  </tbody>\n",
              "</table>\n",
              "</div>"
            ],
            "text/plain": [
              "    Destination Port   Flow Duration  ...   Idle Min   Label\n",
              "0                 53             159  ...          0  BENIGN\n",
              "1                 53           51673  ...          0  BENIGN\n",
              "2               7496              43  ...          0  ATTACK\n",
              "3              46564              61  ...          0  BENIGN\n",
              "4                 80              69  ...          0  BENIGN\n",
              "\n",
              "[5 rows x 79 columns]"
            ]
          },
          "metadata": {},
          "execution_count": 31
        }
      ]
    },
    {
      "cell_type": "code",
      "metadata": {
        "colab": {
          "base_uri": "https://localhost:8080/"
        },
        "id": "aQ-jTApr_Un3",
        "outputId": "a3ed6ae6-2a4e-497c-e66d-34d089f4e001"
      },
      "source": [
        "len(df_data)"
      ],
      "execution_count": 32,
      "outputs": [
        {
          "output_type": "execute_result",
          "data": {
            "text/plain": [
              "25191"
            ]
          },
          "metadata": {},
          "execution_count": 32
        }
      ]
    },
    {
      "cell_type": "code",
      "metadata": {
        "id": "WSDja8oPzF81",
        "colab": {
          "base_uri": "https://localhost:8080/",
          "height": 0
        },
        "outputId": "5b2e9347-01a0-475e-b7cf-d0dad773302e"
      },
      "source": [
        "## some stats about the data\n",
        "df_data.describe()\n",
        "## From this we can drop the columns with only zeros: FWD"
      ],
      "execution_count": 33,
      "outputs": [
        {
          "output_type": "execute_result",
          "data": {
            "text/html": [
              "<div>\n",
              "<style scoped>\n",
              "    .dataframe tbody tr th:only-of-type {\n",
              "        vertical-align: middle;\n",
              "    }\n",
              "\n",
              "    .dataframe tbody tr th {\n",
              "        vertical-align: top;\n",
              "    }\n",
              "\n",
              "    .dataframe thead th {\n",
              "        text-align: right;\n",
              "    }\n",
              "</style>\n",
              "<table border=\"1\" class=\"dataframe\">\n",
              "  <thead>\n",
              "    <tr style=\"text-align: right;\">\n",
              "      <th></th>\n",
              "      <th>Destination Port</th>\n",
              "      <th>Flow Duration</th>\n",
              "      <th>Total Fwd Packets</th>\n",
              "      <th>Total Backward Packets</th>\n",
              "      <th>Total Length of Fwd Packets</th>\n",
              "      <th>Total Length of Bwd Packets</th>\n",
              "      <th>Fwd Packet Length Max</th>\n",
              "      <th>Fwd Packet Length Min</th>\n",
              "      <th>Fwd Packet Length Mean</th>\n",
              "      <th>Fwd Packet Length Std</th>\n",
              "      <th>Bwd Packet Length Max</th>\n",
              "      <th>Bwd Packet Length Min</th>\n",
              "      <th>Bwd Packet Length Mean</th>\n",
              "      <th>Bwd Packet Length Std</th>\n",
              "      <th>Flow Bytes/s</th>\n",
              "      <th>Flow Packets/s</th>\n",
              "      <th>Flow IAT Mean</th>\n",
              "      <th>Flow IAT Std</th>\n",
              "      <th>Flow IAT Max</th>\n",
              "      <th>Flow IAT Min</th>\n",
              "      <th>Fwd IAT Total</th>\n",
              "      <th>Fwd IAT Mean</th>\n",
              "      <th>Fwd IAT Std</th>\n",
              "      <th>Fwd IAT Max</th>\n",
              "      <th>Fwd IAT Min</th>\n",
              "      <th>Bwd IAT Total</th>\n",
              "      <th>Bwd IAT Mean</th>\n",
              "      <th>Bwd IAT Std</th>\n",
              "      <th>Bwd IAT Max</th>\n",
              "      <th>Bwd IAT Min</th>\n",
              "      <th>Fwd PSH Flags</th>\n",
              "      <th>Bwd PSH Flags</th>\n",
              "      <th>Fwd URG Flags</th>\n",
              "      <th>Bwd URG Flags</th>\n",
              "      <th>Fwd Header Length</th>\n",
              "      <th>Bwd Header Length</th>\n",
              "      <th>Fwd Packets/s</th>\n",
              "      <th>Bwd Packets/s</th>\n",
              "      <th>Min Packet Length</th>\n",
              "      <th>Max Packet Length</th>\n",
              "      <th>Packet Length Mean</th>\n",
              "      <th>Packet Length Std</th>\n",
              "      <th>Packet Length Variance</th>\n",
              "      <th>FIN Flag Count</th>\n",
              "      <th>SYN Flag Count</th>\n",
              "      <th>RST Flag Count</th>\n",
              "      <th>PSH Flag Count</th>\n",
              "      <th>ACK Flag Count</th>\n",
              "      <th>URG Flag Count</th>\n",
              "      <th>CWE Flag Count</th>\n",
              "      <th>ECE Flag Count</th>\n",
              "      <th>Down/Up Ratio</th>\n",
              "      <th>Average Packet Size</th>\n",
              "      <th>Avg Fwd Segment Size</th>\n",
              "      <th>Avg Bwd Segment Size</th>\n",
              "      <th>Fwd Header Length.1</th>\n",
              "      <th>Fwd Avg Bytes/Bulk</th>\n",
              "      <th>Fwd Avg Packets/Bulk</th>\n",
              "      <th>Fwd Avg Bulk Rate</th>\n",
              "      <th>Bwd Avg Bytes/Bulk</th>\n",
              "      <th>Bwd Avg Packets/Bulk</th>\n",
              "      <th>Bwd Avg Bulk Rate</th>\n",
              "      <th>Subflow Fwd Packets</th>\n",
              "      <th>Subflow Fwd Bytes</th>\n",
              "      <th>Subflow Bwd Packets</th>\n",
              "      <th>Subflow Bwd Bytes</th>\n",
              "      <th>Init_Win_bytes_forward</th>\n",
              "      <th>Init_Win_bytes_backward</th>\n",
              "      <th>act_data_pkt_fwd</th>\n",
              "      <th>min_seg_size_forward</th>\n",
              "      <th>Active Mean</th>\n",
              "      <th>Active Std</th>\n",
              "      <th>Active Max</th>\n",
              "      <th>Active Min</th>\n",
              "      <th>Idle Mean</th>\n",
              "      <th>Idle Std</th>\n",
              "      <th>Idle Max</th>\n",
              "      <th>Idle Min</th>\n",
              "    </tr>\n",
              "  </thead>\n",
              "  <tbody>\n",
              "    <tr>\n",
              "      <th>count</th>\n",
              "      <td>25191.000000</td>\n",
              "      <td>2.519100e+04</td>\n",
              "      <td>25191.000000</td>\n",
              "      <td>25191.00000</td>\n",
              "      <td>2.519100e+04</td>\n",
              "      <td>2.519100e+04</td>\n",
              "      <td>25191.000000</td>\n",
              "      <td>25191.000000</td>\n",
              "      <td>25191.000000</td>\n",
              "      <td>25191.000000</td>\n",
              "      <td>25191.00000</td>\n",
              "      <td>25191.000000</td>\n",
              "      <td>25191.000000</td>\n",
              "      <td>25191.000000</td>\n",
              "      <td>2.518500e+04</td>\n",
              "      <td>2.519100e+04</td>\n",
              "      <td>2.519100e+04</td>\n",
              "      <td>2.519100e+04</td>\n",
              "      <td>2.519100e+04</td>\n",
              "      <td>2.519100e+04</td>\n",
              "      <td>2.519100e+04</td>\n",
              "      <td>2.519100e+04</td>\n",
              "      <td>2.519100e+04</td>\n",
              "      <td>2.519100e+04</td>\n",
              "      <td>2.519100e+04</td>\n",
              "      <td>2.519100e+04</td>\n",
              "      <td>2.519100e+04</td>\n",
              "      <td>2.519100e+04</td>\n",
              "      <td>2.519100e+04</td>\n",
              "      <td>2.519100e+04</td>\n",
              "      <td>25191.000000</td>\n",
              "      <td>25191.0</td>\n",
              "      <td>25191.000000</td>\n",
              "      <td>25191.0</td>\n",
              "      <td>2.519100e+04</td>\n",
              "      <td>2.519100e+04</td>\n",
              "      <td>2.519100e+04</td>\n",
              "      <td>25191.000000</td>\n",
              "      <td>25191.000000</td>\n",
              "      <td>25191.000000</td>\n",
              "      <td>25191.000000</td>\n",
              "      <td>25191.000000</td>\n",
              "      <td>2.519100e+04</td>\n",
              "      <td>25191.000000</td>\n",
              "      <td>25191.000000</td>\n",
              "      <td>25191.000000</td>\n",
              "      <td>25191.000000</td>\n",
              "      <td>25191.000000</td>\n",
              "      <td>25191.000000</td>\n",
              "      <td>25191.000000</td>\n",
              "      <td>25191.000000</td>\n",
              "      <td>25191.000000</td>\n",
              "      <td>25191.000000</td>\n",
              "      <td>25191.000000</td>\n",
              "      <td>25191.000000</td>\n",
              "      <td>2.519100e+04</td>\n",
              "      <td>25191.0</td>\n",
              "      <td>25191.0</td>\n",
              "      <td>25191.0</td>\n",
              "      <td>25191.0</td>\n",
              "      <td>25191.0</td>\n",
              "      <td>25191.0</td>\n",
              "      <td>25191.000000</td>\n",
              "      <td>2.519100e+04</td>\n",
              "      <td>25191.00000</td>\n",
              "      <td>2.519100e+04</td>\n",
              "      <td>25191.000000</td>\n",
              "      <td>25191.000000</td>\n",
              "      <td>25191.000000</td>\n",
              "      <td>25191.000000</td>\n",
              "      <td>2.519100e+04</td>\n",
              "      <td>2.519100e+04</td>\n",
              "      <td>2.519100e+04</td>\n",
              "      <td>2.519100e+04</td>\n",
              "      <td>2.519100e+04</td>\n",
              "      <td>2.519100e+04</td>\n",
              "      <td>2.519100e+04</td>\n",
              "      <td>2.519100e+04</td>\n",
              "    </tr>\n",
              "    <tr>\n",
              "      <th>mean</th>\n",
              "      <td>8765.751379</td>\n",
              "      <td>1.302190e+07</td>\n",
              "      <td>14.372752</td>\n",
              "      <td>16.80628</td>\n",
              "      <td>5.837956e+02</td>\n",
              "      <td>2.992545e+04</td>\n",
              "      <td>219.933746</td>\n",
              "      <td>20.452860</td>\n",
              "      <td>62.091345</td>\n",
              "      <td>72.396546</td>\n",
              "      <td>624.78143</td>\n",
              "      <td>45.731333</td>\n",
              "      <td>231.531587</td>\n",
              "      <td>227.162493</td>\n",
              "      <td>inf</td>\n",
              "      <td>inf</td>\n",
              "      <td>1.139005e+06</td>\n",
              "      <td>2.295824e+06</td>\n",
              "      <td>6.924351e+06</td>\n",
              "      <td>1.629789e+05</td>\n",
              "      <td>1.269634e+07</td>\n",
              "      <td>2.327944e+06</td>\n",
              "      <td>2.246253e+06</td>\n",
              "      <td>6.762395e+06</td>\n",
              "      <td>1.163676e+06</td>\n",
              "      <td>1.002364e+07</td>\n",
              "      <td>1.843998e+06</td>\n",
              "      <td>1.244500e+06</td>\n",
              "      <td>4.274531e+06</td>\n",
              "      <td>1.092621e+06</td>\n",
              "      <td>0.048787</td>\n",
              "      <td>0.0</td>\n",
              "      <td>0.000079</td>\n",
              "      <td>0.0</td>\n",
              "      <td>3.314755e+02</td>\n",
              "      <td>3.722468e+02</td>\n",
              "      <td>5.995505e+04</td>\n",
              "      <td>6893.287051</td>\n",
              "      <td>18.223850</td>\n",
              "      <td>713.829423</td>\n",
              "      <td>139.739549</td>\n",
              "      <td>220.086914</td>\n",
              "      <td>2.957633e+05</td>\n",
              "      <td>0.026597</td>\n",
              "      <td>0.048787</td>\n",
              "      <td>0.000159</td>\n",
              "      <td>0.280378</td>\n",
              "      <td>0.302013</td>\n",
              "      <td>0.105831</td>\n",
              "      <td>0.000079</td>\n",
              "      <td>0.000159</td>\n",
              "      <td>0.687785</td>\n",
              "      <td>157.253539</td>\n",
              "      <td>62.091345</td>\n",
              "      <td>231.531587</td>\n",
              "      <td>3.314755e+02</td>\n",
              "      <td>0.0</td>\n",
              "      <td>0.0</td>\n",
              "      <td>0.0</td>\n",
              "      <td>0.0</td>\n",
              "      <td>0.0</td>\n",
              "      <td>0.0</td>\n",
              "      <td>14.372752</td>\n",
              "      <td>5.837956e+02</td>\n",
              "      <td>16.80628</td>\n",
              "      <td>2.992641e+04</td>\n",
              "      <td>7068.153348</td>\n",
              "      <td>2338.379024</td>\n",
              "      <td>10.750308</td>\n",
              "      <td>25.890358</td>\n",
              "      <td>8.175780e+04</td>\n",
              "      <td>4.553670e+04</td>\n",
              "      <td>1.631345e+05</td>\n",
              "      <td>5.662674e+04</td>\n",
              "      <td>6.095297e+06</td>\n",
              "      <td>3.628463e+05</td>\n",
              "      <td>6.366900e+06</td>\n",
              "      <td>5.795319e+06</td>\n",
              "    </tr>\n",
              "    <tr>\n",
              "      <th>std</th>\n",
              "      <td>19077.629319</td>\n",
              "      <td>3.191602e+07</td>\n",
              "      <td>1220.476270</td>\n",
              "      <td>1620.27646</td>\n",
              "      <td>7.757115e+03</td>\n",
              "      <td>3.632427e+06</td>\n",
              "      <td>739.251288</td>\n",
              "      <td>60.512982</td>\n",
              "      <td>191.647090</td>\n",
              "      <td>293.360718</td>\n",
              "      <td>1481.65387</td>\n",
              "      <td>70.516212</td>\n",
              "      <td>472.544033</td>\n",
              "      <td>624.163182</td>\n",
              "      <td>NaN</td>\n",
              "      <td>NaN</td>\n",
              "      <td>4.418710e+06</td>\n",
              "      <td>7.231620e+06</td>\n",
              "      <td>2.035185e+07</td>\n",
              "      <td>2.809065e+06</td>\n",
              "      <td>3.181629e+07</td>\n",
              "      <td>9.748498e+06</td>\n",
              "      <td>7.573190e+06</td>\n",
              "      <td>2.040783e+07</td>\n",
              "      <td>9.181693e+06</td>\n",
              "      <td>2.889146e+07</td>\n",
              "      <td>9.324723e+06</td>\n",
              "      <td>5.304017e+06</td>\n",
              "      <td>1.565741e+07</td>\n",
              "      <td>8.915008e+06</td>\n",
              "      <td>0.215427</td>\n",
              "      <td>0.0</td>\n",
              "      <td>0.008910</td>\n",
              "      <td>0.0</td>\n",
              "      <td>2.493288e+04</td>\n",
              "      <td>3.240846e+04</td>\n",
              "      <td>2.337848e+05</td>\n",
              "      <td>39174.193402</td>\n",
              "      <td>26.166304</td>\n",
              "      <td>1606.101337</td>\n",
              "      <td>252.870523</td>\n",
              "      <td>497.329648</td>\n",
              "      <td>1.240815e+06</td>\n",
              "      <td>0.160905</td>\n",
              "      <td>0.215427</td>\n",
              "      <td>0.012600</td>\n",
              "      <td>0.449193</td>\n",
              "      <td>0.459140</td>\n",
              "      <td>0.307628</td>\n",
              "      <td>0.008910</td>\n",
              "      <td>0.012600</td>\n",
              "      <td>0.666127</td>\n",
              "      <td>273.365361</td>\n",
              "      <td>191.647090</td>\n",
              "      <td>472.544033</td>\n",
              "      <td>2.493288e+04</td>\n",
              "      <td>0.0</td>\n",
              "      <td>0.0</td>\n",
              "      <td>0.0</td>\n",
              "      <td>0.0</td>\n",
              "      <td>0.0</td>\n",
              "      <td>0.0</td>\n",
              "      <td>1220.476270</td>\n",
              "      <td>7.757115e+03</td>\n",
              "      <td>1620.27646</td>\n",
              "      <td>3.632433e+06</td>\n",
              "      <td>14824.236344</td>\n",
              "      <td>9227.293545</td>\n",
              "      <td>1179.682409</td>\n",
              "      <td>6.436242</td>\n",
              "      <td>8.378623e+05</td>\n",
              "      <td>4.001228e+05</td>\n",
              "      <td>1.208254e+06</td>\n",
              "      <td>7.917691e+05</td>\n",
              "      <td>1.949681e+07</td>\n",
              "      <td>3.767660e+06</td>\n",
              "      <td>2.013473e+07</td>\n",
              "      <td>1.923531e+07</td>\n",
              "    </tr>\n",
              "    <tr>\n",
              "      <th>min</th>\n",
              "      <td>0.000000</td>\n",
              "      <td>-1.000000e+00</td>\n",
              "      <td>1.000000</td>\n",
              "      <td>0.00000</td>\n",
              "      <td>0.000000e+00</td>\n",
              "      <td>0.000000e+00</td>\n",
              "      <td>0.000000</td>\n",
              "      <td>0.000000</td>\n",
              "      <td>0.000000</td>\n",
              "      <td>0.000000</td>\n",
              "      <td>0.00000</td>\n",
              "      <td>0.000000</td>\n",
              "      <td>0.000000</td>\n",
              "      <td>0.000000</td>\n",
              "      <td>-1.200000e+07</td>\n",
              "      <td>-2.000000e+06</td>\n",
              "      <td>-1.000000e+00</td>\n",
              "      <td>0.000000e+00</td>\n",
              "      <td>-1.000000e+00</td>\n",
              "      <td>-1.200000e+01</td>\n",
              "      <td>0.000000e+00</td>\n",
              "      <td>0.000000e+00</td>\n",
              "      <td>0.000000e+00</td>\n",
              "      <td>0.000000e+00</td>\n",
              "      <td>0.000000e+00</td>\n",
              "      <td>0.000000e+00</td>\n",
              "      <td>0.000000e+00</td>\n",
              "      <td>0.000000e+00</td>\n",
              "      <td>0.000000e+00</td>\n",
              "      <td>0.000000e+00</td>\n",
              "      <td>0.000000</td>\n",
              "      <td>0.0</td>\n",
              "      <td>0.000000</td>\n",
              "      <td>0.0</td>\n",
              "      <td>0.000000e+00</td>\n",
              "      <td>0.000000e+00</td>\n",
              "      <td>0.000000e+00</td>\n",
              "      <td>0.000000</td>\n",
              "      <td>0.000000</td>\n",
              "      <td>0.000000</td>\n",
              "      <td>0.000000</td>\n",
              "      <td>0.000000</td>\n",
              "      <td>0.000000e+00</td>\n",
              "      <td>0.000000</td>\n",
              "      <td>0.000000</td>\n",
              "      <td>0.000000</td>\n",
              "      <td>0.000000</td>\n",
              "      <td>0.000000</td>\n",
              "      <td>0.000000</td>\n",
              "      <td>0.000000</td>\n",
              "      <td>0.000000</td>\n",
              "      <td>0.000000</td>\n",
              "      <td>0.000000</td>\n",
              "      <td>0.000000</td>\n",
              "      <td>0.000000</td>\n",
              "      <td>0.000000e+00</td>\n",
              "      <td>0.0</td>\n",
              "      <td>0.0</td>\n",
              "      <td>0.0</td>\n",
              "      <td>0.0</td>\n",
              "      <td>0.0</td>\n",
              "      <td>0.0</td>\n",
              "      <td>1.000000</td>\n",
              "      <td>0.000000e+00</td>\n",
              "      <td>0.00000</td>\n",
              "      <td>0.000000e+00</td>\n",
              "      <td>-1.000000</td>\n",
              "      <td>-1.000000</td>\n",
              "      <td>0.000000</td>\n",
              "      <td>0.000000</td>\n",
              "      <td>0.000000e+00</td>\n",
              "      <td>0.000000e+00</td>\n",
              "      <td>0.000000e+00</td>\n",
              "      <td>0.000000e+00</td>\n",
              "      <td>0.000000e+00</td>\n",
              "      <td>0.000000e+00</td>\n",
              "      <td>0.000000e+00</td>\n",
              "      <td>0.000000e+00</td>\n",
              "    </tr>\n",
              "    <tr>\n",
              "      <th>25%</th>\n",
              "      <td>53.000000</td>\n",
              "      <td>1.670000e+02</td>\n",
              "      <td>2.000000</td>\n",
              "      <td>1.00000</td>\n",
              "      <td>1.200000e+01</td>\n",
              "      <td>6.000000e+00</td>\n",
              "      <td>6.000000</td>\n",
              "      <td>0.000000</td>\n",
              "      <td>6.000000</td>\n",
              "      <td>0.000000</td>\n",
              "      <td>6.00000</td>\n",
              "      <td>0.000000</td>\n",
              "      <td>2.000000</td>\n",
              "      <td>0.000000</td>\n",
              "      <td>1.194258e+02</td>\n",
              "      <td>6.526833e+00</td>\n",
              "      <td>6.566667e+01</td>\n",
              "      <td>0.000000e+00</td>\n",
              "      <td>1.370000e+02</td>\n",
              "      <td>3.000000e+00</td>\n",
              "      <td>1.000000e+00</td>\n",
              "      <td>1.000000e+00</td>\n",
              "      <td>0.000000e+00</td>\n",
              "      <td>1.000000e+00</td>\n",
              "      <td>0.000000e+00</td>\n",
              "      <td>0.000000e+00</td>\n",
              "      <td>0.000000e+00</td>\n",
              "      <td>0.000000e+00</td>\n",
              "      <td>0.000000e+00</td>\n",
              "      <td>0.000000e+00</td>\n",
              "      <td>0.000000</td>\n",
              "      <td>0.0</td>\n",
              "      <td>0.000000</td>\n",
              "      <td>0.0</td>\n",
              "      <td>4.000000e+01</td>\n",
              "      <td>2.000000e+01</td>\n",
              "      <td>3.332986e+00</td>\n",
              "      <td>0.177968</td>\n",
              "      <td>0.000000</td>\n",
              "      <td>6.000000</td>\n",
              "      <td>6.000000</td>\n",
              "      <td>0.000000</td>\n",
              "      <td>0.000000e+00</td>\n",
              "      <td>0.000000</td>\n",
              "      <td>0.000000</td>\n",
              "      <td>0.000000</td>\n",
              "      <td>0.000000</td>\n",
              "      <td>0.000000</td>\n",
              "      <td>0.000000</td>\n",
              "      <td>0.000000</td>\n",
              "      <td>0.000000</td>\n",
              "      <td>0.000000</td>\n",
              "      <td>9.000000</td>\n",
              "      <td>6.000000</td>\n",
              "      <td>2.000000</td>\n",
              "      <td>4.000000e+01</td>\n",
              "      <td>0.0</td>\n",
              "      <td>0.0</td>\n",
              "      <td>0.0</td>\n",
              "      <td>0.0</td>\n",
              "      <td>0.0</td>\n",
              "      <td>0.0</td>\n",
              "      <td>2.000000</td>\n",
              "      <td>1.200000e+01</td>\n",
              "      <td>1.00000</td>\n",
              "      <td>6.000000e+00</td>\n",
              "      <td>-1.000000</td>\n",
              "      <td>-1.000000</td>\n",
              "      <td>0.000000</td>\n",
              "      <td>20.000000</td>\n",
              "      <td>0.000000e+00</td>\n",
              "      <td>0.000000e+00</td>\n",
              "      <td>0.000000e+00</td>\n",
              "      <td>0.000000e+00</td>\n",
              "      <td>0.000000e+00</td>\n",
              "      <td>0.000000e+00</td>\n",
              "      <td>0.000000e+00</td>\n",
              "      <td>0.000000e+00</td>\n",
              "    </tr>\n",
              "    <tr>\n",
              "      <th>50%</th>\n",
              "      <td>80.000000</td>\n",
              "      <td>3.132600e+04</td>\n",
              "      <td>2.000000</td>\n",
              "      <td>2.00000</td>\n",
              "      <td>6.400000e+01</td>\n",
              "      <td>1.280000e+02</td>\n",
              "      <td>38.000000</td>\n",
              "      <td>6.000000</td>\n",
              "      <td>36.000000</td>\n",
              "      <td>0.000000</td>\n",
              "      <td>83.00000</td>\n",
              "      <td>6.000000</td>\n",
              "      <td>75.000000</td>\n",
              "      <td>0.000000</td>\n",
              "      <td>4.717414e+03</td>\n",
              "      <td>1.073103e+02</td>\n",
              "      <td>1.169300e+04</td>\n",
              "      <td>1.212436e+02</td>\n",
              "      <td>3.089000e+04</td>\n",
              "      <td>4.000000e+00</td>\n",
              "      <td>4.000000e+00</td>\n",
              "      <td>4.000000e+00</td>\n",
              "      <td>0.000000e+00</td>\n",
              "      <td>4.000000e+00</td>\n",
              "      <td>3.000000e+00</td>\n",
              "      <td>3.000000e+00</td>\n",
              "      <td>3.000000e+00</td>\n",
              "      <td>0.000000e+00</td>\n",
              "      <td>3.000000e+00</td>\n",
              "      <td>2.000000e+00</td>\n",
              "      <td>0.000000</td>\n",
              "      <td>0.0</td>\n",
              "      <td>0.000000</td>\n",
              "      <td>0.0</td>\n",
              "      <td>6.400000e+01</td>\n",
              "      <td>4.000000e+01</td>\n",
              "      <td>6.131396e+01</td>\n",
              "      <td>20.963921</td>\n",
              "      <td>6.000000</td>\n",
              "      <td>90.000000</td>\n",
              "      <td>58.028571</td>\n",
              "      <td>27.135463</td>\n",
              "      <td>7.363333e+02</td>\n",
              "      <td>0.000000</td>\n",
              "      <td>0.000000</td>\n",
              "      <td>0.000000</td>\n",
              "      <td>0.000000</td>\n",
              "      <td>0.000000</td>\n",
              "      <td>0.000000</td>\n",
              "      <td>0.000000</td>\n",
              "      <td>0.000000</td>\n",
              "      <td>1.000000</td>\n",
              "      <td>73.250000</td>\n",
              "      <td>36.000000</td>\n",
              "      <td>75.000000</td>\n",
              "      <td>6.400000e+01</td>\n",
              "      <td>0.0</td>\n",
              "      <td>0.0</td>\n",
              "      <td>0.0</td>\n",
              "      <td>0.0</td>\n",
              "      <td>0.0</td>\n",
              "      <td>0.0</td>\n",
              "      <td>2.000000</td>\n",
              "      <td>6.400000e+01</td>\n",
              "      <td>2.00000</td>\n",
              "      <td>1.280000e+02</td>\n",
              "      <td>235.000000</td>\n",
              "      <td>-1.000000</td>\n",
              "      <td>1.000000</td>\n",
              "      <td>20.000000</td>\n",
              "      <td>0.000000e+00</td>\n",
              "      <td>0.000000e+00</td>\n",
              "      <td>0.000000e+00</td>\n",
              "      <td>0.000000e+00</td>\n",
              "      <td>0.000000e+00</td>\n",
              "      <td>0.000000e+00</td>\n",
              "      <td>0.000000e+00</td>\n",
              "      <td>0.000000e+00</td>\n",
              "    </tr>\n",
              "    <tr>\n",
              "      <th>75%</th>\n",
              "      <td>443.000000</td>\n",
              "      <td>1.461366e+06</td>\n",
              "      <td>4.000000</td>\n",
              "      <td>4.00000</td>\n",
              "      <td>1.760000e+02</td>\n",
              "      <td>3.860000e+02</td>\n",
              "      <td>74.000000</td>\n",
              "      <td>38.000000</td>\n",
              "      <td>51.000000</td>\n",
              "      <td>23.276598</td>\n",
              "      <td>211.00000</td>\n",
              "      <td>87.000000</td>\n",
              "      <td>166.000000</td>\n",
              "      <td>15.418995</td>\n",
              "      <td>1.860465e+05</td>\n",
              "      <td>2.209945e+04</td>\n",
              "      <td>2.024310e+05</td>\n",
              "      <td>2.557764e+05</td>\n",
              "      <td>1.042964e+06</td>\n",
              "      <td>7.200000e+01</td>\n",
              "      <td>4.985900e+05</td>\n",
              "      <td>7.910771e+04</td>\n",
              "      <td>3.382411e+04</td>\n",
              "      <td>2.468160e+05</td>\n",
              "      <td>4.900000e+01</td>\n",
              "      <td>7.554750e+04</td>\n",
              "      <td>1.337233e+04</td>\n",
              "      <td>8.067318e+03</td>\n",
              "      <td>4.339350e+04</td>\n",
              "      <td>2.350000e+01</td>\n",
              "      <td>0.000000</td>\n",
              "      <td>0.0</td>\n",
              "      <td>0.000000</td>\n",
              "      <td>0.0</td>\n",
              "      <td>1.040000e+02</td>\n",
              "      <td>9.200000e+01</td>\n",
              "      <td>1.149425e+04</td>\n",
              "      <td>6172.839506</td>\n",
              "      <td>38.000000</td>\n",
              "      <td>295.000000</td>\n",
              "      <td>105.366667</td>\n",
              "      <td>128.167079</td>\n",
              "      <td>1.642680e+04</td>\n",
              "      <td>0.000000</td>\n",
              "      <td>0.000000</td>\n",
              "      <td>0.000000</td>\n",
              "      <td>1.000000</td>\n",
              "      <td>1.000000</td>\n",
              "      <td>0.000000</td>\n",
              "      <td>0.000000</td>\n",
              "      <td>0.000000</td>\n",
              "      <td>1.000000</td>\n",
              "      <td>135.325000</td>\n",
              "      <td>51.000000</td>\n",
              "      <td>166.000000</td>\n",
              "      <td>1.040000e+02</td>\n",
              "      <td>0.0</td>\n",
              "      <td>0.0</td>\n",
              "      <td>0.0</td>\n",
              "      <td>0.0</td>\n",
              "      <td>0.0</td>\n",
              "      <td>0.0</td>\n",
              "      <td>4.000000</td>\n",
              "      <td>1.760000e+02</td>\n",
              "      <td>4.00000</td>\n",
              "      <td>3.860000e+02</td>\n",
              "      <td>8192.000000</td>\n",
              "      <td>235.000000</td>\n",
              "      <td>2.000000</td>\n",
              "      <td>32.000000</td>\n",
              "      <td>0.000000e+00</td>\n",
              "      <td>0.000000e+00</td>\n",
              "      <td>0.000000e+00</td>\n",
              "      <td>0.000000e+00</td>\n",
              "      <td>0.000000e+00</td>\n",
              "      <td>0.000000e+00</td>\n",
              "      <td>0.000000e+00</td>\n",
              "      <td>0.000000e+00</td>\n",
              "    </tr>\n",
              "    <tr>\n",
              "      <th>max</th>\n",
              "      <td>65464.000000</td>\n",
              "      <td>1.199998e+08</td>\n",
              "      <td>193200.000000</td>\n",
              "      <td>256740.00000</td>\n",
              "      <td>1.162781e+06</td>\n",
              "      <td>5.756816e+08</td>\n",
              "      <td>11632.000000</td>\n",
              "      <td>1983.000000</td>\n",
              "      <td>2901.750000</td>\n",
              "      <td>5795.500690</td>\n",
              "      <td>11680.00000</td>\n",
              "      <td>1460.000000</td>\n",
              "      <td>3867.000000</td>\n",
              "      <td>6692.644993</td>\n",
              "      <td>inf</td>\n",
              "      <td>inf</td>\n",
              "      <td>9.630000e+07</td>\n",
              "      <td>8.190000e+07</td>\n",
              "      <td>1.200000e+08</td>\n",
              "      <td>9.630000e+07</td>\n",
              "      <td>1.200000e+08</td>\n",
              "      <td>1.200000e+08</td>\n",
              "      <td>8.270000e+07</td>\n",
              "      <td>1.200000e+08</td>\n",
              "      <td>1.200000e+08</td>\n",
              "      <td>1.200000e+08</td>\n",
              "      <td>1.200000e+08</td>\n",
              "      <td>8.260000e+07</td>\n",
              "      <td>1.200000e+08</td>\n",
              "      <td>1.200000e+08</td>\n",
              "      <td>1.000000</td>\n",
              "      <td>0.0</td>\n",
              "      <td>1.000000</td>\n",
              "      <td>0.0</td>\n",
              "      <td>3.939424e+06</td>\n",
              "      <td>5.134800e+06</td>\n",
              "      <td>3.000000e+06</td>\n",
              "      <td>1000000.000000</td>\n",
              "      <td>1306.000000</td>\n",
              "      <td>11680.000000</td>\n",
              "      <td>2161.280000</td>\n",
              "      <td>4380.487987</td>\n",
              "      <td>1.920000e+07</td>\n",
              "      <td>1.000000</td>\n",
              "      <td>1.000000</td>\n",
              "      <td>1.000000</td>\n",
              "      <td>1.000000</td>\n",
              "      <td>1.000000</td>\n",
              "      <td>1.000000</td>\n",
              "      <td>1.000000</td>\n",
              "      <td>1.000000</td>\n",
              "      <td>7.000000</td>\n",
              "      <td>2251.333333</td>\n",
              "      <td>2901.750000</td>\n",
              "      <td>3867.000000</td>\n",
              "      <td>3.939424e+06</td>\n",
              "      <td>0.0</td>\n",
              "      <td>0.0</td>\n",
              "      <td>0.0</td>\n",
              "      <td>0.0</td>\n",
              "      <td>0.0</td>\n",
              "      <td>0.0</td>\n",
              "      <td>193200.000000</td>\n",
              "      <td>1.162781e+06</td>\n",
              "      <td>256740.00000</td>\n",
              "      <td>5.756816e+08</td>\n",
              "      <td>65535.000000</td>\n",
              "      <td>65535.000000</td>\n",
              "      <td>187113.000000</td>\n",
              "      <td>60.000000</td>\n",
              "      <td>1.016597e+08</td>\n",
              "      <td>2.529324e+07</td>\n",
              "      <td>1.016597e+08</td>\n",
              "      <td>1.016597e+08</td>\n",
              "      <td>1.200000e+08</td>\n",
              "      <td>6.270000e+07</td>\n",
              "      <td>1.200000e+08</td>\n",
              "      <td>1.200000e+08</td>\n",
              "    </tr>\n",
              "  </tbody>\n",
              "</table>\n",
              "</div>"
            ],
            "text/plain": [
              "        Destination Port   Flow Duration  ...      Idle Max      Idle Min\n",
              "count       25191.000000    2.519100e+04  ...  2.519100e+04  2.519100e+04\n",
              "mean         8765.751379    1.302190e+07  ...  6.366900e+06  5.795319e+06\n",
              "std         19077.629319    3.191602e+07  ...  2.013473e+07  1.923531e+07\n",
              "min             0.000000   -1.000000e+00  ...  0.000000e+00  0.000000e+00\n",
              "25%            53.000000    1.670000e+02  ...  0.000000e+00  0.000000e+00\n",
              "50%            80.000000    3.132600e+04  ...  0.000000e+00  0.000000e+00\n",
              "75%           443.000000    1.461366e+06  ...  0.000000e+00  0.000000e+00\n",
              "max         65464.000000    1.199998e+08  ...  1.200000e+08  1.200000e+08\n",
              "\n",
              "[8 rows x 78 columns]"
            ]
          },
          "metadata": {},
          "execution_count": 33
        }
      ]
    },
    {
      "cell_type": "code",
      "metadata": {
        "id": "2M6ndtfIzPGz",
        "colab": {
          "base_uri": "https://localhost:8080/"
        },
        "outputId": "e3a93ef4-1e80-4ab9-90df-56144402bac4"
      },
      "source": [
        "## get names of columns of data\n",
        "df_data.columns"
      ],
      "execution_count": 34,
      "outputs": [
        {
          "output_type": "execute_result",
          "data": {
            "text/plain": [
              "Index([' Destination Port', ' Flow Duration', ' Total Fwd Packets',\n",
              "       ' Total Backward Packets', 'Total Length of Fwd Packets',\n",
              "       ' Total Length of Bwd Packets', ' Fwd Packet Length Max',\n",
              "       ' Fwd Packet Length Min', ' Fwd Packet Length Mean',\n",
              "       ' Fwd Packet Length Std', 'Bwd Packet Length Max',\n",
              "       ' Bwd Packet Length Min', ' Bwd Packet Length Mean',\n",
              "       ' Bwd Packet Length Std', 'Flow Bytes/s', ' Flow Packets/s',\n",
              "       ' Flow IAT Mean', ' Flow IAT Std', ' Flow IAT Max', ' Flow IAT Min',\n",
              "       'Fwd IAT Total', ' Fwd IAT Mean', ' Fwd IAT Std', ' Fwd IAT Max',\n",
              "       ' Fwd IAT Min', 'Bwd IAT Total', ' Bwd IAT Mean', ' Bwd IAT Std',\n",
              "       ' Bwd IAT Max', ' Bwd IAT Min', 'Fwd PSH Flags', ' Bwd PSH Flags',\n",
              "       ' Fwd URG Flags', ' Bwd URG Flags', ' Fwd Header Length',\n",
              "       ' Bwd Header Length', 'Fwd Packets/s', ' Bwd Packets/s',\n",
              "       ' Min Packet Length', ' Max Packet Length', ' Packet Length Mean',\n",
              "       ' Packet Length Std', ' Packet Length Variance', 'FIN Flag Count',\n",
              "       ' SYN Flag Count', ' RST Flag Count', ' PSH Flag Count',\n",
              "       ' ACK Flag Count', ' URG Flag Count', ' CWE Flag Count',\n",
              "       ' ECE Flag Count', ' Down/Up Ratio', ' Average Packet Size',\n",
              "       ' Avg Fwd Segment Size', ' Avg Bwd Segment Size',\n",
              "       ' Fwd Header Length.1', 'Fwd Avg Bytes/Bulk', ' Fwd Avg Packets/Bulk',\n",
              "       ' Fwd Avg Bulk Rate', ' Bwd Avg Bytes/Bulk', ' Bwd Avg Packets/Bulk',\n",
              "       'Bwd Avg Bulk Rate', 'Subflow Fwd Packets', ' Subflow Fwd Bytes',\n",
              "       ' Subflow Bwd Packets', ' Subflow Bwd Bytes', 'Init_Win_bytes_forward',\n",
              "       ' Init_Win_bytes_backward', ' act_data_pkt_fwd',\n",
              "       ' min_seg_size_forward', 'Active Mean', ' Active Std', ' Active Max',\n",
              "       ' Active Min', 'Idle Mean', ' Idle Std', ' Idle Max', ' Idle Min',\n",
              "       'Label'],\n",
              "      dtype='object')"
            ]
          },
          "metadata": {},
          "execution_count": 34
        }
      ]
    },
    {
      "cell_type": "markdown",
      "metadata": {
        "id": "m9c0cGlgh5KR"
      },
      "source": [
        "# 3. Data Cleaning (Remove NaNs and Infinities)"
      ]
    },
    {
      "cell_type": "code",
      "metadata": {
        "colab": {
          "base_uri": "https://localhost:8080/"
        },
        "id": "fT6SNy_w1cUW",
        "outputId": "660fdbaa-c250-4174-8c5f-d84d744b7e98"
      },
      "source": [
        "## get the columns with null values greater than zero\n",
        "df_data.columns[df_data.isna().sum() >0]"
      ],
      "execution_count": 35,
      "outputs": [
        {
          "output_type": "execute_result",
          "data": {
            "text/plain": [
              "Index(['Flow Bytes/s'], dtype='object')"
            ]
          },
          "metadata": {},
          "execution_count": 35
        }
      ]
    },
    {
      "cell_type": "code",
      "metadata": {
        "colab": {
          "base_uri": "https://localhost:8080/"
        },
        "id": "yDXjp7y_2tmv",
        "outputId": "e33186c7-c73b-4b0f-a768-d99b4b55217e"
      },
      "source": [
        "## check if this column has really missing values\n",
        "df_data['Flow Bytes/s'].isna().sum()"
      ],
      "execution_count": 36,
      "outputs": [
        {
          "output_type": "execute_result",
          "data": {
            "text/plain": [
              "6"
            ]
          },
          "metadata": {},
          "execution_count": 36
        }
      ]
    },
    {
      "cell_type": "markdown",
      "metadata": {
        "id": "rT-cvklph_vz"
      },
      "source": [
        "Here there was a problem in dropping the infinity values; even though I'd drop them they persist and keep being there: some reasons:\n",
        "1.  There might be no nulls but 'np.inf' values\n",
        "2.   Check from the describe if there are any inf values for different columns (as these won't appear in conditions of nulls)\n",
        "3.   Drop by condition better than the index as this might be tricky; condition gets it at once with inplace = True\n",
        "4.   I'm not sure if this affected but make a copy for the dataframe to drop on"
      ]
    },
    {
      "cell_type": "code",
      "metadata": {
        "id": "EBgAvN-b8I4Z"
      },
      "source": [
        "## Drop nulls ==> this drops the nulls in flow/bytes\n",
        "## Since the dataframe is of a quite large number we can easily drop the values ((we don't need to know the column or anything; the above trials was for us))\n",
        "## But we need to remove it from the whole dataframe\n",
        "df_data_copy = df_data.copy()\n",
        "df_data_na = df_data_copy.dropna()"
      ],
      "execution_count": 37,
      "outputs": []
    },
    {
      "cell_type": "code",
      "metadata": {
        "colab": {
          "base_uri": "https://localhost:8080/"
        },
        "id": "W1YhJIxFAIlW",
        "outputId": "d2e686c4-8a5d-43dc-ec8a-015efc172d65"
      },
      "source": [
        "## length should be less by 6\n",
        "len(df_data_na)"
      ],
      "execution_count": 38,
      "outputs": [
        {
          "output_type": "execute_result",
          "data": {
            "text/plain": [
              "25185"
            ]
          },
          "metadata": {},
          "execution_count": 38
        }
      ]
    },
    {
      "cell_type": "code",
      "metadata": {
        "colab": {
          "base_uri": "https://localhost:8080/"
        },
        "id": "okF_yemXD16E",
        "outputId": "e42da74e-c646-4b73-b2f3-1794be7988a7"
      },
      "source": [
        "# Here we drop the infinity values in Flow Bytes\n",
        "df_data_na.drop(df_data_na[df_data_na['Flow Bytes/s'] == np.inf].index, inplace = True)"
      ],
      "execution_count": 39,
      "outputs": [
        {
          "output_type": "stream",
          "name": "stderr",
          "text": [
            "/usr/local/lib/python3.7/dist-packages/pandas/core/frame.py:4174: SettingWithCopyWarning: \n",
            "A value is trying to be set on a copy of a slice from a DataFrame\n",
            "\n",
            "See the caveats in the documentation: https://pandas.pydata.org/pandas-docs/stable/user_guide/indexing.html#returning-a-view-versus-a-copy\n",
            "  errors=errors,\n"
          ]
        }
      ]
    },
    {
      "cell_type": "code",
      "metadata": {
        "colab": {
          "base_uri": "https://localhost:8080/"
        },
        "id": "kfCUxuM_EXlN",
        "outputId": "5c483969-db57-4920-fa48-ba52fe21733f"
      },
      "source": [
        "## Recheck\n",
        "idx = df_data_na.index[df_data_na['Flow Bytes/s'] == np.inf]\n",
        "idx = list(idx)\n",
        "print(idx, df_data_na['Flow Bytes/s'].isna().sum())"
      ],
      "execution_count": 40,
      "outputs": [
        {
          "output_type": "stream",
          "name": "stdout",
          "text": [
            "[] 0\n"
          ]
        }
      ]
    },
    {
      "cell_type": "code",
      "metadata": {
        "colab": {
          "base_uri": "https://localhost:8080/"
        },
        "id": "Gy_uPJDuAUKt",
        "outputId": "d3cdf84a-ebed-4cfa-cf39-624efe5fa326"
      },
      "source": [
        "## we can see the range of values (-1.2x10^-7 to 1.86*10^5) if we want to replace the NaN by mean value: the value was fixed\n",
        "df_data_na['Flow Bytes/s'].describe()"
      ],
      "execution_count": 41,
      "outputs": [
        {
          "output_type": "execute_result",
          "data": {
            "text/plain": [
              "count    2.517900e+04\n",
              "mean     1.661845e+06\n",
              "std      2.785234e+07\n",
              "min     -1.200000e+07\n",
              "25%      1.194084e+02\n",
              "50%      4.713444e+03\n",
              "75%      1.860465e+05\n",
              "max      2.071000e+09\n",
              "Name: Flow Bytes/s, dtype: float64"
            ]
          },
          "metadata": {},
          "execution_count": 41
        }
      ]
    },
    {
      "cell_type": "code",
      "metadata": {
        "colab": {
          "base_uri": "https://localhost:8080/"
        },
        "id": "eHEMaxKkAa99",
        "outputId": "0bec5e93-68da-4655-fce3-79d440d33d17"
      },
      "source": [
        "### Now we need to remove the infinity values in Flow Packets ==> we can see there are no inf values\n",
        "idx2 = df_data_na.index[df_data_na[' Flow Packets/s'] == np.inf]\n",
        "idx2"
      ],
      "execution_count": 42,
      "outputs": [
        {
          "output_type": "execute_result",
          "data": {
            "text/plain": [
              "Int64Index([], dtype='int64')"
            ]
          },
          "metadata": {},
          "execution_count": 42
        }
      ]
    },
    {
      "cell_type": "code",
      "metadata": {
        "colab": {
          "base_uri": "https://localhost:8080/"
        },
        "id": "fIIj_NU659f2",
        "outputId": "8707ae66-50b1-4dab-d129-631579b426c8"
      },
      "source": [
        "df_data_na[' Flow Packets/s'].describe() ## And its describe is cleaned now"
      ],
      "execution_count": 43,
      "outputs": [
        {
          "output_type": "execute_result",
          "data": {
            "text/plain": [
              "count    2.517900e+04\n",
              "mean     6.680076e+04\n",
              "std      2.420045e+05\n",
              "min     -2.000000e+06\n",
              "25%      6.514248e+00\n",
              "50%      1.070754e+02\n",
              "75%      2.209945e+04\n",
              "max      3.000000e+06\n",
              "Name:  Flow Packets/s, dtype: float64"
            ]
          },
          "metadata": {},
          "execution_count": 43
        }
      ]
    },
    {
      "cell_type": "code",
      "metadata": {
        "colab": {
          "base_uri": "https://localhost:8080/"
        },
        "id": "kkg_2ula3Ew3",
        "outputId": "8fd3208e-d412-4eb6-bb27-7036e959ebd9"
      },
      "source": [
        "## check the number of rows in dataframe\n",
        "len(df_data_na)"
      ],
      "execution_count": 44,
      "outputs": [
        {
          "output_type": "execute_result",
          "data": {
            "text/plain": [
              "25179"
            ]
          },
          "metadata": {},
          "execution_count": 44
        }
      ]
    },
    {
      "cell_type": "markdown",
      "metadata": {
        "id": "ioaE1V1miHJE"
      },
      "source": [
        "# 4. Split the data"
      ]
    },
    {
      "cell_type": "code",
      "metadata": {
        "id": "Zh2YIahbzaQF"
      },
      "source": [
        "## get the data\n",
        "df_x = df_data_na.iloc[:, :-1]"
      ],
      "execution_count": 45,
      "outputs": []
    },
    {
      "cell_type": "code",
      "metadata": {
        "id": "9mGSH4tAzkzV"
      },
      "source": [
        "## get the label of the data\n",
        "df_y = df_data_na.iloc[:, -1]"
      ],
      "execution_count": 46,
      "outputs": []
    },
    {
      "cell_type": "code",
      "metadata": {
        "id": "j8IfKjphGnTk"
      },
      "source": [
        "X_train, X_test, y_train, y_test = train_test_split(\n",
        "    df_x, df_y, test_size=0.3, random_state=42)"
      ],
      "execution_count": 47,
      "outputs": []
    },
    {
      "cell_type": "markdown",
      "metadata": {
        "id": "ztnfthfdiK6O"
      },
      "source": [
        "# 5. Classifier A (XGBoost)"
      ]
    },
    {
      "cell_type": "code",
      "metadata": {
        "id": "aZKH4hbwz2j8"
      },
      "source": [
        "clf = GradientBoostingClassifier(n_estimators=100, learning_rate=1.0,\n",
        "    max_depth=1, random_state=0).fit(X_train, y_train)"
      ],
      "execution_count": 48,
      "outputs": []
    },
    {
      "cell_type": "markdown",
      "metadata": {
        "id": "f-Y-ddMr0Mlu"
      },
      "source": [
        "**In the next cells we calculate the metrics**"
      ]
    },
    {
      "cell_type": "code",
      "metadata": {
        "id": "8XWC72RopQUK"
      },
      "source": [
        "y_pred = clf.predict(X_test)"
      ],
      "execution_count": 49,
      "outputs": []
    },
    {
      "cell_type": "code",
      "metadata": {
        "id": "1_yJv_p3qFIj"
      },
      "source": [
        "## Encoding to calculate Average precision Recall\n",
        "y_pred_enc_f = []\n",
        "y_test_enc_f = []\n",
        "for i in range(len(y_pred)):\n",
        "    if y_pred[i] == \"BENIGN\":\n",
        "       y_pred_enc_f.append(0)\n",
        "    else: \n",
        "       y_pred_enc_f.append(1)\n",
        "\n",
        "    if y_test.iloc[i] == \"BENIGN\":\n",
        "       y_test_enc_f.append(0)\n",
        "    else: \n",
        "       y_test_enc_f.append(1)"
      ],
      "execution_count": 50,
      "outputs": []
    },
    {
      "cell_type": "code",
      "metadata": {
        "id": "cx7f8VMtqx2E",
        "colab": {
          "base_uri": "https://localhost:8080/"
        },
        "outputId": "38849d05-f178-4e4e-b2b2-2625a9a88ff0"
      },
      "source": [
        "average_precision = average_precision_score(y_test_enc_f, y_pred_enc_f)\n",
        "print(average_precision)"
      ],
      "execution_count": 51,
      "outputs": [
        {
          "output_type": "stream",
          "name": "stdout",
          "text": [
            "0.9052908242099844\n"
          ]
        }
      ]
    },
    {
      "cell_type": "code",
      "metadata": {
        "colab": {
          "base_uri": "https://localhost:8080/"
        },
        "id": "GMtJoPeYpL-b",
        "outputId": "73b98ca8-b16c-42ae-b516-5afbb5b3ed38"
      },
      "source": [
        "## Classification Report\n",
        "c_report = classification_report(y_test, y_pred)\n",
        "print(c_report)"
      ],
      "execution_count": 52,
      "outputs": [
        {
          "output_type": "stream",
          "name": "stdout",
          "text": [
            "              precision    recall  f1-score   support\n",
            "\n",
            "      ATTACK       0.96      0.93      0.95       741\n",
            "      BENIGN       0.99      1.00      0.99      6813\n",
            "\n",
            "    accuracy                           0.99      7554\n",
            "   macro avg       0.98      0.96      0.97      7554\n",
            "weighted avg       0.99      0.99      0.99      7554\n",
            "\n"
          ]
        }
      ]
    },
    {
      "cell_type": "markdown",
      "metadata": {
        "id": "gIPJ2L9DxO7s"
      },
      "source": [
        "**Use this for f1 score of the class**"
      ]
    },
    {
      "cell_type": "code",
      "metadata": {
        "colab": {
          "base_uri": "https://localhost:8080/"
        },
        "id": "RoZ4FezQwC5j",
        "outputId": "a764a265-38c6-41e8-83cd-5cf1401e18ef"
      },
      "source": [
        "x = classification_report(y_test, y_pred)\n",
        "report = classification_report(y_test, y_pred, output_dict=True )\n",
        "f1_score_attack =  report['ATTACK']['f1-score'] \n",
        "f1_score_avg = report['macro avg']['f1-score'] \n",
        "## in general we should use the weighted avg for imbalanced, however since this considers that the positive class is the one with \n",
        "## minority instances, while the positive class here is considered as the 'Attack' class -maybe due to the alphabet- so this conflict makes us better choose the macro or the attack metrics\n",
        "\n",
        "print(f1_score_avg)"
      ],
      "execution_count": 53,
      "outputs": [
        {
          "output_type": "stream",
          "name": "stdout",
          "text": [
            "0.9711883120011563\n"
          ]
        }
      ]
    },
    {
      "cell_type": "code",
      "metadata": {
        "id": "KLpuhu6iHSeS"
      },
      "source": [
        "dump(clf, 'model_no_sc.bin', compress=True)"
      ],
      "execution_count": 60,
      "outputs": []
    },
    {
      "cell_type": "markdown",
      "metadata": {
        "id": "XSjSiypjjXiE"
      },
      "source": [
        "# 6. Classifier B (Decision Tree)"
      ]
    },
    {
      "cell_type": "code",
      "metadata": {
        "id": "Ds4Ye2s7HjhS"
      },
      "source": [
        "clf2 = DecisionTreeClassifier(random_state=0).fit(X_train, y_train)"
      ],
      "execution_count": 64,
      "outputs": []
    },
    {
      "cell_type": "code",
      "metadata": {
        "id": "WvjJr7N-kJk8"
      },
      "source": [
        "y_pred2 = clf2.predict(X_test)"
      ],
      "execution_count": 65,
      "outputs": []
    },
    {
      "cell_type": "code",
      "metadata": {
        "colab": {
          "base_uri": "https://localhost:8080/"
        },
        "id": "CLF9cHwVkJmW",
        "outputId": "4e50b8e8-675d-4cea-e627-d93ffbc03660"
      },
      "source": [
        "c_report2 = classification_report(y_test, y_pred2)\n",
        "print(c_report2)"
      ],
      "execution_count": 66,
      "outputs": [
        {
          "output_type": "stream",
          "name": "stdout",
          "text": [
            "              precision    recall  f1-score   support\n",
            "\n",
            "      ATTACK       0.99      0.99      0.99       741\n",
            "      BENIGN       1.00      1.00      1.00      6813\n",
            "\n",
            "    accuracy                           1.00      7554\n",
            "   macro avg       0.99      0.99      0.99      7554\n",
            "weighted avg       1.00      1.00      1.00      7554\n",
            "\n"
          ]
        }
      ]
    },
    {
      "cell_type": "markdown",
      "metadata": {
        "id": "P-pqVWJZS-HW"
      },
      "source": [
        "# **Multi-Classifiers: Problem 2**"
      ]
    },
    {
      "cell_type": "markdown",
      "metadata": {
        "id": "8OJqRseZpj_e"
      },
      "source": [
        "# 2. Data Exploration"
      ]
    },
    {
      "cell_type": "code",
      "metadata": {
        "id": "MKTLQ_IGS878",
        "colab": {
          "base_uri": "https://localhost:8080/",
          "height": 478
        },
        "outputId": "9b5c0118-5838-4ff4-bc12-6718df1c23f4"
      },
      "source": [
        "## read the data\n",
        "df_data = pd.read_csv('iot_static_data.csv')\n",
        "\n",
        "## check the 1st 5 rows\n",
        "df_data.head()"
      ],
      "execution_count": 67,
      "outputs": [
        {
          "output_type": "execute_result",
          "data": {
            "text/html": [
              "<div>\n",
              "<style scoped>\n",
              "    .dataframe tbody tr th:only-of-type {\n",
              "        vertical-align: middle;\n",
              "    }\n",
              "\n",
              "    .dataframe tbody tr th {\n",
              "        vertical-align: top;\n",
              "    }\n",
              "\n",
              "    .dataframe thead th {\n",
              "        text-align: right;\n",
              "    }\n",
              "</style>\n",
              "<table border=\"1\" class=\"dataframe\">\n",
              "  <thead>\n",
              "    <tr style=\"text-align: right;\">\n",
              "      <th></th>\n",
              "      <th>MI_dir_L5_weight</th>\n",
              "      <th>MI_dir_L5_mean</th>\n",
              "      <th>MI_dir_L5_variance</th>\n",
              "      <th>MI_dir_L3_weight</th>\n",
              "      <th>MI_dir_L3_mean</th>\n",
              "      <th>MI_dir_L3_variance</th>\n",
              "      <th>MI_dir_L1_weight</th>\n",
              "      <th>MI_dir_L1_mean</th>\n",
              "      <th>MI_dir_L1_variance</th>\n",
              "      <th>MI_dir_L0.1_weight</th>\n",
              "      <th>MI_dir_L0.1_mean</th>\n",
              "      <th>MI_dir_L0.1_variance</th>\n",
              "      <th>MI_dir_L0.01_weight</th>\n",
              "      <th>MI_dir_L0.01_mean</th>\n",
              "      <th>MI_dir_L0.01_variance</th>\n",
              "      <th>H_L5_weight</th>\n",
              "      <th>H_L5_mean</th>\n",
              "      <th>H_L5_variance</th>\n",
              "      <th>H_L3_weight</th>\n",
              "      <th>H_L3_mean</th>\n",
              "      <th>H_L3_variance</th>\n",
              "      <th>H_L1_weight</th>\n",
              "      <th>H_L1_mean</th>\n",
              "      <th>H_L1_variance</th>\n",
              "      <th>H_L0.1_weight</th>\n",
              "      <th>H_L0.1_mean</th>\n",
              "      <th>H_L0.1_variance</th>\n",
              "      <th>H_L0.01_weight</th>\n",
              "      <th>H_L0.01_mean</th>\n",
              "      <th>H_L0.01_variance</th>\n",
              "      <th>HH_L5_weight</th>\n",
              "      <th>HH_L5_mean</th>\n",
              "      <th>HH_L5_std</th>\n",
              "      <th>HH_L5_magnitude</th>\n",
              "      <th>HH_L5_radius</th>\n",
              "      <th>HH_L5_covariance</th>\n",
              "      <th>HH_L5_pcc</th>\n",
              "      <th>HH_L3_weight</th>\n",
              "      <th>HH_L3_mean</th>\n",
              "      <th>HH_L3_std</th>\n",
              "      <th>...</th>\n",
              "      <th>HH_jit_L0.01_weight</th>\n",
              "      <th>HH_jit_L0.01_mean</th>\n",
              "      <th>HH_jit_L0.01_variance</th>\n",
              "      <th>HpHp_L5_weight</th>\n",
              "      <th>HpHp_L5_mean</th>\n",
              "      <th>HpHp_L5_std</th>\n",
              "      <th>HpHp_L5_magnitude</th>\n",
              "      <th>HpHp_L5_radius</th>\n",
              "      <th>HpHp_L5_covariance</th>\n",
              "      <th>HpHp_L5_pcc</th>\n",
              "      <th>HpHp_L3_weight</th>\n",
              "      <th>HpHp_L3_mean</th>\n",
              "      <th>HpHp_L3_std</th>\n",
              "      <th>HpHp_L3_magnitude</th>\n",
              "      <th>HpHp_L3_radius</th>\n",
              "      <th>HpHp_L3_covariance</th>\n",
              "      <th>HpHp_L3_pcc</th>\n",
              "      <th>HpHp_L1_weight</th>\n",
              "      <th>HpHp_L1_mean</th>\n",
              "      <th>HpHp_L1_std</th>\n",
              "      <th>HpHp_L1_magnitude</th>\n",
              "      <th>HpHp_L1_radius</th>\n",
              "      <th>HpHp_L1_covariance</th>\n",
              "      <th>HpHp_L1_pcc</th>\n",
              "      <th>HpHp_L0.1_weight</th>\n",
              "      <th>HpHp_L0.1_mean</th>\n",
              "      <th>HpHp_L0.1_std</th>\n",
              "      <th>HpHp_L0.1_magnitude</th>\n",
              "      <th>HpHp_L0.1_radius</th>\n",
              "      <th>HpHp_L0.1_covariance</th>\n",
              "      <th>HpHp_L0.1_pcc</th>\n",
              "      <th>HpHp_L0.01_weight</th>\n",
              "      <th>HpHp_L0.01_mean</th>\n",
              "      <th>HpHp_L0.01_std</th>\n",
              "      <th>HpHp_L0.01_magnitude</th>\n",
              "      <th>HpHp_L0.01_radius</th>\n",
              "      <th>HpHp_L0.01_covariance</th>\n",
              "      <th>HpHp_L0.01_pcc</th>\n",
              "      <th>Source</th>\n",
              "      <th>Class</th>\n",
              "    </tr>\n",
              "  </thead>\n",
              "  <tbody>\n",
              "    <tr>\n",
              "      <th>0</th>\n",
              "      <td>19.570634</td>\n",
              "      <td>152.679121</td>\n",
              "      <td>39991.937640</td>\n",
              "      <td>20.937891</td>\n",
              "      <td>150.455024</td>\n",
              "      <td>38960.674060</td>\n",
              "      <td>23.168006</td>\n",
              "      <td>145.454142</td>\n",
              "      <td>36954.215040</td>\n",
              "      <td>33.115077</td>\n",
              "      <td>123.515434</td>\n",
              "      <td>27655.538890</td>\n",
              "      <td>62.619034</td>\n",
              "      <td>102.471926</td>\n",
              "      <td>15409.868150</td>\n",
              "      <td>19.570634</td>\n",
              "      <td>152.679121</td>\n",
              "      <td>39991.937640</td>\n",
              "      <td>20.937891</td>\n",
              "      <td>150.455024</td>\n",
              "      <td>38960.674060</td>\n",
              "      <td>23.168006</td>\n",
              "      <td>145.454142</td>\n",
              "      <td>36954.215040</td>\n",
              "      <td>33.115077</td>\n",
              "      <td>123.515434</td>\n",
              "      <td>27655.538890</td>\n",
              "      <td>62.619034</td>\n",
              "      <td>102.471926</td>\n",
              "      <td>15409.868150</td>\n",
              "      <td>18.885473</td>\n",
              "      <td>156.041505</td>\n",
              "      <td>202.780449</td>\n",
              "      <td>349.823034</td>\n",
              "      <td>1.602610e+05</td>\n",
              "      <td>-2.956340e+04</td>\n",
              "      <td>-0.370432</td>\n",
              "      <td>20.044037</td>\n",
              "      <td>154.488822</td>\n",
              "      <td>200.790831</td>\n",
              "      <td>...</td>\n",
              "      <td>30.034811</td>\n",
              "      <td>5.307252</td>\n",
              "      <td>1.298518e+02</td>\n",
              "      <td>4.880738</td>\n",
              "      <td>181.620841</td>\n",
              "      <td>227.548005</td>\n",
              "      <td>291.835506</td>\n",
              "      <td>59579.844560</td>\n",
              "      <td>17447.876</td>\n",
              "      <td>0.446623</td>\n",
              "      <td>4.927844</td>\n",
              "      <td>181.698241</td>\n",
              "      <td>227.581665</td>\n",
              "      <td>291.280119</td>\n",
              "      <td>59578.905890</td>\n",
              "      <td>17793.81865</td>\n",
              "      <td>0.455634</td>\n",
              "      <td>4.975746</td>\n",
              "      <td>181.767997</td>\n",
              "      <td>227.609424</td>\n",
              "      <td>290.719232</td>\n",
              "      <td>5.957503e+04</td>\n",
              "      <td>1.814181e+04</td>\n",
              "      <td>0.464725</td>\n",
              "      <td>4.997565</td>\n",
              "      <td>181.796886</td>\n",
              "      <td>227.619989</td>\n",
              "      <td>290.465036</td>\n",
              "      <td>5.957232e+04</td>\n",
              "      <td>1.829905e+04</td>\n",
              "      <td>0.468843</td>\n",
              "      <td>4.999756</td>\n",
              "      <td>181.799689</td>\n",
              "      <td>2.276210e+02</td>\n",
              "      <td>290.439555</td>\n",
              "      <td>5.957202e+04</td>\n",
              "      <td>1.831480e+04</td>\n",
              "      <td>4.692557e-01</td>\n",
              "      <td>Provision PT 838 Security Camera</td>\n",
              "      <td>BENIGN</td>\n",
              "    </tr>\n",
              "    <tr>\n",
              "      <th>1</th>\n",
              "      <td>49.893840</td>\n",
              "      <td>169.297843</td>\n",
              "      <td>54532.338720</td>\n",
              "      <td>62.957476</td>\n",
              "      <td>169.735104</td>\n",
              "      <td>54283.995040</td>\n",
              "      <td>82.340884</td>\n",
              "      <td>168.919514</td>\n",
              "      <td>53449.819730</td>\n",
              "      <td>98.214224</td>\n",
              "      <td>164.300338</td>\n",
              "      <td>51038.672810</td>\n",
              "      <td>124.460107</td>\n",
              "      <td>146.697496</td>\n",
              "      <td>42083.223280</td>\n",
              "      <td>49.893840</td>\n",
              "      <td>169.297843</td>\n",
              "      <td>54532.338720</td>\n",
              "      <td>62.957476</td>\n",
              "      <td>169.735104</td>\n",
              "      <td>54283.995040</td>\n",
              "      <td>82.340884</td>\n",
              "      <td>168.919514</td>\n",
              "      <td>53449.819730</td>\n",
              "      <td>98.214224</td>\n",
              "      <td>164.300338</td>\n",
              "      <td>51038.672810</td>\n",
              "      <td>124.460107</td>\n",
              "      <td>146.697496</td>\n",
              "      <td>42083.223280</td>\n",
              "      <td>49.886530</td>\n",
              "      <td>169.313860</td>\n",
              "      <td>233.534964</td>\n",
              "      <td>295.273638</td>\n",
              "      <td>9.040787e+04</td>\n",
              "      <td>-2.457803e+03</td>\n",
              "      <td>-0.039193</td>\n",
              "      <td>62.898830</td>\n",
              "      <td>169.837418</td>\n",
              "      <td>233.073744</td>\n",
              "      <td>...</td>\n",
              "      <td>97.549007</td>\n",
              "      <td>1.686998</td>\n",
              "      <td>6.319929e+01</td>\n",
              "      <td>1.980432</td>\n",
              "      <td>69.960478</td>\n",
              "      <td>3.999805</td>\n",
              "      <td>101.835497</td>\n",
              "      <td>15.998438</td>\n",
              "      <td>0.000</td>\n",
              "      <td>0.000000</td>\n",
              "      <td>1.988213</td>\n",
              "      <td>69.976286</td>\n",
              "      <td>3.999930</td>\n",
              "      <td>101.846358</td>\n",
              "      <td>15.999438</td>\n",
              "      <td>0.00000</td>\n",
              "      <td>0.000000</td>\n",
              "      <td>1.996055</td>\n",
              "      <td>69.992095</td>\n",
              "      <td>3.999992</td>\n",
              "      <td>101.857221</td>\n",
              "      <td>1.599994e+01</td>\n",
              "      <td>0.000000e+00</td>\n",
              "      <td>0.000000</td>\n",
              "      <td>1.999605</td>\n",
              "      <td>69.999210</td>\n",
              "      <td>4.000000</td>\n",
              "      <td>101.862109</td>\n",
              "      <td>1.600000e+01</td>\n",
              "      <td>0.000000e+00</td>\n",
              "      <td>0.000000</td>\n",
              "      <td>1.999960</td>\n",
              "      <td>69.999921</td>\n",
              "      <td>4.000000e+00</td>\n",
              "      <td>101.862598</td>\n",
              "      <td>1.600000e+01</td>\n",
              "      <td>0.000000e+00</td>\n",
              "      <td>0.000000e+00</td>\n",
              "      <td>Provision PT 737E Security Camera</td>\n",
              "      <td>BENIGN</td>\n",
              "    </tr>\n",
              "    <tr>\n",
              "      <th>2</th>\n",
              "      <td>1.996527</td>\n",
              "      <td>449.011775</td>\n",
              "      <td>409.365474</td>\n",
              "      <td>2.002395</td>\n",
              "      <td>448.141152</td>\n",
              "      <td>739.076602</td>\n",
              "      <td>2.166552</td>\n",
              "      <td>419.128740</td>\n",
              "      <td>11039.485060</td>\n",
              "      <td>4.621621</td>\n",
              "      <td>278.780846</td>\n",
              "      <td>34237.687910</td>\n",
              "      <td>29.401508</td>\n",
              "      <td>286.241737</td>\n",
              "      <td>32040.668620</td>\n",
              "      <td>1.996527</td>\n",
              "      <td>449.011775</td>\n",
              "      <td>409.365474</td>\n",
              "      <td>2.002395</td>\n",
              "      <td>448.141152</td>\n",
              "      <td>739.076602</td>\n",
              "      <td>2.166552</td>\n",
              "      <td>419.128740</td>\n",
              "      <td>11039.485060</td>\n",
              "      <td>4.621621</td>\n",
              "      <td>278.780846</td>\n",
              "      <td>34237.687910</td>\n",
              "      <td>29.401508</td>\n",
              "      <td>286.241737</td>\n",
              "      <td>32040.668620</td>\n",
              "      <td>1.996402</td>\n",
              "      <td>449.036043</td>\n",
              "      <td>19.999968</td>\n",
              "      <td>449.036043</td>\n",
              "      <td>3.999987e+02</td>\n",
              "      <td>0.000000e+00</td>\n",
              "      <td>0.000000</td>\n",
              "      <td>1.997840</td>\n",
              "      <td>449.021626</td>\n",
              "      <td>19.999988</td>\n",
              "      <td>...</td>\n",
              "      <td>14.978833</td>\n",
              "      <td>10.667405</td>\n",
              "      <td>2.061570e+02</td>\n",
              "      <td>1.996402</td>\n",
              "      <td>449.036043</td>\n",
              "      <td>19.999968</td>\n",
              "      <td>449.036043</td>\n",
              "      <td>399.998701</td>\n",
              "      <td>0.000</td>\n",
              "      <td>0.000000</td>\n",
              "      <td>1.997840</td>\n",
              "      <td>449.021626</td>\n",
              "      <td>19.999988</td>\n",
              "      <td>449.021626</td>\n",
              "      <td>399.999532</td>\n",
              "      <td>0.00000</td>\n",
              "      <td>0.000000</td>\n",
              "      <td>1.999279</td>\n",
              "      <td>449.007209</td>\n",
              "      <td>19.999999</td>\n",
              "      <td>449.007209</td>\n",
              "      <td>3.999999e+02</td>\n",
              "      <td>0.000000e+00</td>\n",
              "      <td>0.000000</td>\n",
              "      <td>2.428558</td>\n",
              "      <td>450.295009</td>\n",
              "      <td>20.081460</td>\n",
              "      <td>450.295009</td>\n",
              "      <td>4.032651e+02</td>\n",
              "      <td>0.000000e+00</td>\n",
              "      <td>0.000000</td>\n",
              "      <td>14.978833</td>\n",
              "      <td>455.354366</td>\n",
              "      <td>1.959295e+01</td>\n",
              "      <td>455.354366</td>\n",
              "      <td>3.838837e+02</td>\n",
              "      <td>0.000000e+00</td>\n",
              "      <td>0.000000e+00</td>\n",
              "      <td>Samsung SNH 1011 N Webcam</td>\n",
              "      <td>BENIGN</td>\n",
              "    </tr>\n",
              "    <tr>\n",
              "      <th>3</th>\n",
              "      <td>1.000000</td>\n",
              "      <td>60.000018</td>\n",
              "      <td>0.004849</td>\n",
              "      <td>1.000065</td>\n",
              "      <td>60.017569</td>\n",
              "      <td>4.743299</td>\n",
              "      <td>1.063813</td>\n",
              "      <td>76.195918</td>\n",
              "      <td>4110.590208</td>\n",
              "      <td>2.936177</td>\n",
              "      <td>218.185372</td>\n",
              "      <td>17685.800370</td>\n",
              "      <td>24.603310</td>\n",
              "      <td>201.078998</td>\n",
              "      <td>16329.248820</td>\n",
              "      <td>1.000000</td>\n",
              "      <td>60.000018</td>\n",
              "      <td>0.004849</td>\n",
              "      <td>1.000065</td>\n",
              "      <td>60.017569</td>\n",
              "      <td>4.743299</td>\n",
              "      <td>1.063813</td>\n",
              "      <td>76.195918</td>\n",
              "      <td>4110.590208</td>\n",
              "      <td>2.936177</td>\n",
              "      <td>218.185372</td>\n",
              "      <td>17685.800370</td>\n",
              "      <td>24.603310</td>\n",
              "      <td>201.078998</td>\n",
              "      <td>16329.248820</td>\n",
              "      <td>1.000000</td>\n",
              "      <td>60.000000</td>\n",
              "      <td>0.000000</td>\n",
              "      <td>84.852814</td>\n",
              "      <td>0.000000e+00</td>\n",
              "      <td>5.740000e-178</td>\n",
              "      <td>0.000000</td>\n",
              "      <td>1.000000</td>\n",
              "      <td>60.000000</td>\n",
              "      <td>0.000000</td>\n",
              "      <td>...</td>\n",
              "      <td>12.477802</td>\n",
              "      <td>12.558425</td>\n",
              "      <td>1.474595e+02</td>\n",
              "      <td>1.000000</td>\n",
              "      <td>60.000000</td>\n",
              "      <td>0.000000</td>\n",
              "      <td>84.852814</td>\n",
              "      <td>0.000000</td>\n",
              "      <td>0.000</td>\n",
              "      <td>0.000000</td>\n",
              "      <td>1.000000</td>\n",
              "      <td>60.000000</td>\n",
              "      <td>0.000000</td>\n",
              "      <td>84.852814</td>\n",
              "      <td>0.000000</td>\n",
              "      <td>0.00000</td>\n",
              "      <td>0.000000</td>\n",
              "      <td>1.000000</td>\n",
              "      <td>60.000000</td>\n",
              "      <td>0.000000</td>\n",
              "      <td>84.852814</td>\n",
              "      <td>4.550000e-13</td>\n",
              "      <td>5.280000e-89</td>\n",
              "      <td>0.000000</td>\n",
              "      <td>1.215485</td>\n",
              "      <td>60.000000</td>\n",
              "      <td>0.000000</td>\n",
              "      <td>84.852814</td>\n",
              "      <td>9.090000e-13</td>\n",
              "      <td>-4.150000e-39</td>\n",
              "      <td>0.000000</td>\n",
              "      <td>7.290294</td>\n",
              "      <td>60.000000</td>\n",
              "      <td>9.540000e-07</td>\n",
              "      <td>84.852814</td>\n",
              "      <td>1.290000e-12</td>\n",
              "      <td>8.690000e-30</td>\n",
              "      <td>9.560000e-18</td>\n",
              "      <td>SimpleHome XCS7 1002 WHT Security Camera</td>\n",
              "      <td>BENIGN</td>\n",
              "    </tr>\n",
              "    <tr>\n",
              "      <th>4</th>\n",
              "      <td>100.707918</td>\n",
              "      <td>226.708372</td>\n",
              "      <td>54562.182272</td>\n",
              "      <td>155.736482</td>\n",
              "      <td>252.269792</td>\n",
              "      <td>58012.457557</td>\n",
              "      <td>446.854937</td>\n",
              "      <td>301.030305</td>\n",
              "      <td>60959.734097</td>\n",
              "      <td>4257.526218</td>\n",
              "      <td>335.363145</td>\n",
              "      <td>60179.750153</td>\n",
              "      <td>24034.070444</td>\n",
              "      <td>341.480197</td>\n",
              "      <td>59796.846865</td>\n",
              "      <td>100.707918</td>\n",
              "      <td>226.708372</td>\n",
              "      <td>54562.182272</td>\n",
              "      <td>155.736482</td>\n",
              "      <td>252.269792</td>\n",
              "      <td>58012.457557</td>\n",
              "      <td>446.854937</td>\n",
              "      <td>301.030305</td>\n",
              "      <td>60959.734097</td>\n",
              "      <td>4257.526218</td>\n",
              "      <td>335.363145</td>\n",
              "      <td>60179.750153</td>\n",
              "      <td>24034.070444</td>\n",
              "      <td>341.480197</td>\n",
              "      <td>59796.846865</td>\n",
              "      <td>33.985501</td>\n",
              "      <td>554.000000</td>\n",
              "      <td>0.000011</td>\n",
              "      <td>554.000000</td>\n",
              "      <td>1.164153e-10</td>\n",
              "      <td>0.000000e+00</td>\n",
              "      <td>0.000000</td>\n",
              "      <td>60.613446</td>\n",
              "      <td>554.000000</td>\n",
              "      <td>0.000346</td>\n",
              "      <td>...</td>\n",
              "      <td>13697.367283</td>\n",
              "      <td>46217.470655</td>\n",
              "      <td>6.967790e+13</td>\n",
              "      <td>1.000000</td>\n",
              "      <td>554.000000</td>\n",
              "      <td>0.000000</td>\n",
              "      <td>554.000000</td>\n",
              "      <td>0.000000</td>\n",
              "      <td>0.000</td>\n",
              "      <td>0.000000</td>\n",
              "      <td>1.000000</td>\n",
              "      <td>554.000000</td>\n",
              "      <td>0.000000</td>\n",
              "      <td>554.000000</td>\n",
              "      <td>0.000000</td>\n",
              "      <td>0.00000</td>\n",
              "      <td>0.000000</td>\n",
              "      <td>1.000000</td>\n",
              "      <td>554.000000</td>\n",
              "      <td>0.000000</td>\n",
              "      <td>554.000000</td>\n",
              "      <td>0.000000e+00</td>\n",
              "      <td>0.000000e+00</td>\n",
              "      <td>0.000000</td>\n",
              "      <td>1.000000</td>\n",
              "      <td>554.000000</td>\n",
              "      <td>0.000000</td>\n",
              "      <td>554.000000</td>\n",
              "      <td>0.000000e+00</td>\n",
              "      <td>0.000000e+00</td>\n",
              "      <td>0.000000</td>\n",
              "      <td>1.000000</td>\n",
              "      <td>554.000000</td>\n",
              "      <td>0.000000e+00</td>\n",
              "      <td>554.000000</td>\n",
              "      <td>0.000000e+00</td>\n",
              "      <td>0.000000e+00</td>\n",
              "      <td>0.000000e+00</td>\n",
              "      <td>Provision PT 838 Security Camera</td>\n",
              "      <td>mirai_udp_attack</td>\n",
              "    </tr>\n",
              "  </tbody>\n",
              "</table>\n",
              "<p>5 rows × 117 columns</p>\n",
              "</div>"
            ],
            "text/plain": [
              "   MI_dir_L5_weight  ...             Class\n",
              "0         19.570634  ...            BENIGN\n",
              "1         49.893840  ...            BENIGN\n",
              "2          1.996527  ...            BENIGN\n",
              "3          1.000000  ...            BENIGN\n",
              "4        100.707918  ...  mirai_udp_attack\n",
              "\n",
              "[5 rows x 117 columns]"
            ]
          },
          "metadata": {},
          "execution_count": 67
        }
      ]
    },
    {
      "cell_type": "code",
      "metadata": {
        "colab": {
          "base_uri": "https://localhost:8080/"
        },
        "id": "cO6qeI63p7Zy",
        "outputId": "99f99bb4-8f14-4509-c088-4ecc8a9d55f8"
      },
      "source": [
        "## get the columns with null values greater than zero\n",
        "df_data.columns[df_data.isna().sum() >0]\n",
        "\n",
        "### No missing: The data is clean but the data has categorical features"
      ],
      "execution_count": 68,
      "outputs": [
        {
          "output_type": "execute_result",
          "data": {
            "text/plain": [
              "Index([], dtype='object')"
            ]
          },
          "metadata": {},
          "execution_count": 68
        }
      ]
    },
    {
      "cell_type": "markdown",
      "metadata": {
        "id": "pUqJO4caqPLC"
      },
      "source": [
        "# 3. Data Cleaning (from categorical to numeric)"
      ]
    },
    {
      "cell_type": "code",
      "metadata": {
        "colab": {
          "base_uri": "https://localhost:8080/"
        },
        "id": "bbqNQR6-p7bb",
        "outputId": "addffc63-5373-44e2-947d-3a17a611c078"
      },
      "source": [
        "######## Get dummies ##########\n",
        "\n",
        "df_x = df_data.loc[: , df_data.columns != 'Class' ]\n",
        "print(len(df_data.columns))\n",
        "\n",
        "df_y = df_data.loc[: , df_data.columns == 'Class']"
      ],
      "execution_count": 69,
      "outputs": [
        {
          "output_type": "stream",
          "name": "stdout",
          "text": [
            "117\n"
          ]
        }
      ]
    },
    {
      "cell_type": "code",
      "metadata": {
        "id": "MRhuhrzPp7ec"
      },
      "source": [
        "categ = df_x.dtypes == 'object'\n",
        "idx = np.where(categ)[0]\n",
        "col = df_x.iloc[:, idx]\n",
        "col_names_categ = col.columns"
      ],
      "execution_count": 70,
      "outputs": []
    },
    {
      "cell_type": "code",
      "metadata": {
        "colab": {
          "base_uri": "https://localhost:8080/"
        },
        "id": "nKK8y2LOp7hF",
        "outputId": "9e2c6a40-74c3-4af7-ee3c-3512474dc6b0"
      },
      "source": [
        "categ_dummy = pd.get_dummies(col)\n",
        "df_x.drop(columns = col_names_categ, inplace = True)\n",
        "df_x = pd.concat([df_x, categ_dummy], axis = 1)"
      ],
      "execution_count": 71,
      "outputs": [
        {
          "output_type": "stream",
          "name": "stderr",
          "text": [
            "/usr/local/lib/python3.7/dist-packages/pandas/core/frame.py:4174: SettingWithCopyWarning: \n",
            "A value is trying to be set on a copy of a slice from a DataFrame\n",
            "\n",
            "See the caveats in the documentation: https://pandas.pydata.org/pandas-docs/stable/user_guide/indexing.html#returning-a-view-versus-a-copy\n",
            "  errors=errors,\n"
          ]
        }
      ]
    },
    {
      "cell_type": "code",
      "metadata": {
        "colab": {
          "base_uri": "https://localhost:8080/"
        },
        "id": "S5HMF0d6p7jr",
        "outputId": "8c37bb9f-e516-43dc-ba37-909b9ffea8d6"
      },
      "source": [
        "len(df_x.columns)  ## 7 unique values in the source column"
      ],
      "execution_count": 72,
      "outputs": [
        {
          "output_type": "execute_result",
          "data": {
            "text/plain": [
              "124"
            ]
          },
          "metadata": {},
          "execution_count": 72
        }
      ]
    },
    {
      "cell_type": "markdown",
      "metadata": {
        "id": "4c_UvFFZq8Uq"
      },
      "source": [
        "# 4. Split the Data"
      ]
    },
    {
      "cell_type": "code",
      "metadata": {
        "id": "nzcQPHEpq0Jg"
      },
      "source": [
        "X_train_m, X_test_m, y_train_m, y_test_m = train_test_split(\n",
        "    df_x, df_y, stratify = df_y, test_size=0.3, random_state=42)"
      ],
      "execution_count": 74,
      "outputs": []
    },
    {
      "cell_type": "markdown",
      "metadata": {
        "id": "N03VJ3LGrEh9"
      },
      "source": [
        "# 5. Classifier A (XGBoost)"
      ]
    },
    {
      "cell_type": "code",
      "metadata": {
        "colab": {
          "base_uri": "https://localhost:8080/"
        },
        "id": "scHIYhYLq0K5",
        "outputId": "3c87816b-087f-421d-fefc-33f9c65151eb"
      },
      "source": [
        "clf_m = GradientBoostingClassifier(n_estimators=100, learning_rate=1.0,\n",
        "    max_depth=1, random_state=0).fit(X_train_m, y_train_m)"
      ],
      "execution_count": 75,
      "outputs": [
        {
          "output_type": "stream",
          "name": "stderr",
          "text": [
            "/usr/local/lib/python3.7/dist-packages/sklearn/ensemble/_gb.py:494: DataConversionWarning: A column-vector y was passed when a 1d array was expected. Please change the shape of y to (n_samples, ), for example using ravel().\n",
            "  y = column_or_1d(y, warn=True)\n"
          ]
        }
      ]
    },
    {
      "cell_type": "code",
      "metadata": {
        "colab": {
          "base_uri": "https://localhost:8080/"
        },
        "id": "EWM7qhjKq0OP",
        "outputId": "b5a70ea5-305d-4a40-a526-1cea37918239"
      },
      "source": [
        "y_pred_m = clf_m.predict(X_test_m)\n",
        "c_report_m = classification_report(y_test_m, y_pred_m)\n",
        "print(c_report_m)"
      ],
      "execution_count": 78,
      "outputs": [
        {
          "output_type": "stream",
          "name": "stdout",
          "text": [
            "                       precision    recall  f1-score   support\n",
            "\n",
            "               BENIGN       1.00      1.00      1.00      6686\n",
            "  gafgyt_combo_attack       0.00      0.00      0.00         6\n",
            "   gafgyt_junk_attack       0.96      0.96      0.96       113\n",
            "   gafgyt_scan_attack       0.97      0.93      0.95        60\n",
            "    gafgyt_tcp_attack       1.00      0.97      0.98        64\n",
            "    gafgyt_udp_attack       0.99      1.00      0.99       134\n",
            "     mirai_ack_attack       0.88      1.00      0.94        29\n",
            "    mirai_scan_attack       1.00      1.00      1.00        26\n",
            "     mirai_syn_attack       1.00      0.97      0.98        30\n",
            "     mirai_udp_attack       1.00      1.00      1.00       532\n",
            "mirai_udpplain_attack       0.60      1.00      0.75         3\n",
            "\n",
            "             accuracy                           1.00      7683\n",
            "            macro avg       0.85      0.89      0.87      7683\n",
            "         weighted avg       1.00      1.00      1.00      7683\n",
            "\n"
          ]
        }
      ]
    },
    {
      "cell_type": "code",
      "metadata": {
        "colab": {
          "base_uri": "https://localhost:8080/"
        },
        "id": "5ZMh5LuYq0RF",
        "outputId": "e3b585d0-d72d-4c31-d284-44a944be4f03"
      },
      "source": [
        "dump(clf_m, 'model_multi.bin', compress=True)"
      ],
      "execution_count": 79,
      "outputs": [
        {
          "output_type": "execute_result",
          "data": {
            "text/plain": [
              "['model_multi.bin']"
            ]
          },
          "metadata": {},
          "execution_count": 79
        }
      ]
    },
    {
      "cell_type": "markdown",
      "metadata": {
        "id": "VRykw-VvtIIo"
      },
      "source": [
        "# 6. Classifier B (Decision Tree)"
      ]
    },
    {
      "cell_type": "code",
      "metadata": {
        "id": "O-3CIdvBtOXh"
      },
      "source": [
        "clf2_m = DecisionTreeClassifier(random_state=0).fit(X_train_m, y_train_m)"
      ],
      "execution_count": 80,
      "outputs": []
    },
    {
      "cell_type": "code",
      "metadata": {
        "id": "64a7rpdBtOXi"
      },
      "source": [
        "y_pred2_m = clf2_m.predict(X_test_m)"
      ],
      "execution_count": 81,
      "outputs": []
    },
    {
      "cell_type": "code",
      "metadata": {
        "id": "EgIPlAzBtOXi"
      },
      "source": [
        "c_report2_m = classification_report(y_test_m, y_pred2_m)\n",
        "print(c_report2_m)"
      ],
      "execution_count": null,
      "outputs": []
    },
    {
      "cell_type": "markdown",
      "metadata": {
        "id": "sJnn8878tc9b"
      },
      "source": [
        "# 7. Auxilary"
      ]
    },
    {
      "cell_type": "code",
      "metadata": {
        "id": "aOlJH4LstfZh"
      },
      "source": [
        ""
      ],
      "execution_count": null,
      "outputs": []
    }
  ]
}