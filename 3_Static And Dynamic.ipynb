{
  "cells": [
    {
      "cell_type": "markdown",
      "metadata": {
        "id": "UNFzY6wChteS"
      },
      "source": [
        "# 1. Import Libraries"
      ]
    },
    {
      "cell_type": "code",
      "execution_count": 1,
      "metadata": {
        "colab": {
          "base_uri": "https://localhost:8080/"
        },
        "id": "yM1ectCXyO1s",
        "outputId": "d79a1fb7-20d6-409d-dd14-1453686f0504"
      },
      "outputs": [
        {
          "name": "stdout",
          "output_type": "stream",
          "text": [
            "Collecting kafka-python\n",
            "  Downloading kafka_python-2.0.2-py2.py3-none-any.whl (246 kB)\n",
            "\u001b[?25l\r\u001b[K     |█▎                              | 10 kB 27.2 MB/s eta 0:00:01\r\u001b[K     |██▋                             | 20 kB 23.4 MB/s eta 0:00:01\r\u001b[K     |████                            | 30 kB 11.0 MB/s eta 0:00:01\r\u001b[K     |█████▎                          | 40 kB 8.6 MB/s eta 0:00:01\r\u001b[K     |██████▋                         | 51 kB 5.0 MB/s eta 0:00:01\r\u001b[K     |████████                        | 61 kB 5.5 MB/s eta 0:00:01\r\u001b[K     |█████████▎                      | 71 kB 5.5 MB/s eta 0:00:01\r\u001b[K     |██████████▋                     | 81 kB 6.2 MB/s eta 0:00:01\r\u001b[K     |████████████                    | 92 kB 6.2 MB/s eta 0:00:01\r\u001b[K     |█████████████▎                  | 102 kB 5.2 MB/s eta 0:00:01\r\u001b[K     |██████████████▋                 | 112 kB 5.2 MB/s eta 0:00:01\r\u001b[K     |████████████████                | 122 kB 5.2 MB/s eta 0:00:01\r\u001b[K     |█████████████████▎              | 133 kB 5.2 MB/s eta 0:00:01\r\u001b[K     |██████████████████▋             | 143 kB 5.2 MB/s eta 0:00:01\r\u001b[K     |████████████████████            | 153 kB 5.2 MB/s eta 0:00:01\r\u001b[K     |█████████████████████▎          | 163 kB 5.2 MB/s eta 0:00:01\r\u001b[K     |██████████████████████▋         | 174 kB 5.2 MB/s eta 0:00:01\r\u001b[K     |████████████████████████        | 184 kB 5.2 MB/s eta 0:00:01\r\u001b[K     |█████████████████████████▎      | 194 kB 5.2 MB/s eta 0:00:01\r\u001b[K     |██████████████████████████▋     | 204 kB 5.2 MB/s eta 0:00:01\r\u001b[K     |████████████████████████████    | 215 kB 5.2 MB/s eta 0:00:01\r\u001b[K     |█████████████████████████████▎  | 225 kB 5.2 MB/s eta 0:00:01\r\u001b[K     |██████████████████████████████▋ | 235 kB 5.2 MB/s eta 0:00:01\r\u001b[K     |████████████████████████████████| 245 kB 5.2 MB/s eta 0:00:01\r\u001b[K     |████████████████████████████████| 246 kB 5.2 MB/s \n",
            "\u001b[?25hInstalling collected packages: kafka-python\n",
            "Successfully installed kafka-python-2.0.2\n"
          ]
        }
      ],
      "source": [
        "!pip install kafka-python\n",
        "\n",
        "import numpy as np\n",
        "import pandas as pd\n",
        "import ast\n",
        "import time\n",
        "from sklearn.ensemble import GradientBoostingClassifier\n",
        "from sklearn.model_selection import train_test_split, cross_val_score\n",
        "from sklearn.metrics import classification_report, average_precision_score\n",
        "from sklearn.tree import DecisionTreeClassifier\n",
        "from sklearn import preprocessing\n",
        "import pickle\n",
        "from joblib import dump, load\n",
        "from statistics import mean\n",
        "from kafka import KafkaConsumer\n",
        "import matplotlib.pyplot as plt\n",
        "\n",
        "import warnings\n",
        "warnings.filterwarnings(\"ignore\")\n",
        "\n",
        "\n"
      ]
    },
    {
      "cell_type": "markdown",
      "metadata": {
        "id": "u2d_nGHFoepz"
      },
      "source": [
        "# **Binary Classifiers: Problem 1**"
      ]
    },
    {
      "cell_type": "markdown",
      "metadata": {
        "id": "TNQEf_p6BlAh"
      },
      "source": [
        "# **Static Part**"
      ]
    },
    {
      "cell_type": "markdown",
      "metadata": {
        "id": "17CerdS8hySV"
      },
      "source": [
        "# 2. Data Exploration"
      ]
    },
    {
      "cell_type": "code",
      "execution_count": 2,
      "metadata": {
        "id": "fRVZpOuty_N3"
      },
      "outputs": [],
      "source": [
        "## read the data\n",
        "df_data = pd.read_csv('/content/cicids_static_data.csv')"
      ]
    },
    {
      "cell_type": "code",
      "execution_count": 3,
      "metadata": {
        "colab": {
          "base_uri": "https://localhost:8080/",
          "height": 0
        },
        "id": "wLr14e9wzEDF",
        "outputId": "cd6cf364-086a-4624-cf79-2a06ad26f631"
      },
      "outputs": [
        {
          "data": {
            "text/html": [
              "<div>\n",
              "<style scoped>\n",
              "    .dataframe tbody tr th:only-of-type {\n",
              "        vertical-align: middle;\n",
              "    }\n",
              "\n",
              "    .dataframe tbody tr th {\n",
              "        vertical-align: top;\n",
              "    }\n",
              "\n",
              "    .dataframe thead th {\n",
              "        text-align: right;\n",
              "    }\n",
              "</style>\n",
              "<table border=\"1\" class=\"dataframe\">\n",
              "  <thead>\n",
              "    <tr style=\"text-align: right;\">\n",
              "      <th></th>\n",
              "      <th>Destination Port</th>\n",
              "      <th>Flow Duration</th>\n",
              "      <th>Total Fwd Packets</th>\n",
              "      <th>Total Backward Packets</th>\n",
              "      <th>Total Length of Fwd Packets</th>\n",
              "      <th>Total Length of Bwd Packets</th>\n",
              "      <th>Fwd Packet Length Max</th>\n",
              "      <th>Fwd Packet Length Min</th>\n",
              "      <th>Fwd Packet Length Mean</th>\n",
              "      <th>Fwd Packet Length Std</th>\n",
              "      <th>Bwd Packet Length Max</th>\n",
              "      <th>Bwd Packet Length Min</th>\n",
              "      <th>Bwd Packet Length Mean</th>\n",
              "      <th>Bwd Packet Length Std</th>\n",
              "      <th>Flow Bytes/s</th>\n",
              "      <th>Flow Packets/s</th>\n",
              "      <th>Flow IAT Mean</th>\n",
              "      <th>Flow IAT Std</th>\n",
              "      <th>Flow IAT Max</th>\n",
              "      <th>Flow IAT Min</th>\n",
              "      <th>Fwd IAT Total</th>\n",
              "      <th>Fwd IAT Mean</th>\n",
              "      <th>Fwd IAT Std</th>\n",
              "      <th>Fwd IAT Max</th>\n",
              "      <th>Fwd IAT Min</th>\n",
              "      <th>Bwd IAT Total</th>\n",
              "      <th>Bwd IAT Mean</th>\n",
              "      <th>Bwd IAT Std</th>\n",
              "      <th>Bwd IAT Max</th>\n",
              "      <th>Bwd IAT Min</th>\n",
              "      <th>Fwd PSH Flags</th>\n",
              "      <th>Bwd PSH Flags</th>\n",
              "      <th>Fwd URG Flags</th>\n",
              "      <th>Bwd URG Flags</th>\n",
              "      <th>Fwd Header Length</th>\n",
              "      <th>Bwd Header Length</th>\n",
              "      <th>Fwd Packets/s</th>\n",
              "      <th>Bwd Packets/s</th>\n",
              "      <th>Min Packet Length</th>\n",
              "      <th>Max Packet Length</th>\n",
              "      <th>Packet Length Mean</th>\n",
              "      <th>Packet Length Std</th>\n",
              "      <th>Packet Length Variance</th>\n",
              "      <th>FIN Flag Count</th>\n",
              "      <th>SYN Flag Count</th>\n",
              "      <th>RST Flag Count</th>\n",
              "      <th>PSH Flag Count</th>\n",
              "      <th>ACK Flag Count</th>\n",
              "      <th>URG Flag Count</th>\n",
              "      <th>CWE Flag Count</th>\n",
              "      <th>ECE Flag Count</th>\n",
              "      <th>Down/Up Ratio</th>\n",
              "      <th>Average Packet Size</th>\n",
              "      <th>Avg Fwd Segment Size</th>\n",
              "      <th>Avg Bwd Segment Size</th>\n",
              "      <th>Fwd Header Length.1</th>\n",
              "      <th>Fwd Avg Bytes/Bulk</th>\n",
              "      <th>Fwd Avg Packets/Bulk</th>\n",
              "      <th>Fwd Avg Bulk Rate</th>\n",
              "      <th>Bwd Avg Bytes/Bulk</th>\n",
              "      <th>Bwd Avg Packets/Bulk</th>\n",
              "      <th>Bwd Avg Bulk Rate</th>\n",
              "      <th>Subflow Fwd Packets</th>\n",
              "      <th>Subflow Fwd Bytes</th>\n",
              "      <th>Subflow Bwd Packets</th>\n",
              "      <th>Subflow Bwd Bytes</th>\n",
              "      <th>Init_Win_bytes_forward</th>\n",
              "      <th>Init_Win_bytes_backward</th>\n",
              "      <th>act_data_pkt_fwd</th>\n",
              "      <th>min_seg_size_forward</th>\n",
              "      <th>Active Mean</th>\n",
              "      <th>Active Std</th>\n",
              "      <th>Active Max</th>\n",
              "      <th>Active Min</th>\n",
              "      <th>Idle Mean</th>\n",
              "      <th>Idle Std</th>\n",
              "      <th>Idle Max</th>\n",
              "      <th>Idle Min</th>\n",
              "      <th>Label</th>\n",
              "    </tr>\n",
              "  </thead>\n",
              "  <tbody>\n",
              "    <tr>\n",
              "      <th>0</th>\n",
              "      <td>53</td>\n",
              "      <td>159</td>\n",
              "      <td>2</td>\n",
              "      <td>2</td>\n",
              "      <td>68</td>\n",
              "      <td>266</td>\n",
              "      <td>34</td>\n",
              "      <td>34</td>\n",
              "      <td>34.0</td>\n",
              "      <td>0.0</td>\n",
              "      <td>133</td>\n",
              "      <td>133</td>\n",
              "      <td>133.0</td>\n",
              "      <td>0.0</td>\n",
              "      <td>2.100629e+06</td>\n",
              "      <td>25157.232700</td>\n",
              "      <td>53.00000</td>\n",
              "      <td>90.066642</td>\n",
              "      <td>157</td>\n",
              "      <td>1</td>\n",
              "      <td>1</td>\n",
              "      <td>1.0</td>\n",
              "      <td>0.0</td>\n",
              "      <td>1</td>\n",
              "      <td>1</td>\n",
              "      <td>1</td>\n",
              "      <td>1.0</td>\n",
              "      <td>0.0</td>\n",
              "      <td>1</td>\n",
              "      <td>1</td>\n",
              "      <td>0</td>\n",
              "      <td>0</td>\n",
              "      <td>0</td>\n",
              "      <td>0</td>\n",
              "      <td>40</td>\n",
              "      <td>40</td>\n",
              "      <td>12578.616350</td>\n",
              "      <td>12578.616350</td>\n",
              "      <td>34</td>\n",
              "      <td>133</td>\n",
              "      <td>73.6</td>\n",
              "      <td>54.224533</td>\n",
              "      <td>2940.3</td>\n",
              "      <td>0</td>\n",
              "      <td>0</td>\n",
              "      <td>0</td>\n",
              "      <td>0</td>\n",
              "      <td>0</td>\n",
              "      <td>0</td>\n",
              "      <td>0</td>\n",
              "      <td>0</td>\n",
              "      <td>1</td>\n",
              "      <td>92.00</td>\n",
              "      <td>34.0</td>\n",
              "      <td>133.0</td>\n",
              "      <td>40</td>\n",
              "      <td>0</td>\n",
              "      <td>0</td>\n",
              "      <td>0</td>\n",
              "      <td>0</td>\n",
              "      <td>0</td>\n",
              "      <td>0</td>\n",
              "      <td>2</td>\n",
              "      <td>68</td>\n",
              "      <td>2</td>\n",
              "      <td>266</td>\n",
              "      <td>-1</td>\n",
              "      <td>-1</td>\n",
              "      <td>1</td>\n",
              "      <td>20</td>\n",
              "      <td>0.0</td>\n",
              "      <td>0.0</td>\n",
              "      <td>0</td>\n",
              "      <td>0</td>\n",
              "      <td>0.0</td>\n",
              "      <td>0.0</td>\n",
              "      <td>0</td>\n",
              "      <td>0</td>\n",
              "      <td>BENIGN</td>\n",
              "    </tr>\n",
              "    <tr>\n",
              "      <th>1</th>\n",
              "      <td>53</td>\n",
              "      <td>51673</td>\n",
              "      <td>2</td>\n",
              "      <td>2</td>\n",
              "      <td>90</td>\n",
              "      <td>166</td>\n",
              "      <td>45</td>\n",
              "      <td>45</td>\n",
              "      <td>45.0</td>\n",
              "      <td>0.0</td>\n",
              "      <td>83</td>\n",
              "      <td>83</td>\n",
              "      <td>83.0</td>\n",
              "      <td>0.0</td>\n",
              "      <td>4.954231e+03</td>\n",
              "      <td>77.409866</td>\n",
              "      <td>17224.33333</td>\n",
              "      <td>29827.358290</td>\n",
              "      <td>51666</td>\n",
              "      <td>3</td>\n",
              "      <td>4</td>\n",
              "      <td>4.0</td>\n",
              "      <td>0.0</td>\n",
              "      <td>4</td>\n",
              "      <td>4</td>\n",
              "      <td>3</td>\n",
              "      <td>3.0</td>\n",
              "      <td>0.0</td>\n",
              "      <td>3</td>\n",
              "      <td>3</td>\n",
              "      <td>0</td>\n",
              "      <td>0</td>\n",
              "      <td>0</td>\n",
              "      <td>0</td>\n",
              "      <td>64</td>\n",
              "      <td>64</td>\n",
              "      <td>38.704933</td>\n",
              "      <td>38.704933</td>\n",
              "      <td>45</td>\n",
              "      <td>83</td>\n",
              "      <td>60.2</td>\n",
              "      <td>20.813457</td>\n",
              "      <td>433.2</td>\n",
              "      <td>0</td>\n",
              "      <td>0</td>\n",
              "      <td>0</td>\n",
              "      <td>0</td>\n",
              "      <td>0</td>\n",
              "      <td>0</td>\n",
              "      <td>0</td>\n",
              "      <td>0</td>\n",
              "      <td>1</td>\n",
              "      <td>75.25</td>\n",
              "      <td>45.0</td>\n",
              "      <td>83.0</td>\n",
              "      <td>64</td>\n",
              "      <td>0</td>\n",
              "      <td>0</td>\n",
              "      <td>0</td>\n",
              "      <td>0</td>\n",
              "      <td>0</td>\n",
              "      <td>0</td>\n",
              "      <td>2</td>\n",
              "      <td>90</td>\n",
              "      <td>2</td>\n",
              "      <td>166</td>\n",
              "      <td>-1</td>\n",
              "      <td>-1</td>\n",
              "      <td>1</td>\n",
              "      <td>32</td>\n",
              "      <td>0.0</td>\n",
              "      <td>0.0</td>\n",
              "      <td>0</td>\n",
              "      <td>0</td>\n",
              "      <td>0.0</td>\n",
              "      <td>0.0</td>\n",
              "      <td>0</td>\n",
              "      <td>0</td>\n",
              "      <td>BENIGN</td>\n",
              "    </tr>\n",
              "    <tr>\n",
              "      <th>2</th>\n",
              "      <td>7496</td>\n",
              "      <td>43</td>\n",
              "      <td>1</td>\n",
              "      <td>1</td>\n",
              "      <td>0</td>\n",
              "      <td>6</td>\n",
              "      <td>0</td>\n",
              "      <td>0</td>\n",
              "      <td>0.0</td>\n",
              "      <td>0.0</td>\n",
              "      <td>6</td>\n",
              "      <td>6</td>\n",
              "      <td>6.0</td>\n",
              "      <td>0.0</td>\n",
              "      <td>1.395349e+05</td>\n",
              "      <td>46511.627910</td>\n",
              "      <td>43.00000</td>\n",
              "      <td>0.000000</td>\n",
              "      <td>43</td>\n",
              "      <td>43</td>\n",
              "      <td>0</td>\n",
              "      <td>0.0</td>\n",
              "      <td>0.0</td>\n",
              "      <td>0</td>\n",
              "      <td>0</td>\n",
              "      <td>0</td>\n",
              "      <td>0.0</td>\n",
              "      <td>0.0</td>\n",
              "      <td>0</td>\n",
              "      <td>0</td>\n",
              "      <td>0</td>\n",
              "      <td>0</td>\n",
              "      <td>0</td>\n",
              "      <td>0</td>\n",
              "      <td>40</td>\n",
              "      <td>20</td>\n",
              "      <td>23255.813950</td>\n",
              "      <td>23255.813950</td>\n",
              "      <td>0</td>\n",
              "      <td>6</td>\n",
              "      <td>2.0</td>\n",
              "      <td>3.464102</td>\n",
              "      <td>12.0</td>\n",
              "      <td>0</td>\n",
              "      <td>0</td>\n",
              "      <td>0</td>\n",
              "      <td>1</td>\n",
              "      <td>0</td>\n",
              "      <td>0</td>\n",
              "      <td>0</td>\n",
              "      <td>0</td>\n",
              "      <td>1</td>\n",
              "      <td>3.00</td>\n",
              "      <td>0.0</td>\n",
              "      <td>6.0</td>\n",
              "      <td>40</td>\n",
              "      <td>0</td>\n",
              "      <td>0</td>\n",
              "      <td>0</td>\n",
              "      <td>0</td>\n",
              "      <td>0</td>\n",
              "      <td>0</td>\n",
              "      <td>1</td>\n",
              "      <td>0</td>\n",
              "      <td>1</td>\n",
              "      <td>6</td>\n",
              "      <td>29200</td>\n",
              "      <td>0</td>\n",
              "      <td>0</td>\n",
              "      <td>40</td>\n",
              "      <td>0.0</td>\n",
              "      <td>0.0</td>\n",
              "      <td>0</td>\n",
              "      <td>0</td>\n",
              "      <td>0.0</td>\n",
              "      <td>0.0</td>\n",
              "      <td>0</td>\n",
              "      <td>0</td>\n",
              "      <td>ATTACK</td>\n",
              "    </tr>\n",
              "    <tr>\n",
              "      <th>3</th>\n",
              "      <td>46564</td>\n",
              "      <td>61</td>\n",
              "      <td>1</td>\n",
              "      <td>1</td>\n",
              "      <td>6</td>\n",
              "      <td>6</td>\n",
              "      <td>6</td>\n",
              "      <td>6</td>\n",
              "      <td>6.0</td>\n",
              "      <td>0.0</td>\n",
              "      <td>6</td>\n",
              "      <td>6</td>\n",
              "      <td>6.0</td>\n",
              "      <td>0.0</td>\n",
              "      <td>1.967213e+05</td>\n",
              "      <td>32786.885250</td>\n",
              "      <td>61.00000</td>\n",
              "      <td>0.000000</td>\n",
              "      <td>61</td>\n",
              "      <td>61</td>\n",
              "      <td>0</td>\n",
              "      <td>0.0</td>\n",
              "      <td>0.0</td>\n",
              "      <td>0</td>\n",
              "      <td>0</td>\n",
              "      <td>0</td>\n",
              "      <td>0.0</td>\n",
              "      <td>0.0</td>\n",
              "      <td>0</td>\n",
              "      <td>0</td>\n",
              "      <td>0</td>\n",
              "      <td>0</td>\n",
              "      <td>0</td>\n",
              "      <td>0</td>\n",
              "      <td>20</td>\n",
              "      <td>20</td>\n",
              "      <td>16393.442620</td>\n",
              "      <td>16393.442620</td>\n",
              "      <td>6</td>\n",
              "      <td>6</td>\n",
              "      <td>6.0</td>\n",
              "      <td>0.000000</td>\n",
              "      <td>0.0</td>\n",
              "      <td>0</td>\n",
              "      <td>0</td>\n",
              "      <td>0</td>\n",
              "      <td>0</td>\n",
              "      <td>1</td>\n",
              "      <td>1</td>\n",
              "      <td>0</td>\n",
              "      <td>0</td>\n",
              "      <td>1</td>\n",
              "      <td>9.00</td>\n",
              "      <td>6.0</td>\n",
              "      <td>6.0</td>\n",
              "      <td>20</td>\n",
              "      <td>0</td>\n",
              "      <td>0</td>\n",
              "      <td>0</td>\n",
              "      <td>0</td>\n",
              "      <td>0</td>\n",
              "      <td>0</td>\n",
              "      <td>1</td>\n",
              "      <td>6</td>\n",
              "      <td>1</td>\n",
              "      <td>6</td>\n",
              "      <td>440</td>\n",
              "      <td>307</td>\n",
              "      <td>0</td>\n",
              "      <td>20</td>\n",
              "      <td>0.0</td>\n",
              "      <td>0.0</td>\n",
              "      <td>0</td>\n",
              "      <td>0</td>\n",
              "      <td>0.0</td>\n",
              "      <td>0.0</td>\n",
              "      <td>0</td>\n",
              "      <td>0</td>\n",
              "      <td>BENIGN</td>\n",
              "    </tr>\n",
              "    <tr>\n",
              "      <th>4</th>\n",
              "      <td>80</td>\n",
              "      <td>69</td>\n",
              "      <td>2</td>\n",
              "      <td>0</td>\n",
              "      <td>0</td>\n",
              "      <td>0</td>\n",
              "      <td>0</td>\n",
              "      <td>0</td>\n",
              "      <td>0.0</td>\n",
              "      <td>0.0</td>\n",
              "      <td>0</td>\n",
              "      <td>0</td>\n",
              "      <td>0.0</td>\n",
              "      <td>0.0</td>\n",
              "      <td>0.000000e+00</td>\n",
              "      <td>28985.507250</td>\n",
              "      <td>69.00000</td>\n",
              "      <td>0.000000</td>\n",
              "      <td>69</td>\n",
              "      <td>69</td>\n",
              "      <td>69</td>\n",
              "      <td>69.0</td>\n",
              "      <td>0.0</td>\n",
              "      <td>69</td>\n",
              "      <td>69</td>\n",
              "      <td>0</td>\n",
              "      <td>0.0</td>\n",
              "      <td>0.0</td>\n",
              "      <td>0</td>\n",
              "      <td>0</td>\n",
              "      <td>0</td>\n",
              "      <td>0</td>\n",
              "      <td>0</td>\n",
              "      <td>0</td>\n",
              "      <td>40</td>\n",
              "      <td>0</td>\n",
              "      <td>28985.507250</td>\n",
              "      <td>0.000000</td>\n",
              "      <td>0</td>\n",
              "      <td>0</td>\n",
              "      <td>0.0</td>\n",
              "      <td>0.000000</td>\n",
              "      <td>0.0</td>\n",
              "      <td>0</td>\n",
              "      <td>0</td>\n",
              "      <td>0</td>\n",
              "      <td>0</td>\n",
              "      <td>1</td>\n",
              "      <td>0</td>\n",
              "      <td>0</td>\n",
              "      <td>0</td>\n",
              "      <td>0</td>\n",
              "      <td>0.00</td>\n",
              "      <td>0.0</td>\n",
              "      <td>0.0</td>\n",
              "      <td>40</td>\n",
              "      <td>0</td>\n",
              "      <td>0</td>\n",
              "      <td>0</td>\n",
              "      <td>0</td>\n",
              "      <td>0</td>\n",
              "      <td>0</td>\n",
              "      <td>2</td>\n",
              "      <td>0</td>\n",
              "      <td>0</td>\n",
              "      <td>0</td>\n",
              "      <td>251</td>\n",
              "      <td>-1</td>\n",
              "      <td>0</td>\n",
              "      <td>20</td>\n",
              "      <td>0.0</td>\n",
              "      <td>0.0</td>\n",
              "      <td>0</td>\n",
              "      <td>0</td>\n",
              "      <td>0.0</td>\n",
              "      <td>0.0</td>\n",
              "      <td>0</td>\n",
              "      <td>0</td>\n",
              "      <td>BENIGN</td>\n",
              "    </tr>\n",
              "  </tbody>\n",
              "</table>\n",
              "</div>"
            ],
            "text/plain": [
              "    Destination Port   Flow Duration  ...   Idle Min   Label\n",
              "0                 53             159  ...          0  BENIGN\n",
              "1                 53           51673  ...          0  BENIGN\n",
              "2               7496              43  ...          0  ATTACK\n",
              "3              46564              61  ...          0  BENIGN\n",
              "4                 80              69  ...          0  BENIGN\n",
              "\n",
              "[5 rows x 79 columns]"
            ]
          },
          "execution_count": 3,
          "metadata": {},
          "output_type": "execute_result"
        }
      ],
      "source": [
        "## check the 1st 5 rows\n",
        "df_data.head()"
      ]
    },
    {
      "cell_type": "code",
      "execution_count": 4,
      "metadata": {
        "colab": {
          "base_uri": "https://localhost:8080/"
        },
        "id": "aQ-jTApr_Un3",
        "outputId": "933f7502-d930-4839-fba9-5c3ac184a674"
      },
      "outputs": [
        {
          "data": {
            "text/plain": [
              "25191"
            ]
          },
          "execution_count": 4,
          "metadata": {},
          "output_type": "execute_result"
        }
      ],
      "source": [
        "len(df_data)"
      ]
    },
    {
      "cell_type": "code",
      "execution_count": 5,
      "metadata": {
        "colab": {
          "base_uri": "https://localhost:8080/",
          "height": 0
        },
        "id": "WSDja8oPzF81",
        "outputId": "e4788901-d54b-46e8-8ed9-a018f1de5f3c"
      },
      "outputs": [
        {
          "data": {
            "text/html": [
              "<div>\n",
              "<style scoped>\n",
              "    .dataframe tbody tr th:only-of-type {\n",
              "        vertical-align: middle;\n",
              "    }\n",
              "\n",
              "    .dataframe tbody tr th {\n",
              "        vertical-align: top;\n",
              "    }\n",
              "\n",
              "    .dataframe thead th {\n",
              "        text-align: right;\n",
              "    }\n",
              "</style>\n",
              "<table border=\"1\" class=\"dataframe\">\n",
              "  <thead>\n",
              "    <tr style=\"text-align: right;\">\n",
              "      <th></th>\n",
              "      <th>Destination Port</th>\n",
              "      <th>Flow Duration</th>\n",
              "      <th>Total Fwd Packets</th>\n",
              "      <th>Total Backward Packets</th>\n",
              "      <th>Total Length of Fwd Packets</th>\n",
              "      <th>Total Length of Bwd Packets</th>\n",
              "      <th>Fwd Packet Length Max</th>\n",
              "      <th>Fwd Packet Length Min</th>\n",
              "      <th>Fwd Packet Length Mean</th>\n",
              "      <th>Fwd Packet Length Std</th>\n",
              "      <th>Bwd Packet Length Max</th>\n",
              "      <th>Bwd Packet Length Min</th>\n",
              "      <th>Bwd Packet Length Mean</th>\n",
              "      <th>Bwd Packet Length Std</th>\n",
              "      <th>Flow Bytes/s</th>\n",
              "      <th>Flow Packets/s</th>\n",
              "      <th>Flow IAT Mean</th>\n",
              "      <th>Flow IAT Std</th>\n",
              "      <th>Flow IAT Max</th>\n",
              "      <th>Flow IAT Min</th>\n",
              "      <th>Fwd IAT Total</th>\n",
              "      <th>Fwd IAT Mean</th>\n",
              "      <th>Fwd IAT Std</th>\n",
              "      <th>Fwd IAT Max</th>\n",
              "      <th>Fwd IAT Min</th>\n",
              "      <th>Bwd IAT Total</th>\n",
              "      <th>Bwd IAT Mean</th>\n",
              "      <th>Bwd IAT Std</th>\n",
              "      <th>Bwd IAT Max</th>\n",
              "      <th>Bwd IAT Min</th>\n",
              "      <th>Fwd PSH Flags</th>\n",
              "      <th>Bwd PSH Flags</th>\n",
              "      <th>Fwd URG Flags</th>\n",
              "      <th>Bwd URG Flags</th>\n",
              "      <th>Fwd Header Length</th>\n",
              "      <th>Bwd Header Length</th>\n",
              "      <th>Fwd Packets/s</th>\n",
              "      <th>Bwd Packets/s</th>\n",
              "      <th>Min Packet Length</th>\n",
              "      <th>Max Packet Length</th>\n",
              "      <th>Packet Length Mean</th>\n",
              "      <th>Packet Length Std</th>\n",
              "      <th>Packet Length Variance</th>\n",
              "      <th>FIN Flag Count</th>\n",
              "      <th>SYN Flag Count</th>\n",
              "      <th>RST Flag Count</th>\n",
              "      <th>PSH Flag Count</th>\n",
              "      <th>ACK Flag Count</th>\n",
              "      <th>URG Flag Count</th>\n",
              "      <th>CWE Flag Count</th>\n",
              "      <th>ECE Flag Count</th>\n",
              "      <th>Down/Up Ratio</th>\n",
              "      <th>Average Packet Size</th>\n",
              "      <th>Avg Fwd Segment Size</th>\n",
              "      <th>Avg Bwd Segment Size</th>\n",
              "      <th>Fwd Header Length.1</th>\n",
              "      <th>Fwd Avg Bytes/Bulk</th>\n",
              "      <th>Fwd Avg Packets/Bulk</th>\n",
              "      <th>Fwd Avg Bulk Rate</th>\n",
              "      <th>Bwd Avg Bytes/Bulk</th>\n",
              "      <th>Bwd Avg Packets/Bulk</th>\n",
              "      <th>Bwd Avg Bulk Rate</th>\n",
              "      <th>Subflow Fwd Packets</th>\n",
              "      <th>Subflow Fwd Bytes</th>\n",
              "      <th>Subflow Bwd Packets</th>\n",
              "      <th>Subflow Bwd Bytes</th>\n",
              "      <th>Init_Win_bytes_forward</th>\n",
              "      <th>Init_Win_bytes_backward</th>\n",
              "      <th>act_data_pkt_fwd</th>\n",
              "      <th>min_seg_size_forward</th>\n",
              "      <th>Active Mean</th>\n",
              "      <th>Active Std</th>\n",
              "      <th>Active Max</th>\n",
              "      <th>Active Min</th>\n",
              "      <th>Idle Mean</th>\n",
              "      <th>Idle Std</th>\n",
              "      <th>Idle Max</th>\n",
              "      <th>Idle Min</th>\n",
              "    </tr>\n",
              "  </thead>\n",
              "  <tbody>\n",
              "    <tr>\n",
              "      <th>count</th>\n",
              "      <td>25191.000000</td>\n",
              "      <td>2.519100e+04</td>\n",
              "      <td>25191.000000</td>\n",
              "      <td>25191.00000</td>\n",
              "      <td>2.519100e+04</td>\n",
              "      <td>2.519100e+04</td>\n",
              "      <td>25191.000000</td>\n",
              "      <td>25191.000000</td>\n",
              "      <td>25191.000000</td>\n",
              "      <td>25191.000000</td>\n",
              "      <td>25191.00000</td>\n",
              "      <td>25191.000000</td>\n",
              "      <td>25191.000000</td>\n",
              "      <td>25191.000000</td>\n",
              "      <td>2.518500e+04</td>\n",
              "      <td>2.519100e+04</td>\n",
              "      <td>2.519100e+04</td>\n",
              "      <td>2.519100e+04</td>\n",
              "      <td>2.519100e+04</td>\n",
              "      <td>2.519100e+04</td>\n",
              "      <td>2.519100e+04</td>\n",
              "      <td>2.519100e+04</td>\n",
              "      <td>2.519100e+04</td>\n",
              "      <td>2.519100e+04</td>\n",
              "      <td>2.519100e+04</td>\n",
              "      <td>2.519100e+04</td>\n",
              "      <td>2.519100e+04</td>\n",
              "      <td>2.519100e+04</td>\n",
              "      <td>2.519100e+04</td>\n",
              "      <td>2.519100e+04</td>\n",
              "      <td>25191.000000</td>\n",
              "      <td>25191.0</td>\n",
              "      <td>25191.000000</td>\n",
              "      <td>25191.0</td>\n",
              "      <td>2.519100e+04</td>\n",
              "      <td>2.519100e+04</td>\n",
              "      <td>2.519100e+04</td>\n",
              "      <td>25191.000000</td>\n",
              "      <td>25191.000000</td>\n",
              "      <td>25191.000000</td>\n",
              "      <td>25191.000000</td>\n",
              "      <td>25191.000000</td>\n",
              "      <td>2.519100e+04</td>\n",
              "      <td>25191.000000</td>\n",
              "      <td>25191.000000</td>\n",
              "      <td>25191.000000</td>\n",
              "      <td>25191.000000</td>\n",
              "      <td>25191.000000</td>\n",
              "      <td>25191.000000</td>\n",
              "      <td>25191.000000</td>\n",
              "      <td>25191.000000</td>\n",
              "      <td>25191.000000</td>\n",
              "      <td>25191.000000</td>\n",
              "      <td>25191.000000</td>\n",
              "      <td>25191.000000</td>\n",
              "      <td>2.519100e+04</td>\n",
              "      <td>25191.0</td>\n",
              "      <td>25191.0</td>\n",
              "      <td>25191.0</td>\n",
              "      <td>25191.0</td>\n",
              "      <td>25191.0</td>\n",
              "      <td>25191.0</td>\n",
              "      <td>25191.000000</td>\n",
              "      <td>2.519100e+04</td>\n",
              "      <td>25191.00000</td>\n",
              "      <td>2.519100e+04</td>\n",
              "      <td>25191.000000</td>\n",
              "      <td>25191.000000</td>\n",
              "      <td>25191.000000</td>\n",
              "      <td>25191.000000</td>\n",
              "      <td>2.519100e+04</td>\n",
              "      <td>2.519100e+04</td>\n",
              "      <td>2.519100e+04</td>\n",
              "      <td>2.519100e+04</td>\n",
              "      <td>2.519100e+04</td>\n",
              "      <td>2.519100e+04</td>\n",
              "      <td>2.519100e+04</td>\n",
              "      <td>2.519100e+04</td>\n",
              "    </tr>\n",
              "    <tr>\n",
              "      <th>mean</th>\n",
              "      <td>8765.751379</td>\n",
              "      <td>1.302190e+07</td>\n",
              "      <td>14.372752</td>\n",
              "      <td>16.80628</td>\n",
              "      <td>5.837956e+02</td>\n",
              "      <td>2.992545e+04</td>\n",
              "      <td>219.933746</td>\n",
              "      <td>20.452860</td>\n",
              "      <td>62.091345</td>\n",
              "      <td>72.396546</td>\n",
              "      <td>624.78143</td>\n",
              "      <td>45.731333</td>\n",
              "      <td>231.531587</td>\n",
              "      <td>227.162493</td>\n",
              "      <td>inf</td>\n",
              "      <td>inf</td>\n",
              "      <td>1.139005e+06</td>\n",
              "      <td>2.295824e+06</td>\n",
              "      <td>6.924351e+06</td>\n",
              "      <td>1.629789e+05</td>\n",
              "      <td>1.269634e+07</td>\n",
              "      <td>2.327944e+06</td>\n",
              "      <td>2.246253e+06</td>\n",
              "      <td>6.762395e+06</td>\n",
              "      <td>1.163676e+06</td>\n",
              "      <td>1.002364e+07</td>\n",
              "      <td>1.843998e+06</td>\n",
              "      <td>1.244500e+06</td>\n",
              "      <td>4.274531e+06</td>\n",
              "      <td>1.092621e+06</td>\n",
              "      <td>0.048787</td>\n",
              "      <td>0.0</td>\n",
              "      <td>0.000079</td>\n",
              "      <td>0.0</td>\n",
              "      <td>3.314755e+02</td>\n",
              "      <td>3.722468e+02</td>\n",
              "      <td>5.995505e+04</td>\n",
              "      <td>6893.287051</td>\n",
              "      <td>18.223850</td>\n",
              "      <td>713.829423</td>\n",
              "      <td>139.739549</td>\n",
              "      <td>220.086914</td>\n",
              "      <td>2.957633e+05</td>\n",
              "      <td>0.026597</td>\n",
              "      <td>0.048787</td>\n",
              "      <td>0.000159</td>\n",
              "      <td>0.280378</td>\n",
              "      <td>0.302013</td>\n",
              "      <td>0.105831</td>\n",
              "      <td>0.000079</td>\n",
              "      <td>0.000159</td>\n",
              "      <td>0.687785</td>\n",
              "      <td>157.253539</td>\n",
              "      <td>62.091345</td>\n",
              "      <td>231.531587</td>\n",
              "      <td>3.314755e+02</td>\n",
              "      <td>0.0</td>\n",
              "      <td>0.0</td>\n",
              "      <td>0.0</td>\n",
              "      <td>0.0</td>\n",
              "      <td>0.0</td>\n",
              "      <td>0.0</td>\n",
              "      <td>14.372752</td>\n",
              "      <td>5.837956e+02</td>\n",
              "      <td>16.80628</td>\n",
              "      <td>2.992641e+04</td>\n",
              "      <td>7068.153348</td>\n",
              "      <td>2338.379024</td>\n",
              "      <td>10.750308</td>\n",
              "      <td>25.890358</td>\n",
              "      <td>8.175780e+04</td>\n",
              "      <td>4.553670e+04</td>\n",
              "      <td>1.631345e+05</td>\n",
              "      <td>5.662674e+04</td>\n",
              "      <td>6.095297e+06</td>\n",
              "      <td>3.628463e+05</td>\n",
              "      <td>6.366900e+06</td>\n",
              "      <td>5.795319e+06</td>\n",
              "    </tr>\n",
              "    <tr>\n",
              "      <th>std</th>\n",
              "      <td>19077.629319</td>\n",
              "      <td>3.191602e+07</td>\n",
              "      <td>1220.476270</td>\n",
              "      <td>1620.27646</td>\n",
              "      <td>7.757115e+03</td>\n",
              "      <td>3.632427e+06</td>\n",
              "      <td>739.251288</td>\n",
              "      <td>60.512982</td>\n",
              "      <td>191.647090</td>\n",
              "      <td>293.360718</td>\n",
              "      <td>1481.65387</td>\n",
              "      <td>70.516212</td>\n",
              "      <td>472.544033</td>\n",
              "      <td>624.163182</td>\n",
              "      <td>NaN</td>\n",
              "      <td>NaN</td>\n",
              "      <td>4.418710e+06</td>\n",
              "      <td>7.231620e+06</td>\n",
              "      <td>2.035185e+07</td>\n",
              "      <td>2.809065e+06</td>\n",
              "      <td>3.181629e+07</td>\n",
              "      <td>9.748498e+06</td>\n",
              "      <td>7.573190e+06</td>\n",
              "      <td>2.040783e+07</td>\n",
              "      <td>9.181693e+06</td>\n",
              "      <td>2.889146e+07</td>\n",
              "      <td>9.324723e+06</td>\n",
              "      <td>5.304017e+06</td>\n",
              "      <td>1.565741e+07</td>\n",
              "      <td>8.915008e+06</td>\n",
              "      <td>0.215427</td>\n",
              "      <td>0.0</td>\n",
              "      <td>0.008910</td>\n",
              "      <td>0.0</td>\n",
              "      <td>2.493288e+04</td>\n",
              "      <td>3.240846e+04</td>\n",
              "      <td>2.337848e+05</td>\n",
              "      <td>39174.193402</td>\n",
              "      <td>26.166304</td>\n",
              "      <td>1606.101337</td>\n",
              "      <td>252.870523</td>\n",
              "      <td>497.329648</td>\n",
              "      <td>1.240815e+06</td>\n",
              "      <td>0.160905</td>\n",
              "      <td>0.215427</td>\n",
              "      <td>0.012600</td>\n",
              "      <td>0.449193</td>\n",
              "      <td>0.459140</td>\n",
              "      <td>0.307628</td>\n",
              "      <td>0.008910</td>\n",
              "      <td>0.012600</td>\n",
              "      <td>0.666127</td>\n",
              "      <td>273.365361</td>\n",
              "      <td>191.647090</td>\n",
              "      <td>472.544033</td>\n",
              "      <td>2.493288e+04</td>\n",
              "      <td>0.0</td>\n",
              "      <td>0.0</td>\n",
              "      <td>0.0</td>\n",
              "      <td>0.0</td>\n",
              "      <td>0.0</td>\n",
              "      <td>0.0</td>\n",
              "      <td>1220.476270</td>\n",
              "      <td>7.757115e+03</td>\n",
              "      <td>1620.27646</td>\n",
              "      <td>3.632433e+06</td>\n",
              "      <td>14824.236344</td>\n",
              "      <td>9227.293545</td>\n",
              "      <td>1179.682409</td>\n",
              "      <td>6.436242</td>\n",
              "      <td>8.378623e+05</td>\n",
              "      <td>4.001228e+05</td>\n",
              "      <td>1.208254e+06</td>\n",
              "      <td>7.917691e+05</td>\n",
              "      <td>1.949681e+07</td>\n",
              "      <td>3.767660e+06</td>\n",
              "      <td>2.013473e+07</td>\n",
              "      <td>1.923531e+07</td>\n",
              "    </tr>\n",
              "    <tr>\n",
              "      <th>min</th>\n",
              "      <td>0.000000</td>\n",
              "      <td>-1.000000e+00</td>\n",
              "      <td>1.000000</td>\n",
              "      <td>0.00000</td>\n",
              "      <td>0.000000e+00</td>\n",
              "      <td>0.000000e+00</td>\n",
              "      <td>0.000000</td>\n",
              "      <td>0.000000</td>\n",
              "      <td>0.000000</td>\n",
              "      <td>0.000000</td>\n",
              "      <td>0.00000</td>\n",
              "      <td>0.000000</td>\n",
              "      <td>0.000000</td>\n",
              "      <td>0.000000</td>\n",
              "      <td>-1.200000e+07</td>\n",
              "      <td>-2.000000e+06</td>\n",
              "      <td>-1.000000e+00</td>\n",
              "      <td>0.000000e+00</td>\n",
              "      <td>-1.000000e+00</td>\n",
              "      <td>-1.200000e+01</td>\n",
              "      <td>0.000000e+00</td>\n",
              "      <td>0.000000e+00</td>\n",
              "      <td>0.000000e+00</td>\n",
              "      <td>0.000000e+00</td>\n",
              "      <td>0.000000e+00</td>\n",
              "      <td>0.000000e+00</td>\n",
              "      <td>0.000000e+00</td>\n",
              "      <td>0.000000e+00</td>\n",
              "      <td>0.000000e+00</td>\n",
              "      <td>0.000000e+00</td>\n",
              "      <td>0.000000</td>\n",
              "      <td>0.0</td>\n",
              "      <td>0.000000</td>\n",
              "      <td>0.0</td>\n",
              "      <td>0.000000e+00</td>\n",
              "      <td>0.000000e+00</td>\n",
              "      <td>0.000000e+00</td>\n",
              "      <td>0.000000</td>\n",
              "      <td>0.000000</td>\n",
              "      <td>0.000000</td>\n",
              "      <td>0.000000</td>\n",
              "      <td>0.000000</td>\n",
              "      <td>0.000000e+00</td>\n",
              "      <td>0.000000</td>\n",
              "      <td>0.000000</td>\n",
              "      <td>0.000000</td>\n",
              "      <td>0.000000</td>\n",
              "      <td>0.000000</td>\n",
              "      <td>0.000000</td>\n",
              "      <td>0.000000</td>\n",
              "      <td>0.000000</td>\n",
              "      <td>0.000000</td>\n",
              "      <td>0.000000</td>\n",
              "      <td>0.000000</td>\n",
              "      <td>0.000000</td>\n",
              "      <td>0.000000e+00</td>\n",
              "      <td>0.0</td>\n",
              "      <td>0.0</td>\n",
              "      <td>0.0</td>\n",
              "      <td>0.0</td>\n",
              "      <td>0.0</td>\n",
              "      <td>0.0</td>\n",
              "      <td>1.000000</td>\n",
              "      <td>0.000000e+00</td>\n",
              "      <td>0.00000</td>\n",
              "      <td>0.000000e+00</td>\n",
              "      <td>-1.000000</td>\n",
              "      <td>-1.000000</td>\n",
              "      <td>0.000000</td>\n",
              "      <td>0.000000</td>\n",
              "      <td>0.000000e+00</td>\n",
              "      <td>0.000000e+00</td>\n",
              "      <td>0.000000e+00</td>\n",
              "      <td>0.000000e+00</td>\n",
              "      <td>0.000000e+00</td>\n",
              "      <td>0.000000e+00</td>\n",
              "      <td>0.000000e+00</td>\n",
              "      <td>0.000000e+00</td>\n",
              "    </tr>\n",
              "    <tr>\n",
              "      <th>25%</th>\n",
              "      <td>53.000000</td>\n",
              "      <td>1.670000e+02</td>\n",
              "      <td>2.000000</td>\n",
              "      <td>1.00000</td>\n",
              "      <td>1.200000e+01</td>\n",
              "      <td>6.000000e+00</td>\n",
              "      <td>6.000000</td>\n",
              "      <td>0.000000</td>\n",
              "      <td>6.000000</td>\n",
              "      <td>0.000000</td>\n",
              "      <td>6.00000</td>\n",
              "      <td>0.000000</td>\n",
              "      <td>2.000000</td>\n",
              "      <td>0.000000</td>\n",
              "      <td>1.194258e+02</td>\n",
              "      <td>6.526833e+00</td>\n",
              "      <td>6.566667e+01</td>\n",
              "      <td>0.000000e+00</td>\n",
              "      <td>1.370000e+02</td>\n",
              "      <td>3.000000e+00</td>\n",
              "      <td>1.000000e+00</td>\n",
              "      <td>1.000000e+00</td>\n",
              "      <td>0.000000e+00</td>\n",
              "      <td>1.000000e+00</td>\n",
              "      <td>0.000000e+00</td>\n",
              "      <td>0.000000e+00</td>\n",
              "      <td>0.000000e+00</td>\n",
              "      <td>0.000000e+00</td>\n",
              "      <td>0.000000e+00</td>\n",
              "      <td>0.000000e+00</td>\n",
              "      <td>0.000000</td>\n",
              "      <td>0.0</td>\n",
              "      <td>0.000000</td>\n",
              "      <td>0.0</td>\n",
              "      <td>4.000000e+01</td>\n",
              "      <td>2.000000e+01</td>\n",
              "      <td>3.332986e+00</td>\n",
              "      <td>0.177968</td>\n",
              "      <td>0.000000</td>\n",
              "      <td>6.000000</td>\n",
              "      <td>6.000000</td>\n",
              "      <td>0.000000</td>\n",
              "      <td>0.000000e+00</td>\n",
              "      <td>0.000000</td>\n",
              "      <td>0.000000</td>\n",
              "      <td>0.000000</td>\n",
              "      <td>0.000000</td>\n",
              "      <td>0.000000</td>\n",
              "      <td>0.000000</td>\n",
              "      <td>0.000000</td>\n",
              "      <td>0.000000</td>\n",
              "      <td>0.000000</td>\n",
              "      <td>9.000000</td>\n",
              "      <td>6.000000</td>\n",
              "      <td>2.000000</td>\n",
              "      <td>4.000000e+01</td>\n",
              "      <td>0.0</td>\n",
              "      <td>0.0</td>\n",
              "      <td>0.0</td>\n",
              "      <td>0.0</td>\n",
              "      <td>0.0</td>\n",
              "      <td>0.0</td>\n",
              "      <td>2.000000</td>\n",
              "      <td>1.200000e+01</td>\n",
              "      <td>1.00000</td>\n",
              "      <td>6.000000e+00</td>\n",
              "      <td>-1.000000</td>\n",
              "      <td>-1.000000</td>\n",
              "      <td>0.000000</td>\n",
              "      <td>20.000000</td>\n",
              "      <td>0.000000e+00</td>\n",
              "      <td>0.000000e+00</td>\n",
              "      <td>0.000000e+00</td>\n",
              "      <td>0.000000e+00</td>\n",
              "      <td>0.000000e+00</td>\n",
              "      <td>0.000000e+00</td>\n",
              "      <td>0.000000e+00</td>\n",
              "      <td>0.000000e+00</td>\n",
              "    </tr>\n",
              "    <tr>\n",
              "      <th>50%</th>\n",
              "      <td>80.000000</td>\n",
              "      <td>3.132600e+04</td>\n",
              "      <td>2.000000</td>\n",
              "      <td>2.00000</td>\n",
              "      <td>6.400000e+01</td>\n",
              "      <td>1.280000e+02</td>\n",
              "      <td>38.000000</td>\n",
              "      <td>6.000000</td>\n",
              "      <td>36.000000</td>\n",
              "      <td>0.000000</td>\n",
              "      <td>83.00000</td>\n",
              "      <td>6.000000</td>\n",
              "      <td>75.000000</td>\n",
              "      <td>0.000000</td>\n",
              "      <td>4.717414e+03</td>\n",
              "      <td>1.073103e+02</td>\n",
              "      <td>1.169300e+04</td>\n",
              "      <td>1.212436e+02</td>\n",
              "      <td>3.089000e+04</td>\n",
              "      <td>4.000000e+00</td>\n",
              "      <td>4.000000e+00</td>\n",
              "      <td>4.000000e+00</td>\n",
              "      <td>0.000000e+00</td>\n",
              "      <td>4.000000e+00</td>\n",
              "      <td>3.000000e+00</td>\n",
              "      <td>3.000000e+00</td>\n",
              "      <td>3.000000e+00</td>\n",
              "      <td>0.000000e+00</td>\n",
              "      <td>3.000000e+00</td>\n",
              "      <td>2.000000e+00</td>\n",
              "      <td>0.000000</td>\n",
              "      <td>0.0</td>\n",
              "      <td>0.000000</td>\n",
              "      <td>0.0</td>\n",
              "      <td>6.400000e+01</td>\n",
              "      <td>4.000000e+01</td>\n",
              "      <td>6.131396e+01</td>\n",
              "      <td>20.963921</td>\n",
              "      <td>6.000000</td>\n",
              "      <td>90.000000</td>\n",
              "      <td>58.028571</td>\n",
              "      <td>27.135463</td>\n",
              "      <td>7.363333e+02</td>\n",
              "      <td>0.000000</td>\n",
              "      <td>0.000000</td>\n",
              "      <td>0.000000</td>\n",
              "      <td>0.000000</td>\n",
              "      <td>0.000000</td>\n",
              "      <td>0.000000</td>\n",
              "      <td>0.000000</td>\n",
              "      <td>0.000000</td>\n",
              "      <td>1.000000</td>\n",
              "      <td>73.250000</td>\n",
              "      <td>36.000000</td>\n",
              "      <td>75.000000</td>\n",
              "      <td>6.400000e+01</td>\n",
              "      <td>0.0</td>\n",
              "      <td>0.0</td>\n",
              "      <td>0.0</td>\n",
              "      <td>0.0</td>\n",
              "      <td>0.0</td>\n",
              "      <td>0.0</td>\n",
              "      <td>2.000000</td>\n",
              "      <td>6.400000e+01</td>\n",
              "      <td>2.00000</td>\n",
              "      <td>1.280000e+02</td>\n",
              "      <td>235.000000</td>\n",
              "      <td>-1.000000</td>\n",
              "      <td>1.000000</td>\n",
              "      <td>20.000000</td>\n",
              "      <td>0.000000e+00</td>\n",
              "      <td>0.000000e+00</td>\n",
              "      <td>0.000000e+00</td>\n",
              "      <td>0.000000e+00</td>\n",
              "      <td>0.000000e+00</td>\n",
              "      <td>0.000000e+00</td>\n",
              "      <td>0.000000e+00</td>\n",
              "      <td>0.000000e+00</td>\n",
              "    </tr>\n",
              "    <tr>\n",
              "      <th>75%</th>\n",
              "      <td>443.000000</td>\n",
              "      <td>1.461366e+06</td>\n",
              "      <td>4.000000</td>\n",
              "      <td>4.00000</td>\n",
              "      <td>1.760000e+02</td>\n",
              "      <td>3.860000e+02</td>\n",
              "      <td>74.000000</td>\n",
              "      <td>38.000000</td>\n",
              "      <td>51.000000</td>\n",
              "      <td>23.276598</td>\n",
              "      <td>211.00000</td>\n",
              "      <td>87.000000</td>\n",
              "      <td>166.000000</td>\n",
              "      <td>15.418995</td>\n",
              "      <td>1.860465e+05</td>\n",
              "      <td>2.209945e+04</td>\n",
              "      <td>2.024310e+05</td>\n",
              "      <td>2.557764e+05</td>\n",
              "      <td>1.042964e+06</td>\n",
              "      <td>7.200000e+01</td>\n",
              "      <td>4.985900e+05</td>\n",
              "      <td>7.910771e+04</td>\n",
              "      <td>3.382411e+04</td>\n",
              "      <td>2.468160e+05</td>\n",
              "      <td>4.900000e+01</td>\n",
              "      <td>7.554750e+04</td>\n",
              "      <td>1.337233e+04</td>\n",
              "      <td>8.067318e+03</td>\n",
              "      <td>4.339350e+04</td>\n",
              "      <td>2.350000e+01</td>\n",
              "      <td>0.000000</td>\n",
              "      <td>0.0</td>\n",
              "      <td>0.000000</td>\n",
              "      <td>0.0</td>\n",
              "      <td>1.040000e+02</td>\n",
              "      <td>9.200000e+01</td>\n",
              "      <td>1.149425e+04</td>\n",
              "      <td>6172.839506</td>\n",
              "      <td>38.000000</td>\n",
              "      <td>295.000000</td>\n",
              "      <td>105.366667</td>\n",
              "      <td>128.167079</td>\n",
              "      <td>1.642680e+04</td>\n",
              "      <td>0.000000</td>\n",
              "      <td>0.000000</td>\n",
              "      <td>0.000000</td>\n",
              "      <td>1.000000</td>\n",
              "      <td>1.000000</td>\n",
              "      <td>0.000000</td>\n",
              "      <td>0.000000</td>\n",
              "      <td>0.000000</td>\n",
              "      <td>1.000000</td>\n",
              "      <td>135.325000</td>\n",
              "      <td>51.000000</td>\n",
              "      <td>166.000000</td>\n",
              "      <td>1.040000e+02</td>\n",
              "      <td>0.0</td>\n",
              "      <td>0.0</td>\n",
              "      <td>0.0</td>\n",
              "      <td>0.0</td>\n",
              "      <td>0.0</td>\n",
              "      <td>0.0</td>\n",
              "      <td>4.000000</td>\n",
              "      <td>1.760000e+02</td>\n",
              "      <td>4.00000</td>\n",
              "      <td>3.860000e+02</td>\n",
              "      <td>8192.000000</td>\n",
              "      <td>235.000000</td>\n",
              "      <td>2.000000</td>\n",
              "      <td>32.000000</td>\n",
              "      <td>0.000000e+00</td>\n",
              "      <td>0.000000e+00</td>\n",
              "      <td>0.000000e+00</td>\n",
              "      <td>0.000000e+00</td>\n",
              "      <td>0.000000e+00</td>\n",
              "      <td>0.000000e+00</td>\n",
              "      <td>0.000000e+00</td>\n",
              "      <td>0.000000e+00</td>\n",
              "    </tr>\n",
              "    <tr>\n",
              "      <th>max</th>\n",
              "      <td>65464.000000</td>\n",
              "      <td>1.199998e+08</td>\n",
              "      <td>193200.000000</td>\n",
              "      <td>256740.00000</td>\n",
              "      <td>1.162781e+06</td>\n",
              "      <td>5.756816e+08</td>\n",
              "      <td>11632.000000</td>\n",
              "      <td>1983.000000</td>\n",
              "      <td>2901.750000</td>\n",
              "      <td>5795.500690</td>\n",
              "      <td>11680.00000</td>\n",
              "      <td>1460.000000</td>\n",
              "      <td>3867.000000</td>\n",
              "      <td>6692.644993</td>\n",
              "      <td>inf</td>\n",
              "      <td>inf</td>\n",
              "      <td>9.630000e+07</td>\n",
              "      <td>8.190000e+07</td>\n",
              "      <td>1.200000e+08</td>\n",
              "      <td>9.630000e+07</td>\n",
              "      <td>1.200000e+08</td>\n",
              "      <td>1.200000e+08</td>\n",
              "      <td>8.270000e+07</td>\n",
              "      <td>1.200000e+08</td>\n",
              "      <td>1.200000e+08</td>\n",
              "      <td>1.200000e+08</td>\n",
              "      <td>1.200000e+08</td>\n",
              "      <td>8.260000e+07</td>\n",
              "      <td>1.200000e+08</td>\n",
              "      <td>1.200000e+08</td>\n",
              "      <td>1.000000</td>\n",
              "      <td>0.0</td>\n",
              "      <td>1.000000</td>\n",
              "      <td>0.0</td>\n",
              "      <td>3.939424e+06</td>\n",
              "      <td>5.134800e+06</td>\n",
              "      <td>3.000000e+06</td>\n",
              "      <td>1000000.000000</td>\n",
              "      <td>1306.000000</td>\n",
              "      <td>11680.000000</td>\n",
              "      <td>2161.280000</td>\n",
              "      <td>4380.487987</td>\n",
              "      <td>1.920000e+07</td>\n",
              "      <td>1.000000</td>\n",
              "      <td>1.000000</td>\n",
              "      <td>1.000000</td>\n",
              "      <td>1.000000</td>\n",
              "      <td>1.000000</td>\n",
              "      <td>1.000000</td>\n",
              "      <td>1.000000</td>\n",
              "      <td>1.000000</td>\n",
              "      <td>7.000000</td>\n",
              "      <td>2251.333333</td>\n",
              "      <td>2901.750000</td>\n",
              "      <td>3867.000000</td>\n",
              "      <td>3.939424e+06</td>\n",
              "      <td>0.0</td>\n",
              "      <td>0.0</td>\n",
              "      <td>0.0</td>\n",
              "      <td>0.0</td>\n",
              "      <td>0.0</td>\n",
              "      <td>0.0</td>\n",
              "      <td>193200.000000</td>\n",
              "      <td>1.162781e+06</td>\n",
              "      <td>256740.00000</td>\n",
              "      <td>5.756816e+08</td>\n",
              "      <td>65535.000000</td>\n",
              "      <td>65535.000000</td>\n",
              "      <td>187113.000000</td>\n",
              "      <td>60.000000</td>\n",
              "      <td>1.016597e+08</td>\n",
              "      <td>2.529324e+07</td>\n",
              "      <td>1.016597e+08</td>\n",
              "      <td>1.016597e+08</td>\n",
              "      <td>1.200000e+08</td>\n",
              "      <td>6.270000e+07</td>\n",
              "      <td>1.200000e+08</td>\n",
              "      <td>1.200000e+08</td>\n",
              "    </tr>\n",
              "  </tbody>\n",
              "</table>\n",
              "</div>"
            ],
            "text/plain": [
              "        Destination Port   Flow Duration  ...      Idle Max      Idle Min\n",
              "count       25191.000000    2.519100e+04  ...  2.519100e+04  2.519100e+04\n",
              "mean         8765.751379    1.302190e+07  ...  6.366900e+06  5.795319e+06\n",
              "std         19077.629319    3.191602e+07  ...  2.013473e+07  1.923531e+07\n",
              "min             0.000000   -1.000000e+00  ...  0.000000e+00  0.000000e+00\n",
              "25%            53.000000    1.670000e+02  ...  0.000000e+00  0.000000e+00\n",
              "50%            80.000000    3.132600e+04  ...  0.000000e+00  0.000000e+00\n",
              "75%           443.000000    1.461366e+06  ...  0.000000e+00  0.000000e+00\n",
              "max         65464.000000    1.199998e+08  ...  1.200000e+08  1.200000e+08\n",
              "\n",
              "[8 rows x 78 columns]"
            ]
          },
          "execution_count": 5,
          "metadata": {},
          "output_type": "execute_result"
        }
      ],
      "source": [
        "## some stats about the data\n",
        "df_data.describe()\n",
        "## From this we can drop the columns with only zeros: FWD"
      ]
    },
    {
      "cell_type": "code",
      "execution_count": 6,
      "metadata": {
        "colab": {
          "base_uri": "https://localhost:8080/"
        },
        "id": "2M6ndtfIzPGz",
        "outputId": "f23465f1-64dc-4ea9-fbc5-4284caa42924"
      },
      "outputs": [
        {
          "data": {
            "text/plain": [
              "Index([' Destination Port', ' Flow Duration', ' Total Fwd Packets',\n",
              "       ' Total Backward Packets', 'Total Length of Fwd Packets',\n",
              "       ' Total Length of Bwd Packets', ' Fwd Packet Length Max',\n",
              "       ' Fwd Packet Length Min', ' Fwd Packet Length Mean',\n",
              "       ' Fwd Packet Length Std', 'Bwd Packet Length Max',\n",
              "       ' Bwd Packet Length Min', ' Bwd Packet Length Mean',\n",
              "       ' Bwd Packet Length Std', 'Flow Bytes/s', ' Flow Packets/s',\n",
              "       ' Flow IAT Mean', ' Flow IAT Std', ' Flow IAT Max', ' Flow IAT Min',\n",
              "       'Fwd IAT Total', ' Fwd IAT Mean', ' Fwd IAT Std', ' Fwd IAT Max',\n",
              "       ' Fwd IAT Min', 'Bwd IAT Total', ' Bwd IAT Mean', ' Bwd IAT Std',\n",
              "       ' Bwd IAT Max', ' Bwd IAT Min', 'Fwd PSH Flags', ' Bwd PSH Flags',\n",
              "       ' Fwd URG Flags', ' Bwd URG Flags', ' Fwd Header Length',\n",
              "       ' Bwd Header Length', 'Fwd Packets/s', ' Bwd Packets/s',\n",
              "       ' Min Packet Length', ' Max Packet Length', ' Packet Length Mean',\n",
              "       ' Packet Length Std', ' Packet Length Variance', 'FIN Flag Count',\n",
              "       ' SYN Flag Count', ' RST Flag Count', ' PSH Flag Count',\n",
              "       ' ACK Flag Count', ' URG Flag Count', ' CWE Flag Count',\n",
              "       ' ECE Flag Count', ' Down/Up Ratio', ' Average Packet Size',\n",
              "       ' Avg Fwd Segment Size', ' Avg Bwd Segment Size',\n",
              "       ' Fwd Header Length.1', 'Fwd Avg Bytes/Bulk', ' Fwd Avg Packets/Bulk',\n",
              "       ' Fwd Avg Bulk Rate', ' Bwd Avg Bytes/Bulk', ' Bwd Avg Packets/Bulk',\n",
              "       'Bwd Avg Bulk Rate', 'Subflow Fwd Packets', ' Subflow Fwd Bytes',\n",
              "       ' Subflow Bwd Packets', ' Subflow Bwd Bytes', 'Init_Win_bytes_forward',\n",
              "       ' Init_Win_bytes_backward', ' act_data_pkt_fwd',\n",
              "       ' min_seg_size_forward', 'Active Mean', ' Active Std', ' Active Max',\n",
              "       ' Active Min', 'Idle Mean', ' Idle Std', ' Idle Max', ' Idle Min',\n",
              "       'Label'],\n",
              "      dtype='object')"
            ]
          },
          "execution_count": 6,
          "metadata": {},
          "output_type": "execute_result"
        }
      ],
      "source": [
        "## get names of columns of data\n",
        "df_data.columns"
      ]
    },
    {
      "cell_type": "markdown",
      "metadata": {
        "id": "m9c0cGlgh5KR"
      },
      "source": [
        "# 3. Data Cleaning (Remove NaNs and Infinities)"
      ]
    },
    {
      "cell_type": "code",
      "execution_count": 7,
      "metadata": {
        "colab": {
          "base_uri": "https://localhost:8080/"
        },
        "id": "fT6SNy_w1cUW",
        "outputId": "d89ac402-f1d5-49b4-b006-e923077de628"
      },
      "outputs": [
        {
          "data": {
            "text/plain": [
              "Index(['Flow Bytes/s'], dtype='object')"
            ]
          },
          "execution_count": 7,
          "metadata": {},
          "output_type": "execute_result"
        }
      ],
      "source": [
        "## get the columns with null values greater than zero\n",
        "df_data.columns[df_data.isna().sum() >0]"
      ]
    },
    {
      "cell_type": "code",
      "execution_count": 8,
      "metadata": {
        "colab": {
          "base_uri": "https://localhost:8080/"
        },
        "id": "yDXjp7y_2tmv",
        "outputId": "2a85a18f-f4c6-45c8-afcf-71462fa7d99b"
      },
      "outputs": [
        {
          "data": {
            "text/plain": [
              "6"
            ]
          },
          "execution_count": 8,
          "metadata": {},
          "output_type": "execute_result"
        }
      ],
      "source": [
        "## check if this column has really missing values\n",
        "df_data['Flow Bytes/s'].isna().sum()"
      ]
    },
    {
      "cell_type": "markdown",
      "metadata": {
        "id": "rT-cvklph_vz"
      },
      "source": [
        "Here there was a problem in dropping the infinity values; even though I'd drop them they persist and keep being there: some reasons:\n",
        "1.  There might be no nulls but 'np.inf' values\n",
        "2.   Check from the describe if there are any inf values for different columns (as these won't appear in conditions of nulls)\n",
        "3.   Drop by condition better than the index as this might be tricky; condition gets it at once with inplace = True\n",
        "4.   I'm not sure if this affected but make a copy for the dataframe to drop on"
      ]
    },
    {
      "cell_type": "code",
      "execution_count": 9,
      "metadata": {
        "id": "EBgAvN-b8I4Z"
      },
      "outputs": [],
      "source": [
        "## Drop nulls ==> this drops the nulls in flow/bytes\n",
        "## Since the dataframe is of a quite large number we can easily drop the values ((we don't need to know the column or anything; the above trials was for us))\n",
        "## But we need to remove it from the whole dataframe\n",
        "df_data_copy = df_data.copy()\n",
        "df_data_na = df_data_copy.dropna()"
      ]
    },
    {
      "cell_type": "code",
      "execution_count": 10,
      "metadata": {
        "colab": {
          "base_uri": "https://localhost:8080/"
        },
        "id": "W1YhJIxFAIlW",
        "outputId": "650ec60e-b65d-4190-840f-a4339e8b04e3"
      },
      "outputs": [
        {
          "data": {
            "text/plain": [
              "25185"
            ]
          },
          "execution_count": 10,
          "metadata": {},
          "output_type": "execute_result"
        }
      ],
      "source": [
        "## length should be less by 6\n",
        "len(df_data_na)"
      ]
    },
    {
      "cell_type": "code",
      "execution_count": 11,
      "metadata": {
        "id": "okF_yemXD16E"
      },
      "outputs": [],
      "source": [
        "# Here we drop the infinity values in Flow Bytes\n",
        "df_data_na.drop(df_data_na[df_data_na['Flow Bytes/s'] == np.inf].index, inplace = True)"
      ]
    },
    {
      "cell_type": "code",
      "execution_count": 12,
      "metadata": {
        "colab": {
          "base_uri": "https://localhost:8080/"
        },
        "id": "kfCUxuM_EXlN",
        "outputId": "a8ab70b5-f366-4189-af9e-eec2fc79dfb2"
      },
      "outputs": [
        {
          "name": "stdout",
          "output_type": "stream",
          "text": [
            "[] 0\n"
          ]
        }
      ],
      "source": [
        "## Recheck\n",
        "idx = df_data_na.index[df_data_na['Flow Bytes/s'] == np.inf]\n",
        "idx = list(idx)\n",
        "print(idx, df_data_na['Flow Bytes/s'].isna().sum())"
      ]
    },
    {
      "cell_type": "code",
      "execution_count": 13,
      "metadata": {
        "colab": {
          "base_uri": "https://localhost:8080/"
        },
        "id": "Gy_uPJDuAUKt",
        "outputId": "ae35f79f-c18e-4137-f65b-033fe6685720"
      },
      "outputs": [
        {
          "data": {
            "text/plain": [
              "count    2.517900e+04\n",
              "mean     1.661845e+06\n",
              "std      2.785234e+07\n",
              "min     -1.200000e+07\n",
              "25%      1.194084e+02\n",
              "50%      4.713444e+03\n",
              "75%      1.860465e+05\n",
              "max      2.071000e+09\n",
              "Name: Flow Bytes/s, dtype: float64"
            ]
          },
          "execution_count": 13,
          "metadata": {},
          "output_type": "execute_result"
        }
      ],
      "source": [
        "## we can see the range of values (-1.2x10^-7 to 1.86*10^5) if we want to replace the NaN by mean value: the value was fixed\n",
        "df_data_na['Flow Bytes/s'].describe()"
      ]
    },
    {
      "cell_type": "code",
      "execution_count": 14,
      "metadata": {
        "colab": {
          "base_uri": "https://localhost:8080/"
        },
        "id": "eHEMaxKkAa99",
        "outputId": "fc587788-efa6-4c79-80a5-f94322a50b0b"
      },
      "outputs": [
        {
          "data": {
            "text/plain": [
              "Int64Index([], dtype='int64')"
            ]
          },
          "execution_count": 14,
          "metadata": {},
          "output_type": "execute_result"
        }
      ],
      "source": [
        "### Now we need to remove the infinity values in Flow Packets ==> we can see there are no inf values\n",
        "idx2 = df_data_na.index[df_data_na[' Flow Packets/s'] == np.inf]\n",
        "idx2"
      ]
    },
    {
      "cell_type": "code",
      "execution_count": 15,
      "metadata": {
        "colab": {
          "base_uri": "https://localhost:8080/"
        },
        "id": "fIIj_NU659f2",
        "outputId": "0d992a4a-9629-413f-a1d0-5e7e8fd8d86c"
      },
      "outputs": [
        {
          "data": {
            "text/plain": [
              "count    2.517900e+04\n",
              "mean     6.680076e+04\n",
              "std      2.420045e+05\n",
              "min     -2.000000e+06\n",
              "25%      6.514248e+00\n",
              "50%      1.070754e+02\n",
              "75%      2.209945e+04\n",
              "max      3.000000e+06\n",
              "Name:  Flow Packets/s, dtype: float64"
            ]
          },
          "execution_count": 15,
          "metadata": {},
          "output_type": "execute_result"
        }
      ],
      "source": [
        "df_data_na[' Flow Packets/s'].describe() ## And its describe is cleaned now"
      ]
    },
    {
      "cell_type": "code",
      "execution_count": 16,
      "metadata": {
        "colab": {
          "base_uri": "https://localhost:8080/"
        },
        "id": "kkg_2ula3Ew3",
        "outputId": "f3db878d-2a6d-4739-9931-fe4c144acf10"
      },
      "outputs": [
        {
          "data": {
            "text/plain": [
              "25179"
            ]
          },
          "execution_count": 16,
          "metadata": {},
          "output_type": "execute_result"
        }
      ],
      "source": [
        "## check the number of rows in dataframe\n",
        "len(df_data_na)"
      ]
    },
    {
      "cell_type": "markdown",
      "metadata": {
        "id": "ioaE1V1miHJE"
      },
      "source": [
        "# 4. Split the data"
      ]
    },
    {
      "cell_type": "code",
      "execution_count": 17,
      "metadata": {
        "id": "Zh2YIahbzaQF"
      },
      "outputs": [],
      "source": [
        "## get the data\n",
        "df_x = df_data_na.iloc[:, :-1]"
      ]
    },
    {
      "cell_type": "code",
      "execution_count": 18,
      "metadata": {
        "id": "9mGSH4tAzkzV"
      },
      "outputs": [],
      "source": [
        "## get the label of the data\n",
        "df_y = df_data_na.iloc[:, -1]"
      ]
    },
    {
      "cell_type": "code",
      "execution_count": 19,
      "metadata": {
        "id": "-STrGnZp475L"
      },
      "outputs": [],
      "source": [
        "X_train, X_test, y_train, y_test = train_test_split(df_x, df_y, test_size=0.3, random_state=42)"
      ]
    },
    {
      "cell_type": "markdown",
      "metadata": {
        "id": "ztnfthfdiK6O"
      },
      "source": [
        "# 5. Classifier A (XGBoost)"
      ]
    },
    {
      "cell_type": "markdown",
      "metadata": {
        "id": "zJfX9xBA5ze3"
      },
      "source": [
        "**Evaluation during training by cross-val**"
      ]
    },
    {
      "cell_type": "code",
      "execution_count": 20,
      "metadata": {
        "id": "LlOT5mxe8kAi"
      },
      "outputs": [],
      "source": [
        "## Encode (y_true) to avoid mixing the classes by label encoder due to \n",
        "y_true_enc= []\n",
        "for i in range(len(y_train)):\n",
        "\n",
        "    if y_train.iloc[i] == \"BENIGN\":\n",
        "       y_true_enc.append(0)\n",
        "    else: \n",
        "       y_true_enc.append(1)"
      ]
    },
    {
      "cell_type": "code",
      "execution_count": 21,
      "metadata": {
        "colab": {
          "base_uri": "https://localhost:8080/"
        },
        "id": "a_JdXafd9gH2",
        "outputId": "5c0279e4-8624-43d9-eef6-a047278360c1"
      },
      "outputs": [
        {
          "data": {
            "text/plain": [
              "17625"
            ]
          },
          "execution_count": 21,
          "metadata": {},
          "output_type": "execute_result"
        }
      ],
      "source": [
        "len(y_true_enc)"
      ]
    },
    {
      "cell_type": "code",
      "execution_count": 22,
      "metadata": {
        "id": "E2sjjDa-6jy7"
      },
      "outputs": [],
      "source": [
        "## This needs the y-true to be encoded\n",
        "### we make this on the train data then test by test data\n",
        "\n",
        "def cross_val_scores_print(clf, X_train, y_train, y_enc, cv):\n",
        "    ### Macro f1 scores\n",
        "    f1_scores = cross_val_score(clf, X_train, y_train, cv=cv, scoring='f1_macro', error_score=\"raise\")\n",
        "    print(\"Macro F1 Scores of each iteration from the 10 iterations: {0}\".format(f1_scores))\n",
        "    print(\"Average Macro F1 Score of the 10 iterations: {0}\".format(mean(f1_scores)))\n",
        "    print(50*'-')\n",
        "    ### Precision ==> We have to make it: macro/micro/weighted in case of multi class, elsewise it throws nans\n",
        "    p_scores = cross_val_score(clf, X_train, y_enc, cv=cv, scoring='precision_macro', error_score=\"raise\")\n",
        "    print(\"Precision Scores of each iteration from the 10 iterations: {0}\".format(p_scores))\n",
        "    print(\"Average Precision Score of the 10 iterations: {0}\".format(mean(p_scores)))\n",
        "    print(50*'-')\n",
        "    ### Recall\n",
        "    r_scores = cross_val_score(clf, X_train, y_enc, cv=cv, scoring='recall_macro', error_score=\"raise\")\n",
        "    print(\"Recall Scores of each iteration from the 10 iterations: {0}\".format(r_scores))\n",
        "    print(\"Average Recall of the 10 iterations: {0}\".format(mean(r_scores)))\n",
        "    print(50*'-')"
      ]
    },
    {
      "cell_type": "code",
      "execution_count": 23,
      "metadata": {
        "id": "aZKH4hbwz2j8"
      },
      "outputs": [],
      "source": [
        "clf = GradientBoostingClassifier(n_estimators=100, learning_rate=1.0,\n",
        "    max_depth=1, random_state=0)"
      ]
    },
    {
      "cell_type": "code",
      "execution_count": 24,
      "metadata": {
        "colab": {
          "base_uri": "https://localhost:8080/"
        },
        "id": "j8IfKjphGnTk",
        "outputId": "d1dbe90d-7b95-4cfd-a0ae-49d8185b1f84"
      },
      "outputs": [
        {
          "name": "stdout",
          "output_type": "stream",
          "text": [
            "Macro F1 Scores of each iteration from the 10 iterations: [0.96555016 0.95293934 0.95523146 0.97368264 0.97196312 0.97007202\n",
            " 0.9661982  0.97325288 0.97855876 0.97422846]\n",
            "Average Macro F1 Score of the 10 iterations: 0.9681677039730142\n",
            "--------------------------------------------------\n",
            "Precision Scores of each iteration from the 10 iterations: [0.96929449 0.96011559 0.96938553 0.98140668 0.98100375 0.97281913\n",
            " 0.97805904 0.97122928 0.96549355 0.96549355]\n",
            "Average Precision Score of the 10 iterations: 0.9714300607705366\n",
            "--------------------------------------------------\n",
            "Recall Scores of each iteration from the 10 iterations: [0.96188102 0.94066504 0.94454784 0.96626591 0.96334193 0.94780151\n",
            " 0.9425473  0.95631097 0.95568283 0.95568283]\n",
            "Average Recall of the 10 iterations: 0.9534727159192634\n",
            "--------------------------------------------------\n"
          ]
        }
      ],
      "source": [
        "cross_val_scores_print(clf, X_train, y_train, y_true_enc, cv=10)"
      ]
    },
    {
      "cell_type": "markdown",
      "metadata": {
        "id": "f-Y-ddMr0Mlu"
      },
      "source": [
        "**Evaluation on test data**"
      ]
    },
    {
      "cell_type": "code",
      "execution_count": 25,
      "metadata": {
        "id": "8xCGM74g5wig"
      },
      "outputs": [],
      "source": [
        "clf = GradientBoostingClassifier(n_estimators=100, learning_rate=1.0,\n",
        "    max_depth=1, random_state=0).fit(X_train, y_train)"
      ]
    },
    {
      "cell_type": "code",
      "execution_count": 26,
      "metadata": {
        "id": "8XWC72RopQUK"
      },
      "outputs": [],
      "source": [
        "y_pred = clf.predict(X_test)"
      ]
    },
    {
      "cell_type": "code",
      "execution_count": 27,
      "metadata": {
        "id": "1_yJv_p3qFIj"
      },
      "outputs": [],
      "source": [
        "## Requires encoding of the input\n",
        "## Manual Encoding is maintained here: as for automatic encoding; the \"attack\" class is considered as negative class due to the Alphabet\n",
        "def pr(y_test, y_pred):\n",
        "    y_pred_enc_f = []\n",
        "    y_test_enc_f = []\n",
        "    for i in range(len(y_pred)):\n",
        "        if y_pred[i] == \"BENIGN\":\n",
        "          y_pred_enc_f.append(0)\n",
        "        else: \n",
        "          y_pred_enc_f.append(1)\n",
        "\n",
        "        if y_test.iloc[i] == \"BENIGN\":\n",
        "          y_test_enc_f.append(0)\n",
        "        else: \n",
        "          y_test_enc_f.append(1)\n",
        "\n",
        "    avg_pr = average_precision_score(y_test_enc_f, y_pred_enc_f)\n",
        "    return avg_pr"
      ]
    },
    {
      "cell_type": "code",
      "execution_count": 28,
      "metadata": {
        "colab": {
          "base_uri": "https://localhost:8080/"
        },
        "id": "cx7f8VMtqx2E",
        "outputId": "c5987e17-4311-45cd-f288-b9c90bcb5e91"
      },
      "outputs": [
        {
          "name": "stdout",
          "output_type": "stream",
          "text": [
            "Average precision Recall score: 0.9052908242099844\n"
          ]
        }
      ],
      "source": [
        "average_precision = pr(y_test, y_pred)\n",
        "print(\"Average precision Recall score: {0}\".format(average_precision))"
      ]
    },
    {
      "cell_type": "code",
      "execution_count": 29,
      "metadata": {
        "colab": {
          "base_uri": "https://localhost:8080/"
        },
        "id": "GMtJoPeYpL-b",
        "outputId": "400f22fd-442f-403e-8f9b-c18b920229fd"
      },
      "outputs": [
        {
          "name": "stdout",
          "output_type": "stream",
          "text": [
            "              precision    recall  f1-score   support\n",
            "\n",
            "      ATTACK       0.96      0.93      0.95       741\n",
            "      BENIGN       0.99      1.00      0.99      6813\n",
            "\n",
            "    accuracy                           0.99      7554\n",
            "   macro avg       0.98      0.96      0.97      7554\n",
            "weighted avg       0.99      0.99      0.99      7554\n",
            "\n"
          ]
        }
      ],
      "source": [
        "## Classification Report\n",
        "c_report = classification_report(y_test, y_pred)\n",
        "print(c_report)"
      ]
    },
    {
      "cell_type": "markdown",
      "metadata": {
        "id": "cm8iYD9i_ugj"
      },
      "source": [
        "The macro average of f1 score is equal to 97% and the recall avg is of 96%  \\\n",
        "These metrics are quite high but we shall check the performance on the other classifier to decide which to use in the adaptive model"
      ]
    },
    {
      "cell_type": "markdown",
      "metadata": {
        "id": "XSjSiypjjXiE"
      },
      "source": [
        "# 6. Classifier B (Decision Tree)"
      ]
    },
    {
      "cell_type": "markdown",
      "metadata": {
        "id": "-7HOeh24AnQz"
      },
      "source": [
        "**Evaluation during training by cross-val**"
      ]
    },
    {
      "cell_type": "code",
      "execution_count": 30,
      "metadata": {
        "id": "9DZm3s-eAtPZ"
      },
      "outputs": [],
      "source": [
        "clf2 = DecisionTreeClassifier(random_state=0, class_weight = 'balanced')"
      ]
    },
    {
      "cell_type": "code",
      "execution_count": 31,
      "metadata": {
        "colab": {
          "base_uri": "https://localhost:8080/"
        },
        "id": "_JonLle9AtVI",
        "outputId": "d36d128e-5203-455c-c372-84dd4f7d5b07"
      },
      "outputs": [
        {
          "name": "stdout",
          "output_type": "stream",
          "text": [
            "Macro F1 Scores of each iteration from the 10 iterations: [0.98691098 0.98067253 0.99023485 0.98372475 0.98561616 0.98863648\n",
            " 0.98538976 0.98857662 0.99018264 0.99028527]\n",
            "Average Macro F1 Score of the 10 iterations: 0.9870230031872043\n",
            "--------------------------------------------------\n",
            "Precision Scores of each iteration from the 10 iterations: [0.98950403 0.97575284 0.99023485 0.98628362 0.97948352 0.98736129\n",
            " 0.98412305 0.98986877 0.99279291 0.98774316]\n",
            "Average Precision Score of the 10 iterations: 0.9863148041781026\n",
            "--------------------------------------------------\n",
            "Recall Scores of each iteration from the 10 iterations: [0.9843525  0.98572431 0.99023485 0.98119986 0.99195355 0.98992019\n",
            " 0.98666494 0.98729308 0.98760715 0.99286137]\n",
            "Average Recall of the 10 iterations: 0.9877811804553231\n",
            "--------------------------------------------------\n"
          ]
        }
      ],
      "source": [
        "cross_val_scores_print(clf2, X_train, y_train, y_true_enc, cv=10)"
      ]
    },
    {
      "cell_type": "code",
      "execution_count": 32,
      "metadata": {
        "id": "Ds4Ye2s7HjhS"
      },
      "outputs": [],
      "source": [
        "clf2 = DecisionTreeClassifier(random_state=0, class_weight= 'balanced').fit(X_train, y_train)"
      ]
    },
    {
      "cell_type": "code",
      "execution_count": 33,
      "metadata": {
        "id": "WvjJr7N-kJk8"
      },
      "outputs": [],
      "source": [
        "y_pred2 = clf2.predict(X_test)"
      ]
    },
    {
      "cell_type": "code",
      "execution_count": 34,
      "metadata": {
        "colab": {
          "base_uri": "https://localhost:8080/"
        },
        "id": "CLF9cHwVkJmW",
        "outputId": "1bdb485a-4733-497b-ed11-1815327e788a"
      },
      "outputs": [
        {
          "name": "stdout",
          "output_type": "stream",
          "text": [
            "              precision    recall  f1-score   support\n",
            "\n",
            "      ATTACK       0.99      0.98      0.99       741\n",
            "      BENIGN       1.00      1.00      1.00      6813\n",
            "\n",
            "    accuracy                           1.00      7554\n",
            "   macro avg       0.99      0.99      0.99      7554\n",
            "weighted avg       1.00      1.00      1.00      7554\n",
            "\n"
          ]
        }
      ],
      "source": [
        "c_report2 = classification_report(y_test, y_pred2)\n",
        "print(c_report2)"
      ]
    },
    {
      "cell_type": "markdown",
      "metadata": {},
      "source": [
        "#### Training on the whole data and saving the model"
      ]
    },
    {
      "cell_type": "code",
      "execution_count": null,
      "metadata": {},
      "outputs": [],
      "source": [
        "\n",
        "clf2 = DecisionTreeClassifier(random_state=0, class_weight= 'balanced').fit(df_x, df_y)"
      ]
    },
    {
      "cell_type": "markdown",
      "metadata": {
        "id": "YeMAh4J4BDEl"
      },
      "source": [
        "The decision tree had much more improvement, whether on the cross-val score or the test scores so we will choose to continue with it"
      ]
    },
    {
      "cell_type": "code",
      "execution_count": 35,
      "metadata": {
        "colab": {
          "base_uri": "https://localhost:8080/"
        },
        "id": "od9GWicFUHDM",
        "outputId": "1e036e71-f362-499d-c168-27852543ef99"
      },
      "outputs": [
        {
          "data": {
            "text/plain": [
              "['model_binary.bin']"
            ]
          },
          "execution_count": 35,
          "metadata": {},
          "output_type": "execute_result"
        }
      ],
      "source": [
        "dump(clf2, 'model_binary.bin', compress=True)"
      ]
    },
    {
      "cell_type": "markdown",
      "metadata": {
        "id": "0xYMZ6A3BWFT"
      },
      "source": [
        "# **Dynamic Part (Adapt)**"
      ]
    },
    {
      "cell_type": "markdown",
      "metadata": {
        "id": "iDRqDx_2DVHN"
      },
      "source": [
        "# 7. Load the model and Kafka"
      ]
    },
    {
      "cell_type": "code",
      "execution_count": 36,
      "metadata": {
        "id": "fygH1BZsBpBk"
      },
      "outputs": [],
      "source": [
        "model = load('/content/model_binary.bin')\n",
        "### Initialize the adaptation model same as the static one\n",
        "model_adapt = load('/content/model_binary.bin')\n",
        "\n",
        "# instantiate the KafkaConsumer Class using the arguments mentioned.\n",
        "# do not change any arguments other than the first positional argument.\n",
        "consumer = KafkaConsumer(\n",
        "    'task1',   # change this to \"task2\" for the IOT Botnet Detection  ---- important ----\n",
        "    bootstrap_servers=\"34.130.121.39:9092\",\n",
        "    sasl_plain_username=\"student\",\n",
        "    sasl_plain_password=\"uottawa\",\n",
        "    security_protocol=\"SASL_PLAINTEXT\",\n",
        "    sasl_mechanism=\"PLAIN\",\n",
        "    auto_offset_reset='earliest',\n",
        "    enable_auto_commit=False\n",
        ")"
      ]
    },
    {
      "cell_type": "markdown",
      "metadata": {
        "id": "NkPLe58VDyQN"
      },
      "source": [
        "# 8. Initializations"
      ]
    },
    {
      "cell_type": "code",
      "execution_count": 37,
      "metadata": {
        "id": "hKSTpmS_BpCw"
      },
      "outputs": [],
      "source": [
        "## Fix the naming of columns\n",
        "df_data_na.columns = df_data_na.columns.str.replace(' ','')\n",
        "df_conc = df_data_na.copy()\n",
        "\n",
        "# Data Stream flowing in.\n",
        "# i = 0\n",
        "dict_str_problem = []\n",
        "f1_attack_static = []\n",
        "f1_macro_static = []\n",
        "avg_pr_static = []\n",
        "precision_static = []\n",
        "recall_static = []\n",
        "\n",
        "#### We initialize them by zero since there's no adaptation model at the first iteration to predict by\n",
        "f1_attack_dynamic = []\n",
        "f1_macro_dynamic = []\n",
        "avg_pr_dynamic = []\n",
        "precision_dynamic = []\n",
        "recall_dynamic = []"
      ]
    },
    {
      "cell_type": "markdown",
      "metadata": {
        "id": "KyUVZqr5D-qI"
      },
      "source": [
        "# 9. Adaptation Part (Loop)"
      ]
    },
    {
      "cell_type": "code",
      "execution_count": 38,
      "metadata": {
        "id": "4-kc1LL_BpGK"
      },
      "outputs": [],
      "source": [
        "for j in range(100):\n",
        "    i = 0\n",
        "    y_pred = []\n",
        "    df_total = pd.DataFrame()\n",
        "    \n",
        "    for message in consumer:\n",
        "        # print(f\"Consuming the {i+1}th data packet!\")\n",
        "        data_packet = message.value\n",
        "\n",
        "        ##############################################\n",
        "        ##### 1st: Read Data ######\n",
        "        ## to read in a dataframe: https://stackoverflow.com/questions/17839973/constructing-pandas-dataframe-from-values-in-variables-gives-valueerror-if-usi\n",
        "        \n",
        "        dict_str = data_packet.decode(\"UTF-8\")\n",
        "        ## To evade the problem of failed packets => we just skip it and get another packet\n",
        "        try:\n",
        "          my_data = ast.literal_eval(dict_str)\n",
        "        except:\n",
        "          dict_str_problem.append(dict_str)\n",
        "          ## This adds the failed packets to a pickle file in order to be investigated afterwards (it happens in the Attack and Benign pkts)\n",
        "          with open('failed stream.pickle', 'wb') as handle:\n",
        "                pickle.dump(dict_str_problem, handle, protocol=pickle.HIGHEST_PROTOCOL)\n",
        "          continue\n",
        "\n",
        "        ## you may change this to a list or dictionary instead of complete dataframe, but the dataframe is to maintain the same names\n",
        "        ### This saves only one row each time\n",
        "        df = pd.DataFrame(my_data, index = [0])\n",
        "        df.columns = df.columns.str.replace(' ','')\n",
        "\n",
        "        ####### 2nd: Predicting using the static model over each point from the stream #######\n",
        "        x = df.iloc[:, :-1]\n",
        "        y = df.iloc[:, -1]\n",
        "        \n",
        "        ## Predict\n",
        "        pred = model.predict(x)\n",
        "        ## pred is numpy array while the y_test is a series\n",
        "        y_pred.append(pred)\n",
        "        \n",
        "        ####### Append the whole new stream in dataframe #######\n",
        "        df_total = df_total.append(df, ignore_index = True)\n",
        "\n",
        "        ###################################################################\n",
        "        ######### This process continues untill we reach 1000 packets then start adapting #############\n",
        "\n",
        "        ######## 2nd: Adapt ############\n",
        "        if i == 999: \n",
        "            #### True y ####\n",
        "            y_test = df_total.iloc[:, -1]\n",
        "\n",
        "            ###### Static Model Metrics #### \n",
        "            ### Note: we've already predicted each point using the static model\n",
        "            report = classification_report(y_test, y_pred, output_dict=True)\n",
        "            f1_attack_static.append(report['ATTACK']['f1-score'])\n",
        "            f1_macro_static.append(report['macro avg']['f1-score'])\n",
        "            avg_pr_static.append(pr(y_test, y_pred))\n",
        "            precision_static.append(report['macro avg']['precision'])\n",
        "            recall_static.append(report['macro avg']['recall'])\n",
        "\n",
        "            # print('f1 score for static model of attack for iteration {0} is: {1}: '.format(j, report['ATTACK']['f1-score']))\n",
        "\n",
        "            #### Previous dynamic Model Metrics; at first it's exactly like the static #####\n",
        "\n",
        "            y_pred_d = model_adapt.predict(df_total.iloc[:, :-1])\n",
        "            report_d = classification_report(y_test, y_pred_d, output_dict=True)\n",
        "            f1_attack_dynamic.append(report_d['ATTACK']['f1-score'])\n",
        "            f1_macro_dynamic.append(report_d['macro avg']['f1-score'])\n",
        "            avg_pr_dynamic.append(pr(y_test, y_pred_d))\n",
        "            precision_dynamic.append(report_d['macro avg']['precision'])\n",
        "            recall_dynamic.append(report_d['macro avg']['recall'])\n",
        "\n",
        "            ## Start from 1000 to the rest of the dataframe: It can be (1000) instead of length\n",
        "            df_reduce = df_conc.iloc[len(df_total): , :]\n",
        "   \n",
        "            ### Concatenate the new stream with the resuced dataframe\n",
        "            df_conc = pd.concat([df_reduce, df_total])\n",
        "            ### Check the new concatenated dataframe has the same shape each time\n",
        "            # print(df_conc.shape)\n",
        "            # print(\"finished iteration {0}\".format(j))\n",
        "\n",
        "            #### Retrain the model ####\n",
        "            X_train = df_conc.iloc[:, :-1]\n",
        "            y_train = df_conc.iloc[:, -1]\n",
        "\n",
        "            ### Note that \"fit\" always start from scratch; not like transfer learning so it's the same as initializing the model from begining #### \n",
        "            model_adapt = model_adapt.fit(X_train, y_train)\n",
        "            break\n",
        "        \n",
        "        i += 1     \n"
      ]
    },
    {
      "cell_type": "markdown",
      "metadata": {
        "id": "_X4pgVHsEIDL"
      },
      "source": [
        "**Important note:**\n",
        "\n",
        "Some packets fail during reading in 'ast.literal_eval'; these packets are distributed between Attack and benign, and here we're saving them for furrther investigation\n"
      ]
    },
    {
      "cell_type": "markdown",
      "metadata": {
        "id": "4udAXa_AEhx9"
      },
      "source": [
        "# 10. Plot Performance metrics of the adaptation"
      ]
    },
    {
      "cell_type": "code",
      "execution_count": 39,
      "metadata": {
        "colab": {
          "base_uri": "https://localhost:8080/",
          "height": 297
        },
        "id": "_eUzXtFcBpJB",
        "outputId": "f06ba073-0147-4611-8c52-7ccd6b8c9a08"
      },
      "outputs": [
        {
          "data": {
            "text/plain": [
              "Text(0, 0.5, 'Attack F1 Scores')"
            ]
          },
          "execution_count": 39,
          "metadata": {},
          "output_type": "execute_result"
        },
        {
          "data": {
            "image/png": "[encoded data removed]",
            "text/plain": [
              "<Figure size 432x288 with 1 Axes>"
            ]
          },
          "metadata": {
            "needs_background": "light"
          },
          "output_type": "display_data"
        }
      ],
      "source": [
        "## F1 Score of Attack (Positive)\n",
        "plt.plot(f1_attack_static, label = 'Static')\n",
        "plt.plot(f1_attack_dynamic, label ='Dynamic')\n",
        "plt.xlabel(\" # of Iterations\")\n",
        "plt.legend()\n",
        "plt.ylabel(\"Attack F1 Scores\")"
      ]
    },
    {
      "cell_type": "code",
      "execution_count": 40,
      "metadata": {
        "colab": {
          "base_uri": "https://localhost:8080/",
          "height": 297
        },
        "id": "hOhawLlwEsKK",
        "outputId": "f5625fd1-ca1f-4df9-922b-9ea3091ce28b"
      },
      "outputs": [
        {
          "data": {
            "text/plain": [
              "Text(0, 0.5, 'Average Precision Recall')"
            ]
          },
          "execution_count": 40,
          "metadata": {},
          "output_type": "execute_result"
        },
        {
          "data": {
            "image/png": "[encoded data removed]",
            "text/plain": [
              "<Figure size 432x288 with 1 Axes>"
            ]
          },
          "metadata": {
            "needs_background": "light"
          },
          "output_type": "display_data"
        }
      ],
      "source": [
        "### Average Precision Recall\n",
        "plt.plot(avg_pr_static, label = 'Static')\n",
        "plt.plot(avg_pr_dynamic, label ='Dynamic')\n",
        "plt.xlabel(\" # of Iterations\")\n",
        "plt.legend()\n",
        "plt.ylabel(\"Average Precision Recall\")"
      ]
    },
    {
      "cell_type": "markdown",
      "metadata": {
        "id": "Pu19b3ZXEsw-"
      },
      "source": [
        "# 11. Average of Performance Metrics over Iterations"
      ]
    },
    {
      "cell_type": "code",
      "execution_count": 41,
      "metadata": {
        "colab": {
          "base_uri": "https://localhost:8080/"
        },
        "id": "AG4mdNlGEsLb",
        "outputId": "425cfbff-86e1-46c2-fb9e-beb2d9c213fc"
      },
      "outputs": [
        {
          "name": "stdout",
          "output_type": "stream",
          "text": [
            "Average of the Precision for Static = 0.9876\n",
            "Average of the Precision for Dynamic = 0.9901\n",
            "--------------------------------------------------\n",
            "Average of the Recall for Static = 0.9856\n",
            "Average of the Recall for Dynamic = 0.9896\n",
            "--------------------------------------------------\n",
            "Average of the Macro-F1-Score for Static = 0.9865\n",
            "Average of the Macro-F1-Score for Dynamic = 0.9898\n",
            "--------------------------------------------------\n"
          ]
        }
      ],
      "source": [
        "## precision\n",
        "print(\"Average of the Precision for Static =\", round(mean(precision_static), 4))\n",
        "print(\"Average of the Precision for Dynamic =\", round(mean(precision_dynamic), 4))\n",
        "print(50*'-')\n",
        "\n",
        "## Recall\n",
        "print(\"Average of the Recall for Static =\", round(mean(recall_static), 4))\n",
        "print(\"Average of the Recall for Dynamic =\", round(mean(recall_dynamic), 4))\n",
        "print(50*'-')\n",
        "\n",
        "## F1 Score\n",
        "print(\"Average of the Macro-F1-Score for Static =\", round(mean(f1_macro_static), 4))\n",
        "print(\"Average of the Macro-F1-Score for Dynamic =\", round(mean(f1_macro_dynamic), 4))\n",
        "print(50*'-')"
      ]
    },
    {
      "cell_type": "markdown",
      "metadata": {
        "id": "IPfS-V_QE9kq"
      },
      "source": [
        "# 12. **Additional**: Save the performance metrics you want in pickle files for further investigation"
      ]
    },
    {
      "cell_type": "code",
      "execution_count": 42,
      "metadata": {
        "id": "Q-JnmUjDEsPA"
      },
      "outputs": [],
      "source": [
        "## Not Mandatory so it's commented\n",
        "\n",
        "# with open('F1_attack_static.pickle', 'wb') as handle:\n",
        "#       pickle.dump(f1_attack_static, handle, protocol=pickle.HIGHEST_PROTOCOL)\n",
        "# with open('F1_attack_dynamic.pickle', 'wb') as handle:\n",
        "#       pickle.dump(f1_attack_dynamic, handle, protocol=pickle.HIGHEST_PROTOCOL)\n"
      ]
    },
    {
      "cell_type": "markdown",
      "metadata": {
        "id": "P-pqVWJZS-HW"
      },
      "source": [
        "# **Multi-Classifiers: Problem 2**"
      ]
    },
    {
      "cell_type": "markdown",
      "metadata": {
        "id": "8OJqRseZpj_e"
      },
      "source": [
        "# 2. Data Exploration"
      ]
    },
    {
      "cell_type": "code",
      "execution_count": 43,
      "metadata": {
        "colab": {
          "base_uri": "https://localhost:8080/",
          "height": 0
        },
        "id": "MKTLQ_IGS878",
        "outputId": "254214c9-4023-4f1d-c648-6e821c2d0f16"
      },
      "outputs": [
        {
          "data": {
            "text/html": [
              "<div>\n",
              "<style scoped>\n",
              "    .dataframe tbody tr th:only-of-type {\n",
              "        vertical-align: middle;\n",
              "    }\n",
              "\n",
              "    .dataframe tbody tr th {\n",
              "        vertical-align: top;\n",
              "    }\n",
              "\n",
              "    .dataframe thead th {\n",
              "        text-align: right;\n",
              "    }\n",
              "</style>\n",
              "<table border=\"1\" class=\"dataframe\">\n",
              "  <thead>\n",
              "    <tr style=\"text-align: right;\">\n",
              "      <th></th>\n",
              "      <th>MI_dir_L5_weight</th>\n",
              "      <th>MI_dir_L5_mean</th>\n",
              "      <th>MI_dir_L5_variance</th>\n",
              "      <th>MI_dir_L3_weight</th>\n",
              "      <th>MI_dir_L3_mean</th>\n",
              "      <th>MI_dir_L3_variance</th>\n",
              "      <th>MI_dir_L1_weight</th>\n",
              "      <th>MI_dir_L1_mean</th>\n",
              "      <th>MI_dir_L1_variance</th>\n",
              "      <th>MI_dir_L0.1_weight</th>\n",
              "      <th>MI_dir_L0.1_mean</th>\n",
              "      <th>MI_dir_L0.1_variance</th>\n",
              "      <th>MI_dir_L0.01_weight</th>\n",
              "      <th>MI_dir_L0.01_mean</th>\n",
              "      <th>MI_dir_L0.01_variance</th>\n",
              "      <th>H_L5_weight</th>\n",
              "      <th>H_L5_mean</th>\n",
              "      <th>H_L5_variance</th>\n",
              "      <th>H_L3_weight</th>\n",
              "      <th>H_L3_mean</th>\n",
              "      <th>H_L3_variance</th>\n",
              "      <th>H_L1_weight</th>\n",
              "      <th>H_L1_mean</th>\n",
              "      <th>H_L1_variance</th>\n",
              "      <th>H_L0.1_weight</th>\n",
              "      <th>H_L0.1_mean</th>\n",
              "      <th>H_L0.1_variance</th>\n",
              "      <th>H_L0.01_weight</th>\n",
              "      <th>H_L0.01_mean</th>\n",
              "      <th>H_L0.01_variance</th>\n",
              "      <th>HH_L5_weight</th>\n",
              "      <th>HH_L5_mean</th>\n",
              "      <th>HH_L5_std</th>\n",
              "      <th>HH_L5_magnitude</th>\n",
              "      <th>HH_L5_radius</th>\n",
              "      <th>HH_L5_covariance</th>\n",
              "      <th>HH_L5_pcc</th>\n",
              "      <th>HH_L3_weight</th>\n",
              "      <th>HH_L3_mean</th>\n",
              "      <th>HH_L3_std</th>\n",
              "      <th>...</th>\n",
              "      <th>HH_jit_L0.01_weight</th>\n",
              "      <th>HH_jit_L0.01_mean</th>\n",
              "      <th>HH_jit_L0.01_variance</th>\n",
              "      <th>HpHp_L5_weight</th>\n",
              "      <th>HpHp_L5_mean</th>\n",
              "      <th>HpHp_L5_std</th>\n",
              "      <th>HpHp_L5_magnitude</th>\n",
              "      <th>HpHp_L5_radius</th>\n",
              "      <th>HpHp_L5_covariance</th>\n",
              "      <th>HpHp_L5_pcc</th>\n",
              "      <th>HpHp_L3_weight</th>\n",
              "      <th>HpHp_L3_mean</th>\n",
              "      <th>HpHp_L3_std</th>\n",
              "      <th>HpHp_L3_magnitude</th>\n",
              "      <th>HpHp_L3_radius</th>\n",
              "      <th>HpHp_L3_covariance</th>\n",
              "      <th>HpHp_L3_pcc</th>\n",
              "      <th>HpHp_L1_weight</th>\n",
              "      <th>HpHp_L1_mean</th>\n",
              "      <th>HpHp_L1_std</th>\n",
              "      <th>HpHp_L1_magnitude</th>\n",
              "      <th>HpHp_L1_radius</th>\n",
              "      <th>HpHp_L1_covariance</th>\n",
              "      <th>HpHp_L1_pcc</th>\n",
              "      <th>HpHp_L0.1_weight</th>\n",
              "      <th>HpHp_L0.1_mean</th>\n",
              "      <th>HpHp_L0.1_std</th>\n",
              "      <th>HpHp_L0.1_magnitude</th>\n",
              "      <th>HpHp_L0.1_radius</th>\n",
              "      <th>HpHp_L0.1_covariance</th>\n",
              "      <th>HpHp_L0.1_pcc</th>\n",
              "      <th>HpHp_L0.01_weight</th>\n",
              "      <th>HpHp_L0.01_mean</th>\n",
              "      <th>HpHp_L0.01_std</th>\n",
              "      <th>HpHp_L0.01_magnitude</th>\n",
              "      <th>HpHp_L0.01_radius</th>\n",
              "      <th>HpHp_L0.01_covariance</th>\n",
              "      <th>HpHp_L0.01_pcc</th>\n",
              "      <th>Source</th>\n",
              "      <th>Class</th>\n",
              "    </tr>\n",
              "  </thead>\n",
              "  <tbody>\n",
              "    <tr>\n",
              "      <th>0</th>\n",
              "      <td>19.570634</td>\n",
              "      <td>152.679121</td>\n",
              "      <td>39991.937640</td>\n",
              "      <td>20.937891</td>\n",
              "      <td>150.455024</td>\n",
              "      <td>38960.674060</td>\n",
              "      <td>23.168006</td>\n",
              "      <td>145.454142</td>\n",
              "      <td>36954.215040</td>\n",
              "      <td>33.115077</td>\n",
              "      <td>123.515434</td>\n",
              "      <td>27655.538890</td>\n",
              "      <td>62.619034</td>\n",
              "      <td>102.471926</td>\n",
              "      <td>15409.868150</td>\n",
              "      <td>19.570634</td>\n",
              "      <td>152.679121</td>\n",
              "      <td>39991.937640</td>\n",
              "      <td>20.937891</td>\n",
              "      <td>150.455024</td>\n",
              "      <td>38960.674060</td>\n",
              "      <td>23.168006</td>\n",
              "      <td>145.454142</td>\n",
              "      <td>36954.215040</td>\n",
              "      <td>33.115077</td>\n",
              "      <td>123.515434</td>\n",
              "      <td>27655.538890</td>\n",
              "      <td>62.619034</td>\n",
              "      <td>102.471926</td>\n",
              "      <td>15409.868150</td>\n",
              "      <td>18.885473</td>\n",
              "      <td>156.041505</td>\n",
              "      <td>202.780449</td>\n",
              "      <td>349.823034</td>\n",
              "      <td>1.602610e+05</td>\n",
              "      <td>-2.956340e+04</td>\n",
              "      <td>-0.370432</td>\n",
              "      <td>20.044037</td>\n",
              "      <td>154.488822</td>\n",
              "      <td>200.790831</td>\n",
              "      <td>...</td>\n",
              "      <td>30.034811</td>\n",
              "      <td>5.307252</td>\n",
              "      <td>1.298518e+02</td>\n",
              "      <td>4.880738</td>\n",
              "      <td>181.620841</td>\n",
              "      <td>227.548005</td>\n",
              "      <td>291.835506</td>\n",
              "      <td>59579.844560</td>\n",
              "      <td>17447.876</td>\n",
              "      <td>0.446623</td>\n",
              "      <td>4.927844</td>\n",
              "      <td>181.698241</td>\n",
              "      <td>227.581665</td>\n",
              "      <td>291.280119</td>\n",
              "      <td>59578.905890</td>\n",
              "      <td>17793.81865</td>\n",
              "      <td>0.455634</td>\n",
              "      <td>4.975746</td>\n",
              "      <td>181.767997</td>\n",
              "      <td>227.609424</td>\n",
              "      <td>290.719232</td>\n",
              "      <td>5.957503e+04</td>\n",
              "      <td>1.814181e+04</td>\n",
              "      <td>0.464725</td>\n",
              "      <td>4.997565</td>\n",
              "      <td>181.796886</td>\n",
              "      <td>227.619989</td>\n",
              "      <td>290.465036</td>\n",
              "      <td>5.957232e+04</td>\n",
              "      <td>1.829905e+04</td>\n",
              "      <td>0.468843</td>\n",
              "      <td>4.999756</td>\n",
              "      <td>181.799689</td>\n",
              "      <td>2.276210e+02</td>\n",
              "      <td>290.439555</td>\n",
              "      <td>5.957202e+04</td>\n",
              "      <td>1.831480e+04</td>\n",
              "      <td>4.692557e-01</td>\n",
              "      <td>Provision PT 838 Security Camera</td>\n",
              "      <td>BENIGN</td>\n",
              "    </tr>\n",
              "    <tr>\n",
              "      <th>1</th>\n",
              "      <td>49.893840</td>\n",
              "      <td>169.297843</td>\n",
              "      <td>54532.338720</td>\n",
              "      <td>62.957476</td>\n",
              "      <td>169.735104</td>\n",
              "      <td>54283.995040</td>\n",
              "      <td>82.340884</td>\n",
              "      <td>168.919514</td>\n",
              "      <td>53449.819730</td>\n",
              "      <td>98.214224</td>\n",
              "      <td>164.300338</td>\n",
              "      <td>51038.672810</td>\n",
              "      <td>124.460107</td>\n",
              "      <td>146.697496</td>\n",
              "      <td>42083.223280</td>\n",
              "      <td>49.893840</td>\n",
              "      <td>169.297843</td>\n",
              "      <td>54532.338720</td>\n",
              "      <td>62.957476</td>\n",
              "      <td>169.735104</td>\n",
              "      <td>54283.995040</td>\n",
              "      <td>82.340884</td>\n",
              "      <td>168.919514</td>\n",
              "      <td>53449.819730</td>\n",
              "      <td>98.214224</td>\n",
              "      <td>164.300338</td>\n",
              "      <td>51038.672810</td>\n",
              "      <td>124.460107</td>\n",
              "      <td>146.697496</td>\n",
              "      <td>42083.223280</td>\n",
              "      <td>49.886530</td>\n",
              "      <td>169.313860</td>\n",
              "      <td>233.534964</td>\n",
              "      <td>295.273638</td>\n",
              "      <td>9.040787e+04</td>\n",
              "      <td>-2.457803e+03</td>\n",
              "      <td>-0.039193</td>\n",
              "      <td>62.898830</td>\n",
              "      <td>169.837418</td>\n",
              "      <td>233.073744</td>\n",
              "      <td>...</td>\n",
              "      <td>97.549007</td>\n",
              "      <td>1.686998</td>\n",
              "      <td>6.319929e+01</td>\n",
              "      <td>1.980432</td>\n",
              "      <td>69.960478</td>\n",
              "      <td>3.999805</td>\n",
              "      <td>101.835497</td>\n",
              "      <td>15.998438</td>\n",
              "      <td>0.000</td>\n",
              "      <td>0.000000</td>\n",
              "      <td>1.988213</td>\n",
              "      <td>69.976286</td>\n",
              "      <td>3.999930</td>\n",
              "      <td>101.846358</td>\n",
              "      <td>15.999438</td>\n",
              "      <td>0.00000</td>\n",
              "      <td>0.000000</td>\n",
              "      <td>1.996055</td>\n",
              "      <td>69.992095</td>\n",
              "      <td>3.999992</td>\n",
              "      <td>101.857221</td>\n",
              "      <td>1.599994e+01</td>\n",
              "      <td>0.000000e+00</td>\n",
              "      <td>0.000000</td>\n",
              "      <td>1.999605</td>\n",
              "      <td>69.999210</td>\n",
              "      <td>4.000000</td>\n",
              "      <td>101.862109</td>\n",
              "      <td>1.600000e+01</td>\n",
              "      <td>0.000000e+00</td>\n",
              "      <td>0.000000</td>\n",
              "      <td>1.999960</td>\n",
              "      <td>69.999921</td>\n",
              "      <td>4.000000e+00</td>\n",
              "      <td>101.862598</td>\n",
              "      <td>1.600000e+01</td>\n",
              "      <td>0.000000e+00</td>\n",
              "      <td>0.000000e+00</td>\n",
              "      <td>Provision PT 737E Security Camera</td>\n",
              "      <td>BENIGN</td>\n",
              "    </tr>\n",
              "    <tr>\n",
              "      <th>2</th>\n",
              "      <td>1.996527</td>\n",
              "      <td>449.011775</td>\n",
              "      <td>409.365474</td>\n",
              "      <td>2.002395</td>\n",
              "      <td>448.141152</td>\n",
              "      <td>739.076602</td>\n",
              "      <td>2.166552</td>\n",
              "      <td>419.128740</td>\n",
              "      <td>11039.485060</td>\n",
              "      <td>4.621621</td>\n",
              "      <td>278.780846</td>\n",
              "      <td>34237.687910</td>\n",
              "      <td>29.401508</td>\n",
              "      <td>286.241737</td>\n",
              "      <td>32040.668620</td>\n",
              "      <td>1.996527</td>\n",
              "      <td>449.011775</td>\n",
              "      <td>409.365474</td>\n",
              "      <td>2.002395</td>\n",
              "      <td>448.141152</td>\n",
              "      <td>739.076602</td>\n",
              "      <td>2.166552</td>\n",
              "      <td>419.128740</td>\n",
              "      <td>11039.485060</td>\n",
              "      <td>4.621621</td>\n",
              "      <td>278.780846</td>\n",
              "      <td>34237.687910</td>\n",
              "      <td>29.401508</td>\n",
              "      <td>286.241737</td>\n",
              "      <td>32040.668620</td>\n",
              "      <td>1.996402</td>\n",
              "      <td>449.036043</td>\n",
              "      <td>19.999968</td>\n",
              "      <td>449.036043</td>\n",
              "      <td>3.999987e+02</td>\n",
              "      <td>0.000000e+00</td>\n",
              "      <td>0.000000</td>\n",
              "      <td>1.997840</td>\n",
              "      <td>449.021626</td>\n",
              "      <td>19.999988</td>\n",
              "      <td>...</td>\n",
              "      <td>14.978833</td>\n",
              "      <td>10.667405</td>\n",
              "      <td>2.061570e+02</td>\n",
              "      <td>1.996402</td>\n",
              "      <td>449.036043</td>\n",
              "      <td>19.999968</td>\n",
              "      <td>449.036043</td>\n",
              "      <td>399.998701</td>\n",
              "      <td>0.000</td>\n",
              "      <td>0.000000</td>\n",
              "      <td>1.997840</td>\n",
              "      <td>449.021626</td>\n",
              "      <td>19.999988</td>\n",
              "      <td>449.021626</td>\n",
              "      <td>399.999532</td>\n",
              "      <td>0.00000</td>\n",
              "      <td>0.000000</td>\n",
              "      <td>1.999279</td>\n",
              "      <td>449.007209</td>\n",
              "      <td>19.999999</td>\n",
              "      <td>449.007209</td>\n",
              "      <td>3.999999e+02</td>\n",
              "      <td>0.000000e+00</td>\n",
              "      <td>0.000000</td>\n",
              "      <td>2.428558</td>\n",
              "      <td>450.295009</td>\n",
              "      <td>20.081460</td>\n",
              "      <td>450.295009</td>\n",
              "      <td>4.032651e+02</td>\n",
              "      <td>0.000000e+00</td>\n",
              "      <td>0.000000</td>\n",
              "      <td>14.978833</td>\n",
              "      <td>455.354366</td>\n",
              "      <td>1.959295e+01</td>\n",
              "      <td>455.354366</td>\n",
              "      <td>3.838837e+02</td>\n",
              "      <td>0.000000e+00</td>\n",
              "      <td>0.000000e+00</td>\n",
              "      <td>Samsung SNH 1011 N Webcam</td>\n",
              "      <td>BENIGN</td>\n",
              "    </tr>\n",
              "    <tr>\n",
              "      <th>3</th>\n",
              "      <td>1.000000</td>\n",
              "      <td>60.000018</td>\n",
              "      <td>0.004849</td>\n",
              "      <td>1.000065</td>\n",
              "      <td>60.017569</td>\n",
              "      <td>4.743299</td>\n",
              "      <td>1.063813</td>\n",
              "      <td>76.195918</td>\n",
              "      <td>4110.590208</td>\n",
              "      <td>2.936177</td>\n",
              "      <td>218.185372</td>\n",
              "      <td>17685.800370</td>\n",
              "      <td>24.603310</td>\n",
              "      <td>201.078998</td>\n",
              "      <td>16329.248820</td>\n",
              "      <td>1.000000</td>\n",
              "      <td>60.000018</td>\n",
              "      <td>0.004849</td>\n",
              "      <td>1.000065</td>\n",
              "      <td>60.017569</td>\n",
              "      <td>4.743299</td>\n",
              "      <td>1.063813</td>\n",
              "      <td>76.195918</td>\n",
              "      <td>4110.590208</td>\n",
              "      <td>2.936177</td>\n",
              "      <td>218.185372</td>\n",
              "      <td>17685.800370</td>\n",
              "      <td>24.603310</td>\n",
              "      <td>201.078998</td>\n",
              "      <td>16329.248820</td>\n",
              "      <td>1.000000</td>\n",
              "      <td>60.000000</td>\n",
              "      <td>0.000000</td>\n",
              "      <td>84.852814</td>\n",
              "      <td>0.000000e+00</td>\n",
              "      <td>5.740000e-178</td>\n",
              "      <td>0.000000</td>\n",
              "      <td>1.000000</td>\n",
              "      <td>60.000000</td>\n",
              "      <td>0.000000</td>\n",
              "      <td>...</td>\n",
              "      <td>12.477802</td>\n",
              "      <td>12.558425</td>\n",
              "      <td>1.474595e+02</td>\n",
              "      <td>1.000000</td>\n",
              "      <td>60.000000</td>\n",
              "      <td>0.000000</td>\n",
              "      <td>84.852814</td>\n",
              "      <td>0.000000</td>\n",
              "      <td>0.000</td>\n",
              "      <td>0.000000</td>\n",
              "      <td>1.000000</td>\n",
              "      <td>60.000000</td>\n",
              "      <td>0.000000</td>\n",
              "      <td>84.852814</td>\n",
              "      <td>0.000000</td>\n",
              "      <td>0.00000</td>\n",
              "      <td>0.000000</td>\n",
              "      <td>1.000000</td>\n",
              "      <td>60.000000</td>\n",
              "      <td>0.000000</td>\n",
              "      <td>84.852814</td>\n",
              "      <td>4.550000e-13</td>\n",
              "      <td>5.280000e-89</td>\n",
              "      <td>0.000000</td>\n",
              "      <td>1.215485</td>\n",
              "      <td>60.000000</td>\n",
              "      <td>0.000000</td>\n",
              "      <td>84.852814</td>\n",
              "      <td>9.090000e-13</td>\n",
              "      <td>-4.150000e-39</td>\n",
              "      <td>0.000000</td>\n",
              "      <td>7.290294</td>\n",
              "      <td>60.000000</td>\n",
              "      <td>9.540000e-07</td>\n",
              "      <td>84.852814</td>\n",
              "      <td>1.290000e-12</td>\n",
              "      <td>8.690000e-30</td>\n",
              "      <td>9.560000e-18</td>\n",
              "      <td>SimpleHome XCS7 1002 WHT Security Camera</td>\n",
              "      <td>BENIGN</td>\n",
              "    </tr>\n",
              "    <tr>\n",
              "      <th>4</th>\n",
              "      <td>100.707918</td>\n",
              "      <td>226.708372</td>\n",
              "      <td>54562.182272</td>\n",
              "      <td>155.736482</td>\n",
              "      <td>252.269792</td>\n",
              "      <td>58012.457557</td>\n",
              "      <td>446.854937</td>\n",
              "      <td>301.030305</td>\n",
              "      <td>60959.734097</td>\n",
              "      <td>4257.526218</td>\n",
              "      <td>335.363145</td>\n",
              "      <td>60179.750153</td>\n",
              "      <td>24034.070444</td>\n",
              "      <td>341.480197</td>\n",
              "      <td>59796.846865</td>\n",
              "      <td>100.707918</td>\n",
              "      <td>226.708372</td>\n",
              "      <td>54562.182272</td>\n",
              "      <td>155.736482</td>\n",
              "      <td>252.269792</td>\n",
              "      <td>58012.457557</td>\n",
              "      <td>446.854937</td>\n",
              "      <td>301.030305</td>\n",
              "      <td>60959.734097</td>\n",
              "      <td>4257.526218</td>\n",
              "      <td>335.363145</td>\n",
              "      <td>60179.750153</td>\n",
              "      <td>24034.070444</td>\n",
              "      <td>341.480197</td>\n",
              "      <td>59796.846865</td>\n",
              "      <td>33.985501</td>\n",
              "      <td>554.000000</td>\n",
              "      <td>0.000011</td>\n",
              "      <td>554.000000</td>\n",
              "      <td>1.164153e-10</td>\n",
              "      <td>0.000000e+00</td>\n",
              "      <td>0.000000</td>\n",
              "      <td>60.613446</td>\n",
              "      <td>554.000000</td>\n",
              "      <td>0.000346</td>\n",
              "      <td>...</td>\n",
              "      <td>13697.367283</td>\n",
              "      <td>46217.470655</td>\n",
              "      <td>6.967790e+13</td>\n",
              "      <td>1.000000</td>\n",
              "      <td>554.000000</td>\n",
              "      <td>0.000000</td>\n",
              "      <td>554.000000</td>\n",
              "      <td>0.000000</td>\n",
              "      <td>0.000</td>\n",
              "      <td>0.000000</td>\n",
              "      <td>1.000000</td>\n",
              "      <td>554.000000</td>\n",
              "      <td>0.000000</td>\n",
              "      <td>554.000000</td>\n",
              "      <td>0.000000</td>\n",
              "      <td>0.00000</td>\n",
              "      <td>0.000000</td>\n",
              "      <td>1.000000</td>\n",
              "      <td>554.000000</td>\n",
              "      <td>0.000000</td>\n",
              "      <td>554.000000</td>\n",
              "      <td>0.000000e+00</td>\n",
              "      <td>0.000000e+00</td>\n",
              "      <td>0.000000</td>\n",
              "      <td>1.000000</td>\n",
              "      <td>554.000000</td>\n",
              "      <td>0.000000</td>\n",
              "      <td>554.000000</td>\n",
              "      <td>0.000000e+00</td>\n",
              "      <td>0.000000e+00</td>\n",
              "      <td>0.000000</td>\n",
              "      <td>1.000000</td>\n",
              "      <td>554.000000</td>\n",
              "      <td>0.000000e+00</td>\n",
              "      <td>554.000000</td>\n",
              "      <td>0.000000e+00</td>\n",
              "      <td>0.000000e+00</td>\n",
              "      <td>0.000000e+00</td>\n",
              "      <td>Provision PT 838 Security Camera</td>\n",
              "      <td>mirai_udp_attack</td>\n",
              "    </tr>\n",
              "  </tbody>\n",
              "</table>\n",
              "<p>5 rows × 117 columns</p>\n",
              "</div>"
            ],
            "text/plain": [
              "   MI_dir_L5_weight  ...             Class\n",
              "0         19.570634  ...            BENIGN\n",
              "1         49.893840  ...            BENIGN\n",
              "2          1.996527  ...            BENIGN\n",
              "3          1.000000  ...            BENIGN\n",
              "4        100.707918  ...  mirai_udp_attack\n",
              "\n",
              "[5 rows x 117 columns]"
            ]
          },
          "execution_count": 43,
          "metadata": {},
          "output_type": "execute_result"
        }
      ],
      "source": [
        "## read the data\n",
        "df_data = pd.read_csv('iot_static_data.csv')\n",
        "\n",
        "## check the 1st 5 rows\n",
        "df_data.head()"
      ]
    },
    {
      "cell_type": "code",
      "execution_count": 44,
      "metadata": {
        "colab": {
          "base_uri": "https://localhost:8080/"
        },
        "id": "cO6qeI63p7Zy",
        "outputId": "4942c88a-bd09-4c4b-ebd1-b183b97edc0c"
      },
      "outputs": [
        {
          "data": {
            "text/plain": [
              "Index([], dtype='object')"
            ]
          },
          "execution_count": 44,
          "metadata": {},
          "output_type": "execute_result"
        }
      ],
      "source": [
        "## get the columns with null values greater than zero\n",
        "df_data.columns[df_data.isna().sum() >0]\n",
        "\n",
        "### No missing: The data is clean but the data has categorical features"
      ]
    },
    {
      "cell_type": "markdown",
      "metadata": {
        "id": "pUqJO4caqPLC"
      },
      "source": [
        "# 3. Data Cleaning \n",
        "There's a categorical features, we can encode it. However, after reading about it, it seems to be not that important and it will need further work in the streaming case. Beside, there were moments were the stream would bring some values in this feature that wasn't in the training set.\n",
        "Moreover, it had low influence on the performance of the model over different classes. This feature is the \"***Source***\" feature."
      ]
    },
    {
      "cell_type": "code",
      "execution_count": 45,
      "metadata": {
        "colab": {
          "base_uri": "https://localhost:8080/"
        },
        "id": "bbqNQR6-p7bb",
        "outputId": "dbee6ce7-df48-479e-a0c0-c96f9eb7a027"
      },
      "outputs": [
        {
          "name": "stdout",
          "output_type": "stream",
          "text": [
            "117\n"
          ]
        }
      ],
      "source": [
        "df_x = df_data.loc[: , df_data.columns != 'Class' ]\n",
        "print(len(df_data.columns))\n",
        "\n",
        "df_y = df_data.loc[: , df_data.columns == 'Class']"
      ]
    },
    {
      "cell_type": "code",
      "execution_count": 46,
      "metadata": {
        "colab": {
          "base_uri": "https://localhost:8080/"
        },
        "id": "MRhuhrzPp7ec",
        "outputId": "dac78358-e9e3-4b50-938a-a452e8e63f6f"
      },
      "outputs": [
        {
          "name": "stdout",
          "output_type": "stream",
          "text": [
            "Index(['Source'], dtype='object')\n"
          ]
        }
      ],
      "source": [
        "categ = df_x.dtypes == 'object'\n",
        "idx = np.where(categ)[0]\n",
        "col = df_x.iloc[:, idx]\n",
        "col_names_categ = col.columns\n",
        "print(col_names_categ)\n",
        "\n",
        "### Drop the categorical columns\n",
        "df_x.drop(columns = col_names_categ, inplace = True)"
      ]
    },
    {
      "cell_type": "code",
      "execution_count": 47,
      "metadata": {
        "colab": {
          "base_uri": "https://localhost:8080/"
        },
        "id": "S5HMF0d6p7jr",
        "outputId": "8ff07c5f-8b10-42ca-dc31-e0f06b275104"
      },
      "outputs": [
        {
          "data": {
            "text/plain": [
              "115"
            ]
          },
          "execution_count": 47,
          "metadata": {},
          "output_type": "execute_result"
        }
      ],
      "source": [
        "len(df_x.columns) "
      ]
    },
    {
      "cell_type": "markdown",
      "metadata": {
        "id": "4c_UvFFZq8Uq"
      },
      "source": [
        "# 4. Split the Data"
      ]
    },
    {
      "cell_type": "code",
      "execution_count": 48,
      "metadata": {
        "id": "nzcQPHEpq0Jg"
      },
      "outputs": [],
      "source": [
        "X_train_m, X_test_m, y_train_m, y_test_m = train_test_split(\n",
        "    df_x, df_y, stratify = df_y, test_size=0.3, random_state=42)"
      ]
    },
    {
      "cell_type": "markdown",
      "metadata": {
        "id": "N03VJ3LGrEh9"
      },
      "source": [
        "# 5. Classifier A (XGBoost)"
      ]
    },
    {
      "cell_type": "markdown",
      "metadata": {
        "id": "i3sd44NYJra3"
      },
      "source": [
        "**Evaluation during training by cross-val**"
      ]
    },
    {
      "cell_type": "code",
      "execution_count": 49,
      "metadata": {
        "id": "OFOIgRoWKwE1"
      },
      "outputs": [],
      "source": [
        "clf_m = GradientBoostingClassifier(n_estimators=100, learning_rate=1.0,\n",
        "    max_depth=1, random_state=0)"
      ]
    },
    {
      "cell_type": "code",
      "execution_count": 50,
      "metadata": {
        "id": "15cw9F5hJtf5"
      },
      "outputs": [],
      "source": [
        "### Encoding here can be done easily\n",
        "le = preprocessing.LabelEncoder()\n",
        "y_true_enc_m = le.fit_transform(y_train_m)"
      ]
    },
    {
      "cell_type": "code",
      "execution_count": 51,
      "metadata": {
        "colab": {
          "base_uri": "https://localhost:8080/"
        },
        "id": "3g13INMEUocb",
        "outputId": "ade95dcc-433c-4505-82be-1e39e4c52718"
      },
      "outputs": [
        {
          "name": "stdout",
          "output_type": "stream",
          "text": [
            "Macro F1 Scores of each iteration from the 10 iterations: [0.0888162  0.86260432 0.87704347 0.94980422 0.95311771 0.78087605\n",
            " 0.08876163 0.08773446 0.86756427 0.85605394]\n",
            "Average Macro F1 Score of the 10 iterations: 0.6412376263318424\n",
            "--------------------------------------------------\n",
            "Precision Scores of each iteration from the 10 iterations: [0.08531133 0.87011192 0.86026936 0.93956106 0.97215285 0.76866627\n",
            " 0.08671329 0.17503392 0.88082916 0.84103896]\n",
            "Average Precision Score of the 10 iterations: 0.6479688123558395\n",
            "--------------------------------------------------\n",
            "Recall Scores of each iteration from the 10 iterations: [0.12587413 0.86477689 0.90903263 0.97728105 0.95099068 0.84970492\n",
            " 0.09090909 0.09108392 0.8593956  0.88796929]\n",
            "Average Recall of the 10 iterations: 0.6607018202824655\n",
            "--------------------------------------------------\n"
          ]
        }
      ],
      "source": [
        "cross_val_scores_print(clf_m, X_train_m, y_train_m, y_true_enc_m, cv=10)"
      ]
    },
    {
      "cell_type": "markdown",
      "metadata": {
        "id": "IjjhFSzZK07T"
      },
      "source": [
        "**Evaluation during test**"
      ]
    },
    {
      "cell_type": "code",
      "execution_count": 52,
      "metadata": {
        "id": "scHIYhYLq0K5"
      },
      "outputs": [],
      "source": [
        "clf_m = GradientBoostingClassifier(n_estimators=100, learning_rate=1.0,\n",
        "    max_depth=1, random_state=0).fit(X_train_m, y_train_m)"
      ]
    },
    {
      "cell_type": "code",
      "execution_count": 53,
      "metadata": {
        "colab": {
          "base_uri": "https://localhost:8080/"
        },
        "id": "EWM7qhjKq0OP",
        "outputId": "84f747ab-51a6-4f66-b431-e59b495d8bf0"
      },
      "outputs": [
        {
          "name": "stdout",
          "output_type": "stream",
          "text": [
            "                       precision    recall  f1-score   support\n",
            "\n",
            "               BENIGN       1.00      1.00      1.00      6686\n",
            "  gafgyt_combo_attack       0.00      0.00      0.00         6\n",
            "   gafgyt_junk_attack       0.96      0.96      0.96       113\n",
            "   gafgyt_scan_attack       0.97      0.93      0.95        60\n",
            "    gafgyt_tcp_attack       1.00      0.97      0.98        64\n",
            "    gafgyt_udp_attack       0.99      1.00      0.99       134\n",
            "     mirai_ack_attack       0.88      1.00      0.94        29\n",
            "    mirai_scan_attack       1.00      1.00      1.00        26\n",
            "     mirai_syn_attack       1.00      0.97      0.98        30\n",
            "     mirai_udp_attack       1.00      1.00      1.00       532\n",
            "mirai_udpplain_attack       0.60      1.00      0.75         3\n",
            "\n",
            "             accuracy                           1.00      7683\n",
            "            macro avg       0.85      0.89      0.87      7683\n",
            "         weighted avg       1.00      1.00      1.00      7683\n",
            "\n"
          ]
        }
      ],
      "source": [
        "y_pred_m = clf_m.predict(X_test_m)\n",
        "c_report_m = classification_report(y_test_m, y_pred_m)\n",
        "print(c_report_m)"
      ]
    },
    {
      "cell_type": "markdown",
      "metadata": {
        "id": "VRykw-VvtIIo"
      },
      "source": [
        "# 6. Classifier B (Decision Tree)"
      ]
    },
    {
      "cell_type": "markdown",
      "metadata": {
        "id": "l7eqliXyK9xs"
      },
      "source": [
        "**Evaluation during training by cross-val**"
      ]
    },
    {
      "cell_type": "code",
      "execution_count": 54,
      "metadata": {
        "id": "NbiqFAykLboF"
      },
      "outputs": [],
      "source": [
        "clf2_m = DecisionTreeClassifier(class_weight = 'balanced', random_state=0)"
      ]
    },
    {
      "cell_type": "code",
      "execution_count": 55,
      "metadata": {
        "colab": {
          "base_uri": "https://localhost:8080/"
        },
        "id": "aJ7YdkidK9GK",
        "outputId": "20f8be1b-8225-4ca1-defa-41e61b899d77"
      },
      "outputs": [
        {
          "name": "stdout",
          "output_type": "stream",
          "text": [
            "Macro F1 Scores of each iteration from the 10 iterations: [0.98880299 0.81156806 0.90872581 0.89803201 0.90572391 0.96346628\n",
            " 0.81444972 0.95668596 1.         0.89305057]\n",
            "Average Macro F1 Score of the 10 iterations: 0.9140505299128483\n",
            "--------------------------------------------------\n",
            "Precision Scores of each iteration from the 10 iterations: [0.99431818 0.81133272 0.90836364 0.89416486 0.9025974  0.99391234\n",
            " 0.81408754 0.9492     1.         0.89436027]\n",
            "Average Precision Score of the 10 iterations: 0.9162336953955136\n",
            "--------------------------------------------------\n",
            "Recall Scores of each iteration from the 10 iterations: [0.98484848 0.81212121 0.90909091 0.90291375 0.90909091 0.94848485\n",
            " 0.81481481 0.98201058 1.         0.89393939]\n",
            "Average Recall of the 10 iterations: 0.9157314907314907\n",
            "--------------------------------------------------\n"
          ]
        }
      ],
      "source": [
        "cross_val_scores_print(clf2_m, X_train_m, y_train_m, y_true_enc_m, cv=10)"
      ]
    },
    {
      "cell_type": "markdown",
      "metadata": {
        "id": "bbO-JzcpLgXJ"
      },
      "source": [
        "**Evaluation During test**"
      ]
    },
    {
      "cell_type": "code",
      "execution_count": 56,
      "metadata": {
        "id": "O-3CIdvBtOXh"
      },
      "outputs": [],
      "source": [
        "clf2_m = DecisionTreeClassifier(class_weight = 'balanced', random_state=0).fit(X_train_m, y_train_m)"
      ]
    },
    {
      "cell_type": "code",
      "execution_count": 57,
      "metadata": {
        "id": "64a7rpdBtOXi"
      },
      "outputs": [],
      "source": [
        "y_pred2_m = clf2_m.predict(X_test_m)"
      ]
    },
    {
      "cell_type": "code",
      "execution_count": 58,
      "metadata": {
        "colab": {
          "base_uri": "https://localhost:8080/"
        },
        "id": "EgIPlAzBtOXi",
        "outputId": "a96c0c9a-8a00-4c4b-dd17-bbff5119da10"
      },
      "outputs": [
        {
          "name": "stdout",
          "output_type": "stream",
          "text": [
            "                       precision    recall  f1-score   support\n",
            "\n",
            "               BENIGN       1.00      1.00      1.00      6686\n",
            "  gafgyt_combo_attack       0.67      0.67      0.67         6\n",
            "   gafgyt_junk_attack       0.98      0.98      0.98       113\n",
            "   gafgyt_scan_attack       1.00      1.00      1.00        60\n",
            "    gafgyt_tcp_attack       1.00      0.97      0.98        64\n",
            "    gafgyt_udp_attack       0.99      1.00      0.99       134\n",
            "     mirai_ack_attack       0.97      1.00      0.98        29\n",
            "    mirai_scan_attack       1.00      1.00      1.00        26\n",
            "     mirai_syn_attack       1.00      1.00      1.00        30\n",
            "     mirai_udp_attack       1.00      1.00      1.00       532\n",
            "mirai_udpplain_attack       1.00      1.00      1.00         3\n",
            "\n",
            "             accuracy                           1.00      7683\n",
            "            macro avg       0.96      0.97      0.96      7683\n",
            "         weighted avg       1.00      1.00      1.00      7683\n",
            "\n"
          ]
        }
      ],
      "source": [
        "c_report2_m = classification_report(y_test_m, y_pred2_m)\n",
        "print(c_report2_m)"
      ]
    },
    {
      "cell_type": "markdown",
      "metadata": {},
      "source": [
        "#### Training on the whole data and saving the model"
      ]
    },
    {
      "cell_type": "code",
      "execution_count": null,
      "metadata": {},
      "outputs": [],
      "source": [
        "clf2_m = DecisionTreeClassifier(class_weight = 'balanced', random_state=0).fit(df_x, df_y)"
      ]
    },
    {
      "cell_type": "code",
      "execution_count": 59,
      "metadata": {
        "colab": {
          "base_uri": "https://localhost:8080/"
        },
        "id": "YJNyw7FfTpLk",
        "outputId": "c8a8c17d-8de5-4194-a667-9ebb5e8002b0"
      },
      "outputs": [
        {
          "data": {
            "text/plain": [
              "['model_multi.bin']"
            ]
          },
          "execution_count": 59,
          "metadata": {},
          "output_type": "execute_result"
        }
      ],
      "source": [
        "dump(clf2_m, 'model_multi.bin', compress=True)"
      ]
    },
    {
      "cell_type": "markdown",
      "metadata": {
        "id": "sJnn8878tc9b"
      },
      "source": [
        "# **Dynamic Part (Adapt)**"
      ]
    },
    {
      "cell_type": "markdown",
      "metadata": {
        "id": "U9Bu6chZL2Bz"
      },
      "source": [
        "# 7. Load the model and Kafka"
      ]
    },
    {
      "cell_type": "code",
      "execution_count": 60,
      "metadata": {
        "id": "HINzN_KhL2B1"
      },
      "outputs": [],
      "source": [
        "model_multi = load('/content/model_multi.bin')\n",
        "model_multi_adapt = load('/content/model_multi.bin')\n",
        "\n",
        "# instantiate the KafkaConsumer Class using the arguments mentioned.\n",
        "# do not change any arguments other than the first positional argument.\n",
        "consumer = KafkaConsumer(\n",
        "    'task2',   # change this to \"task2\" for the IOT Botnet Detection  ---- important ----\n",
        "    bootstrap_servers=\"34.130.121.39:9092\",\n",
        "    sasl_plain_username=\"student\",\n",
        "    sasl_plain_password=\"uottawa\",\n",
        "    security_protocol=\"SASL_PLAINTEXT\",\n",
        "    sasl_mechanism=\"PLAIN\",\n",
        "    auto_offset_reset='earliest',\n",
        "    enable_auto_commit=False\n",
        ")"
      ]
    },
    {
      "cell_type": "markdown",
      "metadata": {
        "id": "NC0pOIU0MBa1"
      },
      "source": [
        "# 8. Initialization"
      ]
    },
    {
      "cell_type": "code",
      "execution_count": 61,
      "metadata": {
        "id": "dQD1aV91MDo1"
      },
      "outputs": [],
      "source": [
        "df_data.drop(columns = ['Source'], inplace = True)\n",
        "df_data.columns = df_data.columns.str.replace(' ','')\n",
        "df_conc_multi = df_data.copy()\n",
        "\n",
        "#### s: static, d: dynamic => subscripts are used in the multiclass problem\n",
        "#### while the naming is full in case of binary classification\n",
        "dict_str_problem = []\n",
        "f1_attack_mirai_s = []\n",
        "f1_attack_gafygt_s = []\n",
        "f1_macro_s = []\n",
        "precision_s = []\n",
        "recall_s = []\n",
        "\n",
        "### For Adaptive Model\n",
        "f1_attack_mirai_d = []\n",
        "f1_attack_gafygt_d = []\n",
        "f1_macro_d = []\n",
        "precision_d = []\n",
        "recall_d = []"
      ]
    },
    {
      "cell_type": "markdown",
      "metadata": {
        "id": "_N7czfqLMkMc"
      },
      "source": [
        "# 9. Adaptation Part (Loop)"
      ]
    },
    {
      "cell_type": "code",
      "execution_count": 62,
      "metadata": {
        "colab": {
          "base_uri": "https://localhost:8080/"
        },
        "id": "8UxhdhHXMwIO",
        "outputId": "9b1cb0db-0e35-44a6-8f24-7c98d870029f"
      },
      "outputs": [
        {
          "name": "stdout",
          "output_type": "stream",
          "text": [
            "(25609, 116)\n",
            "finished iteration 0\n",
            "(25609, 116)\n",
            "finished iteration 1\n",
            "(25609, 116)\n",
            "finished iteration 2\n",
            "(25609, 116)\n",
            "finished iteration 3\n",
            "(25609, 116)\n",
            "finished iteration 4\n",
            "(25609, 116)\n",
            "finished iteration 5\n",
            "(25609, 116)\n",
            "finished iteration 6\n",
            "(25609, 116)\n",
            "finished iteration 7\n",
            "(25609, 116)\n",
            "finished iteration 8\n",
            "(25609, 116)\n",
            "finished iteration 9\n",
            "(25609, 116)\n",
            "finished iteration 10\n",
            "(25609, 116)\n",
            "finished iteration 11\n",
            "(25609, 116)\n",
            "finished iteration 12\n",
            "(25609, 116)\n",
            "finished iteration 13\n",
            "(25609, 116)\n",
            "finished iteration 14\n",
            "(25609, 116)\n",
            "finished iteration 15\n",
            "(25609, 116)\n",
            "finished iteration 16\n",
            "(25609, 116)\n",
            "finished iteration 17\n",
            "(25609, 116)\n",
            "finished iteration 18\n",
            "(25609, 116)\n",
            "finished iteration 19\n",
            "(25609, 116)\n",
            "finished iteration 20\n",
            "(25609, 116)\n",
            "finished iteration 21\n",
            "(25609, 116)\n",
            "finished iteration 22\n",
            "(25609, 116)\n",
            "finished iteration 23\n",
            "(25609, 116)\n",
            "finished iteration 24\n",
            "(25609, 116)\n",
            "finished iteration 25\n",
            "(25609, 116)\n",
            "finished iteration 26\n",
            "(25609, 116)\n",
            "finished iteration 27\n",
            "(25609, 116)\n",
            "finished iteration 28\n",
            "(25609, 116)\n",
            "finished iteration 29\n",
            "(25609, 116)\n",
            "finished iteration 30\n",
            "(25609, 116)\n",
            "finished iteration 31\n",
            "(25609, 116)\n",
            "finished iteration 32\n",
            "(25609, 116)\n",
            "finished iteration 33\n",
            "(25609, 116)\n",
            "finished iteration 34\n",
            "(25609, 116)\n",
            "finished iteration 35\n",
            "(25609, 116)\n",
            "finished iteration 36\n",
            "(25609, 116)\n",
            "finished iteration 37\n",
            "(25609, 116)\n",
            "finished iteration 38\n",
            "(25609, 116)\n",
            "finished iteration 39\n",
            "(25609, 116)\n",
            "finished iteration 40\n",
            "(25609, 116)\n",
            "finished iteration 41\n",
            "(25609, 116)\n",
            "finished iteration 42\n",
            "(25609, 116)\n",
            "finished iteration 43\n",
            "(25609, 116)\n",
            "finished iteration 44\n",
            "(25609, 116)\n",
            "finished iteration 45\n",
            "(25609, 116)\n",
            "finished iteration 46\n",
            "(25609, 116)\n",
            "finished iteration 47\n",
            "(25609, 116)\n",
            "finished iteration 48\n",
            "(25609, 116)\n",
            "finished iteration 49\n",
            "(25609, 116)\n",
            "finished iteration 50\n",
            "(25609, 116)\n",
            "finished iteration 51\n",
            "(25609, 116)\n",
            "finished iteration 52\n",
            "(25609, 116)\n",
            "finished iteration 53\n",
            "(25609, 116)\n",
            "finished iteration 54\n",
            "(25609, 116)\n",
            "finished iteration 55\n",
            "(25609, 116)\n",
            "finished iteration 56\n",
            "(25609, 116)\n",
            "finished iteration 57\n",
            "(25609, 116)\n",
            "finished iteration 58\n",
            "(25609, 116)\n",
            "finished iteration 59\n",
            "(25609, 116)\n",
            "finished iteration 60\n",
            "(25609, 116)\n",
            "finished iteration 61\n",
            "(25609, 116)\n",
            "finished iteration 62\n",
            "(25609, 116)\n",
            "finished iteration 63\n",
            "(25609, 116)\n",
            "finished iteration 64\n",
            "(25609, 116)\n",
            "finished iteration 65\n",
            "(25609, 116)\n",
            "finished iteration 66\n",
            "(25609, 116)\n",
            "finished iteration 67\n",
            "(25609, 116)\n",
            "finished iteration 68\n",
            "(25609, 116)\n",
            "finished iteration 69\n",
            "(25609, 116)\n",
            "finished iteration 70\n",
            "(25609, 116)\n",
            "finished iteration 71\n",
            "(25609, 116)\n",
            "finished iteration 72\n",
            "(25609, 116)\n",
            "finished iteration 73\n",
            "(25609, 116)\n",
            "finished iteration 74\n",
            "(25609, 116)\n",
            "finished iteration 75\n",
            "(25609, 116)\n",
            "finished iteration 76\n",
            "(25609, 116)\n",
            "finished iteration 77\n",
            "(25609, 116)\n",
            "finished iteration 78\n",
            "(25609, 116)\n",
            "finished iteration 79\n",
            "(25609, 116)\n",
            "finished iteration 80\n",
            "(25609, 116)\n",
            "finished iteration 81\n",
            "(25609, 116)\n",
            "finished iteration 82\n",
            "(25609, 116)\n",
            "finished iteration 83\n",
            "(25609, 116)\n",
            "finished iteration 84\n",
            "(25609, 116)\n",
            "finished iteration 85\n",
            "(25609, 116)\n",
            "finished iteration 86\n",
            "(25609, 116)\n",
            "finished iteration 87\n",
            "(25609, 116)\n",
            "finished iteration 88\n",
            "(25609, 116)\n",
            "finished iteration 89\n",
            "(25609, 116)\n",
            "finished iteration 90\n",
            "(25609, 116)\n",
            "finished iteration 91\n",
            "(25609, 116)\n",
            "finished iteration 92\n",
            "(25609, 116)\n",
            "finished iteration 93\n",
            "(25609, 116)\n",
            "finished iteration 94\n",
            "(25609, 116)\n",
            "finished iteration 95\n",
            "(25609, 116)\n",
            "finished iteration 96\n",
            "(25609, 116)\n",
            "finished iteration 97\n",
            "(25609, 116)\n",
            "finished iteration 98\n",
            "(25609, 116)\n",
            "finished iteration 99\n"
          ]
        }
      ],
      "source": [
        "for j in range(100):\n",
        "    i = 0\n",
        "    y_pred = []\n",
        "    df_total = pd.DataFrame()\n",
        "    \n",
        "    for message in consumer:\n",
        "        # print(f\"Consuming the {i+1}th data packet!\")\n",
        "        data_packet = message.value\n",
        "\n",
        "        ##############################################\n",
        "        ##### 1st: Read Data ######\n",
        "        ## to read in a dataframe: https://stackoverflow.com/questions/17839973/constructing-pandas-dataframe-from-values-in-variables-gives-valueerror-if-usi\n",
        "        \n",
        "        dict_str = data_packet.decode(\"UTF-8\")\n",
        "        ## To evade the problem of failed packets => we just skip it and get another packet\n",
        "        try:\n",
        "          my_data = ast.literal_eval(dict_str)\n",
        "        except:\n",
        "          dict_str_problem.append(dict_str)\n",
        "          ## This adds the failed packets to a pickle file in order to be investigated afterwards (it happens in the Attack and Benign pkts)\n",
        "          with open('failed stream.pickle', 'wb') as handle:\n",
        "                pickle.dump(dict_str_problem, handle, protocol=pickle.HIGHEST_PROTOCOL)\n",
        "          continue\n",
        "\n",
        "        ## you may change this to a list or dictionary instead of complete dataframe, but the dataframe is to maintain the same names\n",
        "        ### This saves only one row each time\n",
        "        df = pd.DataFrame(my_data, index = [0])\n",
        "        ### Drop the Source column ####\n",
        "        df.drop(columns = ['Source'], inplace = True)\n",
        "        df.columns = df.columns.str.replace(' ','')\n",
        "\n",
        "        ####### 2nd: Predicting using the static model over each point from the stream #######\n",
        "        x = df.iloc[:, :-1]\n",
        "        y = df.iloc[:, -1]\n",
        "        \n",
        "        ## Predict\n",
        "        pred = model_multi.predict(x)\n",
        "        ## pred is numpy array while the y_test is a series\n",
        "        y_pred.append(pred)\n",
        "        \n",
        "        ####### Append the whole new stream in dataframe #######\n",
        "        df_total = df_total.append(df, ignore_index = True)\n",
        "\n",
        "        ###################################################################\n",
        "        ######### This process continues untill we reach 1000 packets then start adapting #############\n",
        "\n",
        "        ######## 2nd: Adapt ############\n",
        "        if i == 999: \n",
        "            #### True y ####\n",
        "            y_test = df_total.iloc[:, -1]\n",
        "\n",
        "            ###### Static Model Metrics #### \n",
        "            ### Note: we've already predicted each point using the static model\n",
        "            report = classification_report(y_test, y_pred, output_dict=True)\n",
        "            try:\n",
        "              f1_attack_mirai_s.append(report['mirai_udpplain_attack']['f1-score'])\n",
        "            except: \n",
        "              ##### If the class didn't appear in the stream put it with 0\n",
        "              f1_attack_mirai_s.append(0)\n",
        "            try:\n",
        "              f1_attack_gafygt_s.append(report['gafgyt_combo_attack']['f1-score'])\n",
        "            except:\n",
        "              f1_attack_gafygt_s.append(0)\n",
        "\n",
        "            f1_macro_s.append(report['macro avg']['f1-score'])\n",
        "            precision_s.append(report['macro avg']['precision'])\n",
        "            recall_s.append(report['macro avg']['recall'])\n",
        "\n",
        "            # print('f1 score for static model of attack for iteration {0} is: {1}: '.format(j, report['ATTACK']['f1-score']))\n",
        "\n",
        "            #### Previous dynamic Model Metrics; at first it's exactly like the static #####\n",
        "\n",
        "            y_pred_d = model_multi_adapt.predict(df_total.iloc[:, :-1])\n",
        "            report_d = classification_report(y_test, y_pred_d, output_dict=True)\n",
        "            try:\n",
        "              f1_attack_mirai_d.append(report_d['mirai_udpplain_attack']['f1-score'])\n",
        "            except: \n",
        "              ##### If the class didn't appear in the stream put it with 0\n",
        "              f1_attack_mirai_d.append(0)\n",
        "            try:\n",
        "              f1_attack_gafygt_d.append(report_d['gafgyt_combo_attack']['f1-score'])\n",
        "            except:\n",
        "              f1_attack_gafygt_d.append(0)\n",
        "\n",
        "            f1_macro_d.append(report_d['macro avg']['f1-score'])\n",
        "            precision_d.append(report_d['macro avg']['precision'])\n",
        "            recall_d.append(report_d['macro avg']['recall'])\n",
        "\n",
        "            ## Start from 1000 to the rest of the dataframe: It can be (1000) instead of length\n",
        "            df_reduce = df_conc_multi.iloc[len(df_total): , :]\n",
        "   \n",
        "            ### Concatenate the new stream with the resuced dataframe\n",
        "            df_conc_multi = pd.concat([df_reduce, df_total])\n",
        "            ### Check the new concatenated dataframe has the same shape each time\n",
        "            print(df_conc_multi.shape)\n",
        "            print(\"finished iteration {0}\".format(j))\n",
        "\n",
        "            #### Retrain the model ####\n",
        "            X_train = df_conc_multi.iloc[:, :-1]\n",
        "            y_train = df_conc_multi.iloc[:, -1]\n",
        "\n",
        "            ### Note that \"fit\" always start from scratch; not like transfer learning so it's the same as initializing the model from begining #### \n",
        "            model_multi_adapt = model_multi_adapt.fit(X_train, y_train)\n",
        "            break\n",
        "        \n",
        "        i += 1     "
      ]
    },
    {
      "cell_type": "markdown",
      "metadata": {
        "id": "U2jfB1quM-i5"
      },
      "source": [
        "# 10. Plot Performance metrics of the adaptation"
      ]
    },
    {
      "cell_type": "code",
      "execution_count": 63,
      "metadata": {
        "colab": {
          "base_uri": "https://localhost:8080/",
          "height": 267
        },
        "id": "5DDBsTXOM-i6",
        "outputId": "8b40d1a9-fe78-4ceb-9e99-540a7e4645dc"
      },
      "outputs": [
        {
          "data": {
            "image/png": "[encoded data removed]",
            "text/plain": [
              "<Figure size 650x260 with 2 Axes>"
            ]
          },
          "metadata": {
            "needs_background": "light"
          },
          "output_type": "display_data"
        }
      ],
      "source": [
        "## F1 Score of positive Classes\n",
        "fig = plt.figure(figsize=(10, 4), dpi=65)\n",
        "ax1 = fig.add_subplot(1, 2, 1)\n",
        "ax2 = fig.add_subplot(1, 2, 2)\n",
        "\n",
        "ax1.plot(f1_attack_gafygt_s, label = 'Static')\n",
        "ax1.plot(f1_attack_gafygt_d, label = 'Dynamic')\n",
        "ax1.set_xlabel(' # of Iterations')\n",
        "ax1.set_ylabel('F1 Scores')\n",
        "ax1.set_title('Gafygt Attack')\n",
        "ax1.legend()\n",
        "\n",
        "ax2.plot(f1_attack_mirai_s, label = 'Static')\n",
        "ax2.plot(f1_attack_mirai_d, label = 'Dynamic')\n",
        "ax2.set_xlabel(' # of Iterations')\n",
        "ax2.set_ylabel('F1 Scores')\n",
        "ax2.set_title('Mirai Attack')\n",
        "ax2.legend()\n",
        "\n",
        "plt.show()"
      ]
    },
    {
      "cell_type": "code",
      "execution_count": 64,
      "metadata": {
        "colab": {
          "base_uri": "https://localhost:8080/",
          "height": 267
        },
        "id": "M09crmI1M-i7",
        "outputId": "da01cec3-c061-4851-930b-d1c73fa29480"
      },
      "outputs": [
        {
          "data": {
            "image/png": "[encoded data removed]",
            "text/plain": [
              "<Figure size 650x260 with 2 Axes>"
            ]
          },
          "metadata": {
            "needs_background": "light"
          },
          "output_type": "display_data"
        }
      ],
      "source": [
        "### Precision and Recall as there's no avg precision recall for multi class\n",
        "fig = plt.figure(figsize=(10, 4), dpi=65)\n",
        "ax1 = fig.add_subplot(1, 2, 1)\n",
        "ax2 = fig.add_subplot(1, 2, 2)\n",
        "\n",
        "ax1.plot(precision_s, label = 'Static')\n",
        "ax1.plot(precision_d, label = 'Dynamic')\n",
        "ax1.set_xlabel(' # of Iterations')\n",
        "ax1.set_ylabel('Precision')\n",
        "ax1.set_title('Precision')\n",
        "ax1.legend()\n",
        "\n",
        "ax2.plot(recall_s, label = 'Static')\n",
        "ax2.plot(recall_d, label = 'Dynamic')\n",
        "ax2.set_xlabel(' # of Iterations')\n",
        "ax2.set_ylabel('Recall')\n",
        "ax2.set_title('Recall')\n",
        "ax2.legend()\n",
        "\n",
        "plt.show()"
      ]
    },
    {
      "cell_type": "markdown",
      "metadata": {
        "id": "Dj7ewoIgM-i9"
      },
      "source": [
        "# 11. Average of Performance Metrics over Iterations"
      ]
    },
    {
      "cell_type": "code",
      "execution_count": 65,
      "metadata": {
        "colab": {
          "base_uri": "https://localhost:8080/"
        },
        "id": "1gJikJsqM-i9",
        "outputId": "38bb14e7-f45c-4be0-ea31-8da77af3e732"
      },
      "outputs": [
        {
          "name": "stdout",
          "output_type": "stream",
          "text": [
            "Average of the Precision for Static = 0.9665\n",
            "Average of the Precision for Dynamic = 0.9659\n",
            "--------------------------------------------------\n",
            "Average of the Recall for Static = 0.9674\n",
            "Average of the Recall for Dynamic = 0.9645\n",
            "--------------------------------------------------\n",
            "Average of the Macro-F1-Score for Static = 0.966\n",
            "Average of the Macro-F1-Score for Dynamic = 0.9638\n",
            "--------------------------------------------------\n"
          ]
        }
      ],
      "source": [
        "## precision\n",
        "print(\"Average of the Precision for Static =\", round(mean(precision_s), 4))\n",
        "print(\"Average of the Precision for Dynamic =\", round(mean(precision_d), 4))\n",
        "print(50*'-')\n",
        "\n",
        "## Recall\n",
        "print(\"Average of the Recall for Static =\", round(mean(recall_s), 4))\n",
        "print(\"Average of the Recall for Dynamic =\", round(mean(recall_d), 4))\n",
        "print(50*'-')\n",
        "\n",
        "## F1 Score\n",
        "print(\"Average of the Macro-F1-Score for Static =\", round(mean(f1_macro_s), 4))\n",
        "print(\"Average of the Macro-F1-Score for Dynamic =\", round(mean(f1_macro_d), 4))\n",
        "print(50*'-')"
      ]
    },
    {
      "cell_type": "markdown",
      "metadata": {
        "id": "_tTAwivKM2Zu"
      },
      "source": [
        "# 12. End\n",
        "Notes, observations and Insights can be found in the report"
      ]
    }
  ],
  "metadata": {
    "accelerator": "GPU",
    "colab": {
      "collapsed_sections": [
        "17CerdS8hySV",
        "m9c0cGlgh5KR",
        "ioaE1V1miHJE",
        "iDRqDx_2DVHN",
        "NkPLe58VDyQN",
        "KyUVZqr5D-qI",
        "IPfS-V_QE9kq",
        "8OJqRseZpj_e",
        "pUqJO4caqPLC",
        "4c_UvFFZq8Uq"
      ],
      "name": "Ass2_AI_in_CS.ipynb",
      "provenance": []
    },
    "kernelspec": {
      "display_name": "Python 3",
      "name": "python3"
    },
    "language_info": {
      "name": "python"
    }
  },
  "nbformat": 4,
  "nbformat_minor": 0
}
